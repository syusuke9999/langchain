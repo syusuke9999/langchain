{
 "cells": [
  {
   "cell_type": "markdown",
   "id": "920a3c1a",
   "metadata": {},
   "source": [
    "# Model Comparison\n",
    "\n",
    "Constructing your language model application will likely involved choosing between many different options of prompts, models, and even chains to use. When doing so, you will want to compare these different options on different inputs in an easy, flexible, and intuitive way. \n",
    "\n",
    "LangChain provides the concept of a ModelLaboratory to test out and try different models."
   ]
  },
  {
   "cell_type": "code",
   "execution_count": null,
   "id": "ab9e95ad",
   "metadata": {},
   "outputs": [],
   "source": [
    "from langchain import LLMChain, OpenAI, Cohere, HuggingFaceHub, PromptTemplate\n",
    "from langchain.model_laboratory import ModelLaboratory"
   ]
  },
  {
   "cell_type": "code",
   "execution_count": null,
   "id": "32cb94e6",
   "metadata": {},
   "outputs": [],
   "source": [
    "llms = [\n",
    "    OpenAI(temperature=0), \n",
    "    Cohere(model=\"command-xlarge-20221108\", max_tokens=20, temperature=0), \n",
    "    HuggingFaceHub(repo_id=\"google/flan-t5-xl\", model_kwargs={\"temperature\":1})\n",
    "]"
   ]
  },
  {
   "cell_type": "code",
   "execution_count": null,
   "id": "14cde09d",
   "metadata": {},
   "outputs": [],
   "source": [
    "model_lab = ModelLaboratory.from_llms(llms)"
   ]
  },
  {
   "cell_type": "code",
   "execution_count": null,
   "id": "f186c741",
   "metadata": {},
   "outputs": [],
   "source": [
    "model_lab.compare(\"What color is a flamingo?\")"
   ]
  },
  {
   "cell_type": "code",
   "execution_count": null,
   "id": "248b652a",
   "metadata": {},
   "outputs": [],
   "source": [
    "prompt = PromptTemplate(template=\"What is the capital of {state}?\", input_variables=[\"state\"])\n",
    "model_lab_with_prompt = ModelLaboratory.from_llms(llms, prompt=prompt)"
   ]
  },
  {
   "cell_type": "code",
   "execution_count": null,
   "id": "f64377ac",
   "metadata": {},
   "outputs": [],
   "source": [
    "model_lab_with_prompt.compare(\"New York\")"
   ]
  },
  {
   "cell_type": "code",
   "execution_count": null,
   "id": "54336dbf",
   "metadata": {},
   "outputs": [],
   "source": [
    "from langchain import SelfAskWithSearchChain, SerpAPIWrapper\n",
    "\n",
    "open_ai_llm = OpenAI(temperature=0)\n",
    "search = SerpAPIWrapper()\n",
    "self_ask_with_search_openai = SelfAskWithSearchChain(llm=open_ai_llm, search_chain=search, verbose=True)\n",
    "\n",
    "cohere_llm = Cohere(temperature=0, model=\"command-xlarge-20221108\")\n",
    "search = SerpAPIWrapper()\n",
    "self_ask_with_search_cohere = SelfAskWithSearchChain(llm=cohere_llm, search_chain=search, verbose=True)"
   ]
  },
  {
   "cell_type": "code",
   "execution_count": null,
   "id": "6a50a9f1",
   "metadata": {},
   "outputs": [],
   "source": [
    "chains = [self_ask_with_search_openai, self_ask_with_search_cohere]\n",
    "names = [str(open_ai_llm), str(cohere_llm)]"
   ]
  },
  {
   "cell_type": "code",
   "execution_count": null,
   "id": "d3549e99",
   "metadata": {},
   "outputs": [],
   "source": [
    "model_lab = ModelLaboratory(chains, names=names)"
   ]
  },
  {
   "cell_type": "code",
   "execution_count": null,
   "id": "362f7f57",
   "metadata": {},
   "outputs": [],
   "source": [
    "model_lab.compare(\"What is the hometown of the reigning men's U.S. Open champion?\")"
   ]
  },
  {
   "cell_type": "code",
   "execution_count": null,
   "id": "94159131",
   "metadata": {},
   "outputs": [],
   "source": []
  }
 ],
 "metadata": {
  "kernelspec": {
   "display_name": "Python 3 (ipykernel)",
   "language": "python",
   "name": "python3"
  },
  "language_info": {
   "codemirror_mode": {
    "name": "ipython",
    "version": 3
   },
   "file_extension": ".py",
   "mimetype": "text/x-python",
   "name": "python",
   "nbconvert_exporter": "python",
   "pygments_lexer": "ipython3",
   "version": "3.10.9"
  }
 },
 "nbformat": 4,
 "nbformat_minor": 5
}

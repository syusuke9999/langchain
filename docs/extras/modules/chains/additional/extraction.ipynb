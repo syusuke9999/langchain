{
 "cells": [
  {
   "cell_type": "markdown",
   "id": "6605e7f7",
   "metadata": {},
   "source": [
    "# 抽出\n",
    "\n",
    "抽出チェーンはドキュメントからエンティティを抽出するためのスキーマを指定するためにOpenAIの `functions` パラメータを使用します。これにより、モデルが正確に私たちが望むエンティティやプロパティのスキーマを、適切なタイプで出力することができるようになります。\n",
    "\n",
    "抽出チェーンは、同じ文章から複数のエンティティとそのプロパティを抽出したい場合（例えば、この文章で誰が言及されていたか？）に使用されます。"
   ]
  },
  {
   "cell_type": "code",
   "execution_count": null,
   "outputs": [],
   "source": [
    "!pip install langchainplus_sdk"
   ],
   "metadata": {
    "collapsed": false
   }
  },
  {
   "cell_type": "code",
   "execution_count": null,
   "id": "34f04daf",
   "metadata": {
    "is_executing": true
   },
   "outputs": [],
   "source": [
    "from langchain.chat_models import ChatOpenAI\n",
    "from langchain.chains import create_extraction_chain, create_extraction_chain_pydantic\n",
    "from langchain.prompts import ChatPromptTemplate"
   ]
  },
  {
   "cell_type": "code",
   "execution_count": null,
   "id": "a2648974",
   "metadata": {
    "is_executing": true
   },
   "outputs": [],
   "source": [
    "llm = ChatOpenAI(temperature=0, model=\"gpt-3.5-turbo-0613\")"
   ]
  },
  {
   "cell_type": "markdown",
   "id": "5ef034ce",
   "metadata": {},
   "source": [
    "## エンティティの抽出"
   ]
  },
  {
   "cell_type": "markdown",
   "id": "78ff9df9",
   "metadata": {},
   "source": [
    "エンティティを抽出するためには、以下のようなスキーマを作成する必要があります。ここでは、見つけたいすべてのプロパティとそれらが持つべきタイプを指定します。また、これらのプロパティの中でどれが必須で、どれがオプションかも指定できます。"
   ]
  },
  {
   "cell_type": "code",
   "execution_count": null,
   "id": "4ac43eba",
   "metadata": {},
   "outputs": [],
   "source": [
    "schema = {\n",
    "    \"properties\": {\n",
    "        \"person_name\": {\"type\": \"string\"},\n",
    "        \"person_height\": {\"type\": \"integer\"},\n",
    "        \"person_sex\": {\"type\": \"string\"},\n",
    "        \"person_penis_size\": {\"type\": \"integer\"},\n",
    "        \"person_sex_position\": {\"type\": \"string\"},\n",
    "        \"person_hair_color\": {\"type\": \"string\"},\n",
    "    },\n",
    "    \"required\": [\"person_name\", \"person_height\"],\n",
    "}"
   ]
  },
  {
   "cell_type": "code",
   "execution_count": null,
   "id": "640bd005",
   "metadata": {
    "is_executing": true
   },
   "outputs": [],
   "source": [
    "inp = \"\"\"\n",
    "アレックスは身長が152.4cmです。クラウディアはアレックスよりも30.5cm背が高く彼よりもジャンプが高いです。クラウディアは黒髪でアレックスは金髪です。\n",
    "アレックスの犬のフロスティはラブラドールでかくれんぼが好きです。\n",
    "\"\"\""
   ]
  },
  {
   "cell_type": "code",
   "execution_count": null,
   "id": "64313214",
   "metadata": {},
   "outputs": [],
   "source": [
    "chain = create_extraction_chain(schema, llm)"
   ]
  },
  {
   "cell_type": "markdown",
   "id": "17c48adb",
   "metadata": {},
   "source": [
    "私たちが見て取れるように、必要なエンティティとそのプロパティを必要な形式で抽出しました："
   ]
  },
  {
   "cell_type": "code",
   "execution_count": null,
   "id": "cc5436ed",
   "metadata": {},
   "outputs": [],
   "source": [
    "chain.run(inp)"
   ]
  },
  {
   "cell_type": "markdown",
   "id": "698b4c4d",
   "metadata": {},
   "source": [
    "## Pydanticの例"
   ]
  },
  {
   "cell_type": "markdown",
   "id": "6504a6d9",
   "metadata": {},
   "source": [
    "また、Pydanticスキーマを使用して必要なプロパティや型を選択して、厳密には必要でないものを'Optional'として設定することもできます。\n",
    "\n",
    "そこで `create_extraction_chain_pydantic` 関数を使うことで、Pydantic のスキーマを入力として送信し、希望するスキーマを反映したオブジェクトのインスタンスを出力することができます。\n",
    "\n",
    "このように、新しいクラスや関数を Python で指定するのと同じように、純粋に Pythonic な型を使ってスキーマを指定することができます。"
   ]
  },
  {
   "cell_type": "code",
   "execution_count": null,
   "id": "6792866b",
   "metadata": {},
   "outputs": [],
   "source": [
    "from typing import Optional, List\n",
    "from pydantic import BaseModel, Field"
   ]
  },
  {
   "cell_type": "code",
   "execution_count": null,
   "id": "36a63761",
   "metadata": {},
   "outputs": [],
   "source": [
    "class Properties(BaseModel):\n",
    "    person_name: str\n",
    "    person_height: float\n",
    "    person_hair_color: str\n",
    "    person_sex: Optional[str]\n",
    "    person_sex_position: Optional[str]\n",
    "    person_penis_length: Optional[float]"
   ]
  },
  {
   "cell_type": "code",
   "execution_count": null,
   "id": "8ffd1e57",
   "metadata": {},
   "outputs": [],
   "source": [
    "chain = create_extraction_chain_pydantic(pydantic_schema=Properties, llm=llm)"
   ]
  },
  {
   "cell_type": "code",
   "execution_count": null,
   "id": "24baa954",
   "metadata": {
    "scrolled": false
   },
   "outputs": [],
   "source": [
    "inp = \"\"\"\n",
    "アレックスは身長が152.4cmです。クラウディアはアレックスよりも30.5cm背が高く彼よりもジャンプが高いです。クラウディアは黒髪でアレックスは金髪です。\n",
    "アレックスの犬のフロスティはラブラドールでかくれんぼが好きです。\n",
    "\"\"\""
   ]
  },
  {
   "cell_type": "markdown",
   "id": "84e0a241",
   "metadata": {},
   "source": [
    "私たちが見て取れるように、必要なエンティティとそのプロパティを必要な形式で抽出しました："
   ]
  },
  {
   "cell_type": "code",
   "execution_count": null,
   "id": "f771df58",
   "metadata": {},
   "outputs": [],
   "source": [
    "chain.run(inp)"
   ]
  },
  {
   "cell_type": "code",
   "execution_count": null,
   "id": "0df61283",
   "metadata": {},
   "outputs": [],
   "source": []
  }
 ],
 "metadata": {
  "kernelspec": {
   "display_name": "Python 3 (ipykernel)",
   "language": "python",
   "name": "python3"
  },
  "language_info": {
   "codemirror_mode": {
    "name": "ipython",
    "version": 3
   },
   "file_extension": ".py",
   "mimetype": "text/x-python",
   "name": "python",
   "nbconvert_exporter": "python",
   "pygments_lexer": "ipython3",
   "version": "3.9.1"
  }
 },
 "nbformat": 4,
 "nbformat_minor": 5
}

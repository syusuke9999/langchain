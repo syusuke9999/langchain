{
 "cells": [
  {
   "cell_type": "markdown",
   "id": "2dfc4698",
   "metadata": {},
   "source": [
    "# URL\n",
    "\n",
    "これは、URLのリストからHTMLドキュメントをロードし、後続の処理で使用できるドキュメント形式に変換する方法について解説します。"
   ]
  },
  {
   "cell_type": "code",
   "execution_count": 1,
   "id": "16c3699e",
   "metadata": {},
   "outputs": [],
   "source": [
    "from langchain.document_loaders import UnstructuredURLLoader"
   ]
  },
  {
   "cell_type": "code",
   "execution_count": 2,
   "id": "836fbac1",
   "metadata": {},
   "outputs": [],
   "source": [
    "urls = [\n",
    "    \"https://www.understandingwar.org/backgrounder/russian-offensive-campaign-assessment-february-8-2023\",\n",
    "    \"https://www.understandingwar.org/backgrounder/russian-offensive-campaign-assessment-february-9-2023\",\n",
    "]"
   ]
  },
  {
   "cell_type": "markdown",
   "id": "33089aba-ff74-4d00-8f40-9449c29587cc",
   "metadata": {},
   "source": [
    "ssl_verificationエラーを回避するために、ssl_verify=Falseとheaders=headersを渡してください。"
   ]
  },
  {
   "cell_type": "code",
   "execution_count": 3,
   "id": "00f46fda",
   "metadata": {},
   "outputs": [],
   "source": [
    "loader = UnstructuredURLLoader(urls=urls)"
   ]
  },
  {
   "cell_type": "code",
   "execution_count": 4,
   "id": "b68a26b3",
   "metadata": {},
   "outputs": [],
   "source": [
    "data = loader.load()"
   ]
  },
  {
   "attachments": {},
   "cell_type": "markdown",
   "id": "f3afa135",
   "metadata": {},
   "source": [
    "# Selenium URL Loader\n",
    "\n",
    "これは、`SeleniumURLLoader`を使用してURLのリストからHTMLドキュメントをロードする方法について説明します。\n",
    "\n",
    "Seleniumを使用すると、JavaScriptでレンダリングが必要なページをロードできます。\n",
    "\n",
    "## セットアップ\n",
    "\n",
    "`SeleniumURLLoader`を使用するには、`selenium`と`unstructured`をインストールする必要があります。\n"
   ]
  },
  {
   "cell_type": "code",
   "execution_count": null,
   "id": "5fc50835",
   "metadata": {},
   "outputs": [],
   "source": [
    "from langchain.document_loaders import SeleniumURLLoader"
   ]
  },
  {
   "cell_type": "code",
   "execution_count": null,
   "id": "24e896ce",
   "metadata": {},
   "outputs": [],
   "source": [
    "urls = [\n",
    "    \"https://www.youtube.com/watch?v=dQw4w9WgXcQ\",\n",
    "    \"https://goo.gl/maps/NDSHwePEyaHMFGwh8\",\n",
    "]"
   ]
  },
  {
   "cell_type": "code",
   "execution_count": null,
   "id": "60a29397",
   "metadata": {},
   "outputs": [],
   "source": [
    "loader = SeleniumURLLoader(urls=urls)"
   ]
  },
  {
   "cell_type": "code",
   "execution_count": null,
   "id": "0090cd57",
   "metadata": {},
   "outputs": [],
   "source": [
    "data = loader.load()"
   ]
  },
  {
   "attachments": {},
   "cell_type": "markdown",
   "id": "a2c1c79f",
   "metadata": {},
   "source": [
    "# Playwright URL Loader\n",
    "\n",
    "これは、`PlaywrightURLLoader`を使用してURLのリストからHTMLドキュメントをロードする方法について説明します。\n",
    "\n",
    "Seleniumの場合と同様に、Playwrightを使用するとJavaScriptでレンダリングが必要なページをロードできます。\n",
    "\n",
    "## セットアップ\n",
    "\n",
    "`PlaywrightURLLoader`を使用するには、`playwright`と`unstructured`をインストールする必要があります。さらに、PlaywrightのChromiumブラウザをインストールする必要があります："
   ]
  },
  {
   "cell_type": "code",
   "execution_count": null,
   "id": "53158417",
   "metadata": {},
   "outputs": [],
   "source": [
    "# Install playwright\n",
    "!pip install \"playwright\"\n",
    "!pip install \"unstructured\"\n",
    "!playwright install"
   ]
  },
  {
   "cell_type": "code",
   "execution_count": null,
   "id": "0ab4e115",
   "metadata": {},
   "outputs": [],
   "source": [
    "from langchain.document_loaders import PlaywrightURLLoader"
   ]
  },
  {
   "cell_type": "code",
   "execution_count": null,
   "id": "ce5a9a0a",
   "metadata": {},
   "outputs": [],
   "source": [
    "urls = [\n",
    "    \"https://www.youtube.com/watch?v=dQw4w9WgXcQ\",\n",
    "    \"https://goo.gl/maps/NDSHwePEyaHMFGwh8\",\n",
    "]"
   ]
  },
  {
   "cell_type": "code",
   "execution_count": null,
   "id": "2dc3e0bc",
   "metadata": {},
   "outputs": [],
   "source": [
    "loader = PlaywrightURLLoader(urls=urls, remove_selectors=[\"header\", \"footer\"])"
   ]
  },
  {
   "cell_type": "code",
   "execution_count": null,
   "id": "10b79f80",
   "metadata": {},
   "outputs": [],
   "source": [
    "data = loader.load()"
   ]
  }
 ],
 "metadata": {
  "kernelspec": {
   "display_name": "Python 3 (ipykernel)",
   "language": "python",
   "name": "python3"
  },
  "language_info": {
   "codemirror_mode": {
    "name": "ipython",
    "version": 3
   },
   "file_extension": ".py",
   "mimetype": "text/x-python",
   "name": "python",
   "nbconvert_exporter": "python",
   "pygments_lexer": "ipython3",
   "version": "3.10.6"
  }
 },
 "nbformat": 4,
 "nbformat_minor": 5
}

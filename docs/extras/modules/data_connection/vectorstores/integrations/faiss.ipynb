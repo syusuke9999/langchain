{
 "cells": [
  {
   "attachments": {},
   "cell_type": "markdown",
   "id": "683953b3",
   "metadata": {},
   "source": [
    "# FAISS\n",
    "\n",
    ">[Facebook AI Similarity Search (Faiss)](https://engineering.fb.com/2017/03/29/data-infrastructure/faiss-a-library-for-efficient-similarity-search/)は、密なベクトルの効率的な類似性検索とクラスタリングのためのライブラリです。RAMに収まらない可能性のある任意のサイズのベクトルセットで検索するアルゴリズムを含んでいます。また、評価とパラメータチューニングのための補助コードも含まれています。\n",
    "\n",
    "[Faissのドキュメンテーション](https://faiss.ai/)。\n",
    "\n",
    "このノートブックでは、`FAISS`ベクトルデータベースに関連する機能の使用方法を示します。"
   ]
  },
  {
   "cell_type": "code",
   "execution_count": 6,
   "id": "497fcd89-e832-46a7-a74a-c71199666206",
   "metadata": {
    "tags": [],
    "ExecuteTime": {
     "end_time": "2023-06-25T23:05:55.804942100Z",
     "start_time": "2023-06-25T23:05:48.199075400Z"
    }
   },
   "outputs": [
    {
     "name": "stdout",
     "output_type": "stream",
     "text": [
      "Requirement already satisfied: faiss-cpu in c:\\users\\yagi-\\dropbox\\pycharmprojects\\langchain-ja\\.venv\\lib\\site-packages (1.7.4)\n",
      "Collecting tiktoken\n",
      "  Using cached tiktoken-0.4.0-cp311-cp311-win_amd64.whl (635 kB)\n",
      "Collecting regex>=2022.1.18 (from tiktoken)\n",
      "  Using cached regex-2023.6.3-cp311-cp311-win_amd64.whl (268 kB)\n",
      "Requirement already satisfied: requests>=2.26.0 in c:\\users\\yagi-\\dropbox\\pycharmprojects\\langchain-ja\\.venv\\lib\\site-packages (from tiktoken) (2.28.2)\n",
      "Requirement already satisfied: charset-normalizer<4,>=2 in c:\\users\\yagi-\\dropbox\\pycharmprojects\\langchain-ja\\.venv\\lib\\site-packages (from requests>=2.26.0->tiktoken) (3.1.0)\n",
      "Requirement already satisfied: idna<4,>=2.5 in c:\\users\\yagi-\\dropbox\\pycharmprojects\\langchain-ja\\.venv\\lib\\site-packages (from requests>=2.26.0->tiktoken) (3.4)\n",
      "Requirement already satisfied: urllib3<1.27,>=1.21.1 in c:\\users\\yagi-\\dropbox\\pycharmprojects\\langchain-ja\\.venv\\lib\\site-packages (from requests>=2.26.0->tiktoken) (1.26.16)\n",
      "Requirement already satisfied: certifi>=2017.4.17 in c:\\users\\yagi-\\dropbox\\pycharmprojects\\langchain-ja\\.venv\\lib\\site-packages (from requests>=2.26.0->tiktoken) (2023.5.7)\n",
      "Installing collected packages: regex, tiktoken\n",
      "Successfully installed regex-2023.6.3 tiktoken-0.4.0\n"
     ]
    }
   ],
   "source": [
    "#!pip install faiss\n",
    "# OR\n",
    "!pip install faiss-cpu\n",
    "!pip install tiktoken"
   ]
  },
  {
   "attachments": {},
   "cell_type": "markdown",
   "id": "38237514-b3fa-44a4-9cff-30cd6bf50073",
   "metadata": {},
   "source": [
    "OpenAIEmbeddingsを使用したいので、OpenAI APIキーを取得する必要があります。"
   ]
  },
  {
   "cell_type": "code",
   "execution_count": 7,
   "id": "47f9b495-88f1-4286-8d5d-1416103931a7",
   "metadata": {
    "tags": [],
    "ExecuteTime": {
     "end_time": "2023-06-25T23:06:00.105910500Z",
     "start_time": "2023-06-25T23:05:56.860326700Z"
    }
   },
   "outputs": [],
   "source": [
    "import os\n",
    "import getpass\n",
    "\n",
    "os.environ[\"OPENAI_API_KEY\"] = getpass.getpass(\"OpenAI API Key:\")\n",
    "\n",
    "# AVX2最適化なしでFAISSを初期化する必要がある場合は、以下の行のコメントを解除してください\n",
    "# os.environ['FAISS_NO_AVX2'] = '1'"
   ]
  },
  {
   "cell_type": "code",
   "execution_count": 8,
   "id": "aac9563e",
   "metadata": {
    "tags": [],
    "ExecuteTime": {
     "end_time": "2023-06-25T23:06:01.205909900Z",
     "start_time": "2023-06-25T23:06:01.196900600Z"
    }
   },
   "outputs": [],
   "source": [
    "from langchain.embeddings.openai import OpenAIEmbeddings\n",
    "from langchain.text_splitter import CharacterTextSplitter\n",
    "from langchain.vectorstores import FAISS\n",
    "from langchain.document_loaders import TextLoader"
   ]
  },
  {
   "cell_type": "code",
   "execution_count": 9,
   "id": "a3c3999a",
   "metadata": {
    "tags": [],
    "ExecuteTime": {
     "end_time": "2023-06-25T23:06:01.810084200Z",
     "start_time": "2023-06-25T23:06:01.785456600Z"
    }
   },
   "outputs": [],
   "source": [
    "from langchain.document_loaders import TextLoader\n",
    "\n",
    "loader = TextLoader(\"../../../state_of_the_union.txt\")\n",
    "documents = loader.load()\n",
    "text_splitter = CharacterTextSplitter(chunk_size=1000, chunk_overlap=0)\n",
    "docs = text_splitter.split_documents(documents)\n",
    "\n",
    "embeddings = OpenAIEmbeddings()"
   ]
  },
  {
   "cell_type": "code",
   "execution_count": 10,
   "id": "5eabdb75",
   "metadata": {
    "tags": [],
    "ExecuteTime": {
     "end_time": "2023-06-25T23:06:07.459779300Z",
     "start_time": "2023-06-25T23:06:02.741995900Z"
    }
   },
   "outputs": [],
   "source": [
    "db = FAISS.from_documents(docs, embeddings)\n",
    "\n",
    "query = \"ケタンジ・ブラウン・ジャクソンについて、大統領は何と言いましたか？\"\n",
    "docs = db.similarity_search(query)"
   ]
  },
  {
   "cell_type": "code",
   "execution_count": 11,
   "id": "4b172de8",
   "metadata": {
    "tags": [],
    "ExecuteTime": {
     "end_time": "2023-06-25T23:06:08.960914300Z",
     "start_time": "2023-06-25T23:06:08.930233300Z"
    }
   },
   "outputs": [
    {
     "name": "stdout",
     "output_type": "stream",
     "text": [
      "Tonight. I call on the Senate to: Pass the Freedom to Vote Act. Pass the John Lewis Voting Rights Act. And while you’re at it, pass the Disclose Act so Americans can know who is funding our elections. \n",
      "\n",
      "Tonight, I’d like to honor someone who has dedicated his life to serve this country: Justice Stephen Breyer—an Army veteran, Constitutional scholar, and retiring Justice of the United States Supreme Court. Justice Breyer, thank you for your service. \n",
      "\n",
      "One of the most serious constitutional responsibilities a President has is nominating someone to serve on the United States Supreme Court. \n",
      "\n",
      "And I did that 4 days ago, when I nominated Circuit Court of Appeals Judge Ketanji Brown Jackson. One of our nation’s top legal minds, who will continue Justice Breyer’s legacy of excellence.\n"
     ]
    }
   ],
   "source": [
    "print(docs[0].page_content)"
   ]
  },
  {
   "attachments": {},
   "cell_type": "markdown",
   "id": "f13473b5",
   "metadata": {},
   "source": [
    "## スコア付き類似性検索\n",
    "FAISS特有のメソッドがいくつかあります。その一つが`similarity_search_with_score`で、これにより文書だけでなく、クエリとそれらの文書との間の距離スコアも返すことができます。返される距離スコアはL2距離です。したがって、スコアが低いほど良いです。"
   ]
  },
  {
   "cell_type": "code",
   "execution_count": 12,
   "id": "186ee1d8",
   "metadata": {
    "ExecuteTime": {
     "end_time": "2023-06-25T23:06:12.847799700Z",
     "start_time": "2023-06-25T23:06:12.636290700Z"
    }
   },
   "outputs": [],
   "source": [
    "docs_and_scores = db.similarity_search_with_score(query)"
   ]
  },
  {
   "cell_type": "code",
   "execution_count": 13,
   "id": "284e04b5",
   "metadata": {
    "ExecuteTime": {
     "end_time": "2023-06-25T23:06:13.622910Z",
     "start_time": "2023-06-25T23:06:13.603443500Z"
    }
   },
   "outputs": [
    {
     "data": {
      "text/plain": "(Document(page_content='Tonight. I call on the Senate to: Pass the Freedom to Vote Act. Pass the John Lewis Voting Rights Act. And while you’re at it, pass the Disclose Act so Americans can know who is funding our elections. \\n\\nTonight, I’d like to honor someone who has dedicated his life to serve this country: Justice Stephen Breyer—an Army veteran, Constitutional scholar, and retiring Justice of the United States Supreme Court. Justice Breyer, thank you for your service. \\n\\nOne of the most serious constitutional responsibilities a President has is nominating someone to serve on the United States Supreme Court. \\n\\nAnd I did that 4 days ago, when I nominated Circuit Court of Appeals Judge Ketanji Brown Jackson. One of our nation’s top legal minds, who will continue Justice Breyer’s legacy of excellence.', metadata={'source': '../../../state_of_the_union.txt'}),\n 0.45091543)"
     },
     "execution_count": 13,
     "metadata": {},
     "output_type": "execute_result"
    }
   ],
   "source": [
    "docs_and_scores[0]"
   ]
  },
  {
   "attachments": {},
   "cell_type": "markdown",
   "id": "f34420cf",
   "metadata": {},
   "source": [
    "また、`similarity_search_by_vector`を使用して、与えられた埋め込みベクトルに類似した文書を検索することも可能です。これは文字列の代わりに埋め込みベクトルをパラメータとして受け取ります。"
   ]
  },
  {
   "cell_type": "code",
   "execution_count": 14,
   "id": "b558ebb7",
   "metadata": {
    "ExecuteTime": {
     "end_time": "2023-06-25T23:06:16.846253900Z",
     "start_time": "2023-06-25T23:06:16.641891900Z"
    }
   },
   "outputs": [],
   "source": [
    "embedding_vector = embeddings.embed_query(query)\n",
    "docs_and_scores = db.similarity_search_by_vector(embedding_vector)"
   ]
  },
  {
   "attachments": {},
   "cell_type": "markdown",
   "id": "31bda7fd",
   "metadata": {},
   "source": [
    "## 保存と読み込み\n",
    "FAISSインデックスも保存と読み込みが可能です。これは、毎回インデックスを再作成する必要がないため便利です。"
   ]
  },
  {
   "cell_type": "code",
   "execution_count": 15,
   "id": "428a6816",
   "metadata": {
    "ExecuteTime": {
     "end_time": "2023-06-25T23:06:19.057839300Z",
     "start_time": "2023-06-25T23:06:19.040397500Z"
    }
   },
   "outputs": [],
   "source": [
    "db.save_local(\"faiss_index\")"
   ]
  },
  {
   "cell_type": "code",
   "execution_count": 16,
   "id": "56d1841c",
   "metadata": {
    "ExecuteTime": {
     "end_time": "2023-06-25T23:06:19.958634300Z",
     "start_time": "2023-06-25T23:06:19.946602800Z"
    }
   },
   "outputs": [],
   "source": [
    "new_db = FAISS.load_local(\"faiss_index\", embeddings)"
   ]
  },
  {
   "cell_type": "code",
   "execution_count": 17,
   "id": "39055525",
   "metadata": {
    "ExecuteTime": {
     "end_time": "2023-06-25T23:06:21.068762200Z",
     "start_time": "2023-06-25T23:06:20.841265400Z"
    }
   },
   "outputs": [],
   "source": [
    "docs = new_db.similarity_search(query)"
   ]
  },
  {
   "cell_type": "code",
   "execution_count": 18,
   "id": "98378c4e",
   "metadata": {
    "ExecuteTime": {
     "end_time": "2023-06-25T23:06:21.355091200Z",
     "start_time": "2023-06-25T23:06:21.341572Z"
    }
   },
   "outputs": [
    {
     "data": {
      "text/plain": "Document(page_content='Tonight. I call on the Senate to: Pass the Freedom to Vote Act. Pass the John Lewis Voting Rights Act. And while you’re at it, pass the Disclose Act so Americans can know who is funding our elections. \\n\\nTonight, I’d like to honor someone who has dedicated his life to serve this country: Justice Stephen Breyer—an Army veteran, Constitutional scholar, and retiring Justice of the United States Supreme Court. Justice Breyer, thank you for your service. \\n\\nOne of the most serious constitutional responsibilities a President has is nominating someone to serve on the United States Supreme Court. \\n\\nAnd I did that 4 days ago, when I nominated Circuit Court of Appeals Judge Ketanji Brown Jackson. One of our nation’s top legal minds, who will continue Justice Breyer’s legacy of excellence.', metadata={'source': '../../../state_of_the_union.txt'})"
     },
     "execution_count": 18,
     "metadata": {},
     "output_type": "execute_result"
    }
   ],
   "source": [
    "docs[0]"
   ]
  },
  {
   "attachments": {},
   "cell_type": "markdown",
   "id": "57da60d4",
   "metadata": {},
   "source": [
    "## マージ\n",
    "また、2つのFAISSベクトルストアをマージすることも可能です。"
   ]
  },
  {
   "cell_type": "code",
   "execution_count": 19,
   "id": "6dfd2b78",
   "metadata": {
    "ExecuteTime": {
     "end_time": "2023-06-25T23:06:24.783815100Z",
     "start_time": "2023-06-25T23:06:24.375075700Z"
    }
   },
   "outputs": [],
   "source": [
    "db1 = FAISS.from_texts([\"foo\"], embeddings)\n",
    "db2 = FAISS.from_texts([\"bar\"], embeddings)"
   ]
  },
  {
   "cell_type": "code",
   "execution_count": 20,
   "id": "29960da7",
   "metadata": {
    "ExecuteTime": {
     "end_time": "2023-06-25T23:06:27.485763600Z",
     "start_time": "2023-06-25T23:06:27.475421600Z"
    }
   },
   "outputs": [
    {
     "data": {
      "text/plain": "{'8e96232a-92bd-485c-aefb-e86aba99c025': Document(page_content='foo', metadata={})}"
     },
     "execution_count": 20,
     "metadata": {},
     "output_type": "execute_result"
    }
   ],
   "source": [
    "db1.docstore._dict"
   ]
  },
  {
   "cell_type": "code",
   "execution_count": 21,
   "id": "83392605",
   "metadata": {
    "ExecuteTime": {
     "end_time": "2023-06-25T23:06:28.914471Z",
     "start_time": "2023-06-25T23:06:28.901781200Z"
    }
   },
   "outputs": [
    {
     "data": {
      "text/plain": "{'7f18b347-38a3-4c3f-b50b-3df0ab3a59e5': Document(page_content='bar', metadata={})}"
     },
     "execution_count": 21,
     "metadata": {},
     "output_type": "execute_result"
    }
   ],
   "source": [
    "db2.docstore._dict"
   ]
  },
  {
   "cell_type": "code",
   "execution_count": 22,
   "id": "a3fcc1c7",
   "metadata": {
    "ExecuteTime": {
     "end_time": "2023-06-25T23:06:29.422561100Z",
     "start_time": "2023-06-25T23:06:29.411036800Z"
    }
   },
   "outputs": [],
   "source": [
    "db1.merge_from(db2)"
   ]
  },
  {
   "cell_type": "code",
   "execution_count": 23,
   "id": "41c51f89",
   "metadata": {
    "ExecuteTime": {
     "end_time": "2023-06-25T23:06:30.207309700Z",
     "start_time": "2023-06-25T23:06:30.194451300Z"
    }
   },
   "outputs": [
    {
     "data": {
      "text/plain": "{'8e96232a-92bd-485c-aefb-e86aba99c025': Document(page_content='foo', metadata={}),\n '7f18b347-38a3-4c3f-b50b-3df0ab3a59e5': Document(page_content='bar', metadata={})}"
     },
     "execution_count": 23,
     "metadata": {},
     "output_type": "execute_result"
    }
   ],
   "source": [
    "db1.docstore._dict"
   ]
  },
  {
   "attachments": {},
   "cell_type": "markdown",
   "id": "f4294b96",
   "metadata": {},
   "source": [
    "## フィルタリング付き類似性検索\n",
    "FAISSベクトルストアはフィルタリングもサポートしていますが、FAISSはネイティブではフィルタリングをサポートしていないため、手動で行う必要があります。これは、まず`k`より多くの結果を取得し、それからフィルタリングすることで行われます。メタデータに基づいて文書をフィルタリングすることができます。また、任意の検索メソッドを呼び出す際に`fetch_k`パラメータを設定して、フィルタリング前に取得したい文書の数を設定することもできます。以下に簡単な例を示します："
   ]
  },
  {
   "cell_type": "code",
   "execution_count": 24,
   "id": "d5bf812c",
   "metadata": {
    "ExecuteTime": {
     "end_time": "2023-06-25T23:06:32.953787500Z",
     "start_time": "2023-06-25T23:06:32.211749Z"
    }
   },
   "outputs": [
    {
     "name": "stdout",
     "output_type": "stream",
     "text": [
      "Content: foo, Metadata: {'page': 1}, Score: 5.1599612373143776e-15\n",
      "Content: foo, Metadata: {'page': 2}, Score: 5.1599612373143776e-15\n",
      "Content: foo, Metadata: {'page': 3}, Score: 5.1599612373143776e-15\n",
      "Content: foo, Metadata: {'page': 4}, Score: 5.1599612373143776e-15\n"
     ]
    }
   ],
   "source": [
    "from langchain.schema import Document\n",
    "\n",
    "list_of_documents = [\n",
    "    Document(page_content=\"foo\", metadata=dict(page=1)),\n",
    "    Document(page_content=\"bar\", metadata=dict(page=1)),\n",
    "    Document(page_content=\"foo\", metadata=dict(page=2)),\n",
    "    Document(page_content=\"barbar\", metadata=dict(page=2)),\n",
    "    Document(page_content=\"foo\", metadata=dict(page=3)),\n",
    "    Document(page_content=\"bar burr\", metadata=dict(page=3)),\n",
    "    Document(page_content=\"foo\", metadata=dict(page=4)),\n",
    "    Document(page_content=\"bar bruh\", metadata=dict(page=4)),\n",
    "]\n",
    "db = FAISS.from_documents(list_of_documents, embeddings)\n",
    "results_with_scores = db.similarity_search_with_score(\"foo\")\n",
    "for doc, score in results_with_scores:\n",
    "    print(f\"Content: {doc.page_content}, Metadata: {doc.metadata}, Score: {score}\")"
   ]
  },
  {
   "attachments": {},
   "cell_type": "markdown",
   "id": "3d33c126",
   "metadata": {},
   "source": [
    "次に、同じクエリを呼び出しますが、`page = 1`のみをフィルタリングします。"
   ]
  },
  {
   "cell_type": "code",
   "execution_count": 25,
   "id": "83159330",
   "metadata": {
    "ExecuteTime": {
     "end_time": "2023-06-25T23:06:34.710716400Z",
     "start_time": "2023-06-25T23:06:34.409391900Z"
    }
   },
   "outputs": [
    {
     "name": "stdout",
     "output_type": "stream",
     "text": [
      "Content: foo, Metadata: {'page': 1}, Score: 5.1599612373143776e-15\n",
      "Content: bar, Metadata: {'page': 1}, Score: 0.3131446838378906\n"
     ]
    }
   ],
   "source": [
    "results_with_scores = db.similarity_search_with_score(\"foo\", filter=dict(page=1))\n",
    "for doc, score in results_with_scores:\n",
    "    print(f\"Content: {doc.page_content}, Metadata: {doc.metadata}, Score: {score}\")"
   ]
  },
  {
   "attachments": {},
   "cell_type": "markdown",
   "id": "0be136e0",
   "metadata": {},
   "source": [
    "同様のことは`max_marginal_relevance_search`でも行うことができます。"
   ]
  },
  {
   "cell_type": "code",
   "execution_count": 26,
   "id": "432c6980",
   "metadata": {
    "ExecuteTime": {
     "end_time": "2023-06-25T23:06:36.511927Z",
     "start_time": "2023-06-25T23:06:36.293427Z"
    }
   },
   "outputs": [
    {
     "name": "stdout",
     "output_type": "stream",
     "text": [
      "Content: foo, Metadata: {'page': 1}\n",
      "Content: bar, Metadata: {'page': 1}\n"
     ]
    }
   ],
   "source": [
    "results = db.max_marginal_relevance_search(\"foo\", filter=dict(page=1))\n",
    "for doc in results:\n",
    "    print(f\"Content: {doc.page_content}, Metadata: {doc.metadata}\")"
   ]
  },
  {
   "attachments": {},
   "cell_type": "markdown",
   "id": "1b4ecd86",
   "metadata": {},
   "source": [
    "以下は、`similarity_search`を呼び出す際に`fetch_k`パラメータを設定する方法の例です。通常、`fetch_k`パラメータは`k`パラメータよりも大きく設定します。これは、`fetch_k`パラメータがフィルタリング前に取得される文書の数であるためです。`fetch_k`を低い数値に設定すると、フィルタリングするための十分な文書が得られない可能性があります。"
   ]
  },
  {
   "cell_type": "code",
   "execution_count": 27,
   "id": "1fd60fd1",
   "metadata": {
    "ExecuteTime": {
     "end_time": "2023-06-25T23:06:38.454429800Z",
     "start_time": "2023-06-25T23:06:38.146321600Z"
    }
   },
   "outputs": [
    {
     "name": "stdout",
     "output_type": "stream",
     "text": [
      "Content: foo, Metadata: {'page': 1}, Score: 5.1599612373143776e-15\n",
      "Content: bar, Metadata: {'page': 1}, Score: 0.3131446838378906\n"
     ]
    }
   ],
   "source": [
    "results = db.similarity_search(\"foo\", filter=dict(page=1), k=1, fetch_k=4)\n",
    "for doc, score in results_with_scores:\n",
    "    print(f\"Content: {doc.page_content}, Metadata: {doc.metadata}, Score: {score}\")"
   ]
  },
  {
   "cell_type": "code",
   "execution_count": null,
   "outputs": [],
   "source": [],
   "metadata": {
    "collapsed": false
   }
  }
 ],
 "metadata": {
  "kernelspec": {
   "display_name": "Python 3 (ipykernel)",
   "language": "python",
   "name": "python3"
  },
  "language_info": {
   "codemirror_mode": {
    "name": "ipython",
    "version": 3
   },
   "file_extension": ".py",
   "mimetype": "text/x-python",
   "name": "python",
   "nbconvert_exporter": "python",
   "pygments_lexer": "ipython3",
   "version": "3.9.16"
  }
 },
 "nbformat": 4,
 "nbformat_minor": 5
}

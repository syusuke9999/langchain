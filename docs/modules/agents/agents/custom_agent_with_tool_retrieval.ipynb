{
 "cells": [
  {
   "cell_type": "markdown",
   "source": [
    "このノートブックでは、やや複雑なサンプルを作成することにします。1つの正規のツール（検索）と、99の偽ツール（無意味なもの）を用意することにしましょう。そして、ユーザーからの入力を受けて、クエリに関連するツールを検索するステップをプロンプトテンプレートに追加します。"
   ],
   "metadata": {
    "collapsed": false
   }
  },
  {
   "cell_type": "markdown",
   "id": "fea4812c",
   "metadata": {},
   "source": [
    "## 環境を整える\n",
    "\n",
    "必要なインポートなどを行う。"
   ]
  },
  {
   "cell_type": "code",
   "execution_count": 3,
   "id": "9af9734e",
   "metadata": {
    "ExecuteTime": {
     "end_time": "2023-05-12T10:48:22.170985900Z",
     "start_time": "2023-05-12T10:48:20.392026300Z"
    }
   },
   "outputs": [],
   "source": [
    "from langchain.agents import Tool, AgentExecutor, LLMSingleActionAgent, AgentOutputParser\n",
    "from langchain.prompts import StringPromptTemplate\n",
    "from langchain import OpenAI, SerpAPIWrapper, LLMChain\n",
    "from typing import List, Union\n",
    "from langchain.schema import AgentAction, AgentFinish\n",
    "import re"
   ]
  },
  {
   "cell_type": "markdown",
   "id": "6df0253f",
   "metadata": {},
   "source": [
    "## ツールのセットアップ\n",
    "\n",
    "正規のツール（検索）を1つ、そして99個の偽ツールを作成します。"
   ]
  },
  {
   "cell_type": "code",
   "execution_count": 4,
   "id": "becda2a1",
   "metadata": {
    "ExecuteTime": {
     "end_time": "2023-05-12T10:48:22.193407Z",
     "start_time": "2023-05-12T10:48:22.177001900Z"
    }
   },
   "outputs": [],
   "source": [
    "# エージェントがユーザーの問い合わせに答えるために使用できるツールを定義する。\n",
    "search = SerpAPIWrapper()\n",
    "search_tool = Tool(\n",
    "        name = \"Search\",\n",
    "        func=search.run,\n",
    "        description=\"時事問題への回答が必要なときに便利です。\"\n",
    "    )\n",
    "def fake_func(inp: str) -> str:\n",
    "    return \"foo\"\n",
    "fake_tools = [\n",
    "    Tool(\n",
    "        name=f\"foo-{i}\", \n",
    "        func=fake_func, \n",
    "        description=f\"数値 {i} に関する情報を得るために使える馬鹿げた機能\"\n",
    "    ) \n",
    "    for i in range(99)\n",
    "]\n",
    "ALL_TOOLS = [search_tool] + fake_tools"
   ]
  },
  {
   "cell_type": "markdown",
   "id": "17362717",
   "metadata": {},
   "source": [
    "## ツールリトリーバー\n",
    "\n",
    "vectorstoreを使って、各ツールの説明文の埋め込み（ベクトル）を作成することにします。そして、入力されたクエリに対して埋め込み（ベクトル）を作成し、関連するツールの類似性検索を行うことができます。"
   ]
  },
  {
   "cell_type": "code",
   "execution_count": 5,
   "id": "77c4be4b",
   "metadata": {
    "ExecuteTime": {
     "end_time": "2023-05-12T10:48:22.374604800Z",
     "start_time": "2023-05-12T10:48:22.361722400Z"
    }
   },
   "outputs": [],
   "source": [
    "from langchain.vectorstores import FAISS\n",
    "from langchain.embeddings import OpenAIEmbeddings\n",
    "from langchain.schema import Document"
   ]
  },
  {
   "cell_type": "code",
   "execution_count": 6,
   "id": "9092a158",
   "metadata": {
    "ExecuteTime": {
     "end_time": "2023-05-12T10:48:22.839899300Z",
     "start_time": "2023-05-12T10:48:22.821483900Z"
    }
   },
   "outputs": [],
   "source": [
    "docs = [Document(page_content=t.description, metadata={\"index\": i}) for i, t in enumerate(ALL_TOOLS)]"
   ]
  },
  {
   "cell_type": "code",
   "execution_count": 7,
   "id": "affc4e56",
   "metadata": {
    "ExecuteTime": {
     "end_time": "2023-05-12T10:48:25.799325800Z",
     "start_time": "2023-05-12T10:48:23.250565800Z"
    }
   },
   "outputs": [],
   "source": [
    "vector_store = FAISS.from_documents(docs, OpenAIEmbeddings())"
   ]
  },
  {
   "cell_type": "code",
   "execution_count": 8,
   "id": "735a7566",
   "metadata": {
    "ExecuteTime": {
     "end_time": "2023-05-12T10:48:25.805115Z",
     "start_time": "2023-05-12T10:48:25.800336600Z"
    }
   },
   "outputs": [],
   "source": [
    "retriever = vector_store.as_retriever()\n",
    "\n",
    "def get_tools(query):\n",
    "    docs = retriever.get_relevant_documents(query)\n",
    "    return [ALL_TOOLS[d.metadata[\"index\"]] for d in docs]"
   ]
  },
  {
   "cell_type": "markdown",
   "id": "7699afd7",
   "metadata": {},
   "source": [
    "これで、この検索がうまくいきそうなのかどうか、テストができます。"
   ]
  },
  {
   "cell_type": "code",
   "execution_count": 9,
   "id": "425f2886",
   "metadata": {
    "ExecuteTime": {
     "end_time": "2023-05-12T10:48:26.510538900Z",
     "start_time": "2023-05-12T10:48:25.808118100Z"
    }
   },
   "outputs": [
    {
     "data": {
      "text/plain": "[Tool(name='Search', description='時事問題への回答が必要なときに便利です。', args_schema=None, return_direct=False, verbose=False, callbacks=None, callback_manager=None, func=<bound method SerpAPIWrapper.run of SerpAPIWrapper(search_engine=<class 'serpapi.google_search.GoogleSearch'>, params={'engine': 'google', 'google_domain': 'google.com', 'gl': 'us', 'hl': 'en'}, serpapi_api_key='', aiosession=None)>, coroutine=None),\n Tool(name='foo-15', description='数値 15 に関する情報を得るために使える馬鹿げた機能', args_schema=None, return_direct=False, verbose=False, callbacks=None, callback_manager=None, func=<function fake_func at 0x0000021AB3ADF740>, coroutine=None),\n Tool(name='foo-65', description='数値 65 に関する情報を得るために使える馬鹿げた機能', args_schema=None, return_direct=False, verbose=False, callbacks=None, callback_manager=None, func=<function fake_func at 0x0000021AB3ADF740>, coroutine=None),\n Tool(name='foo-23', description='数値 23 に関する情報を得るために使える馬鹿げた機能', args_schema=None, return_direct=False, verbose=False, callbacks=None, callback_manager=None, func=<function fake_func at 0x0000021AB3ADF740>, coroutine=None)]"
     },
     "execution_count": 9,
     "metadata": {},
     "output_type": "execute_result"
    }
   ],
   "source": [
    "get_tools(\"天気はどうですか？\")"
   ]
  },
  {
   "cell_type": "code",
   "execution_count": 8,
   "id": "4036dd19",
   "metadata": {
    "ExecuteTime": {
     "end_time": "2023-05-12T10:04:46.147404400Z",
     "start_time": "2023-05-12T10:04:45.870963500Z"
    }
   },
   "outputs": [
    {
     "data": {
      "text/plain": "[Tool(name='foo-13', description='数値 13 に関する情報を得るために使える馬鹿げた機能', args_schema=None, return_direct=False, verbose=False, callbacks=None, callback_manager=None, func=<function fake_func at 0x0000022E0677CA40>, coroutine=None),\n Tool(name='foo-12', description='数値 12 に関する情報を得るために使える馬鹿げた機能', args_schema=None, return_direct=False, verbose=False, callbacks=None, callback_manager=None, func=<function fake_func at 0x0000022E0677CA40>, coroutine=None),\n Tool(name='foo-33', description='数値 33 に関する情報を得るために使える馬鹿げた機能', args_schema=None, return_direct=False, verbose=False, callbacks=None, callback_manager=None, func=<function fake_func at 0x0000022E0677CA40>, coroutine=None),\n Tool(name='foo-23', description='数値 23 に関する情報を得るために使える馬鹿げた機能', args_schema=None, return_direct=False, verbose=False, callbacks=None, callback_manager=None, func=<function fake_func at 0x0000022E0677CA40>, coroutine=None)]"
     },
     "execution_count": 8,
     "metadata": {},
     "output_type": "execute_result"
    }
   ],
   "source": [
    "get_tools(\"番号13は何ですか？\")"
   ]
  },
  {
   "cell_type": "markdown",
   "id": "2e7a075c",
   "metadata": {},
   "source": [
    "## プロンプトテンプレート\n",
    "\n",
    "プロンプトテンプレートはかなり標準的です。なぜなら、実際のプロンプトテンプレートでは、ロジックの変更はそれほど多くはなく、検索方法が変わっているだけだからです。"
   ]
  },
  {
   "cell_type": "code",
   "execution_count": 1,
   "id": "339b1bb8",
   "metadata": {
    "ExecuteTime": {
     "end_time": "2023-05-12T10:48:10.163029100Z",
     "start_time": "2023-05-12T10:48:10.146237800Z"
    }
   },
   "outputs": [],
   "source": [
    "# ベースとなるテンプレートを設定する\n",
    "template = \"\"\"Answer the following questions as best you can, Be sure to answer in Japanese. You have access to the following tools::\n",
    "\n",
    "{tools}\n",
    "\n",
    "Use the following format:\n",
    "\n",
    "Question: the input question you must answer\n",
    "Thought: you should always think about what to do\n",
    "Action: the action to take, should be one of [{tool_names}]\n",
    "Action Input: the input to the action\n",
    "Observation: the result of the action\n",
    "... (this Thought/Action/Action Input/Observation can repeat N times)\n",
    "Thought: I now know the final answer\n",
    "Final Answer: the final answer to the original input question\n",
    "\n",
    "Begin!\n",
    "\n",
    "Question: {input}\n",
    "{agent_scratchpad}\"\"\""
   ]
  },
  {
   "cell_type": "markdown",
   "id": "1583acdc",
   "metadata": {},
   "source": [
    "カスタムプロンプトテンプレートにtools_getterの概念が追加され、使用するツールを選択するため、入力時に呼び出すようになりました。"
   ]
  },
  {
   "cell_type": "code",
   "execution_count": 2,
   "id": "fd969d31",
   "metadata": {
    "ExecuteTime": {
     "end_time": "2023-05-12T10:48:10.429513900Z",
     "start_time": "2023-05-12T10:48:10.159032300Z"
    }
   },
   "outputs": [
    {
     "ename": "NameError",
     "evalue": "name 'StringPromptTemplate' is not defined",
     "output_type": "error",
     "traceback": [
      "\u001B[1;31m---------------------------------------------------------------------------\u001B[0m",
      "\u001B[1;31mNameError\u001B[0m                                 Traceback (most recent call last)",
      "Cell \u001B[1;32mIn[2], line 3\u001B[0m\n\u001B[0;32m      1\u001B[0m \u001B[38;5;28;01mfrom\u001B[39;00m \u001B[38;5;21;01mtyping\u001B[39;00m \u001B[38;5;28;01mimport\u001B[39;00m Callable\n\u001B[0;32m      2\u001B[0m \u001B[38;5;66;03m# プロンプトテンプレートを設定する\u001B[39;00m\n\u001B[1;32m----> 3\u001B[0m \u001B[38;5;28;01mclass\u001B[39;00m \u001B[38;5;21;01mCustomPromptTemplate\u001B[39;00m(\u001B[43mStringPromptTemplate\u001B[49m):\n\u001B[0;32m      4\u001B[0m     \u001B[38;5;66;03m# 使用するテンプレート\u001B[39;00m\n\u001B[0;32m      5\u001B[0m     template: \u001B[38;5;28mstr\u001B[39m\n\u001B[0;32m      6\u001B[0m     \u001B[38;5;66;03m############## NEW ######################\u001B[39;00m\n\u001B[0;32m      7\u001B[0m     \u001B[38;5;66;03m# 使用できるツールの一覧\u001B[39;00m\n",
      "\u001B[1;31mNameError\u001B[0m: name 'StringPromptTemplate' is not defined"
     ]
    }
   ],
   "source": [
    "from typing import Callable\n",
    "# プロンプトテンプレートを設定する\n",
    "class CustomPromptTemplate(StringPromptTemplate):\n",
    "    # 使用するテンプレート\n",
    "    template: str\n",
    "    ############## NEW ######################\n",
    "    # 使用できるツールの一覧\n",
    "    tools_getter: Callable\n",
    "    \n",
    "    def format(self, **kwargs) -> str:\n",
    "        # 中間ステップ（AgentAction, Observationタプル）を取得する。\n",
    "        # 特定の方法でフォーマットする\n",
    "        intermediate_steps = kwargs.pop(\"intermediate_steps\")\n",
    "        thoughts = \"\"\n",
    "        for action, observation in intermediate_steps:\n",
    "            thoughts += action.log\n",
    "            thoughts += f\"\\nObservation: {observation}\\nThought: \"\n",
    "        # 変数agent_scratchpadにその値を設定します。\n",
    "        kwargs[\"agent_scratchpad\"] = thoughts\n",
    "        ############## NEW ######################\n",
    "        tools = self.tools_getter(kwargs[\"input\"])\n",
    "        # 用意されたツール一覧からtools変数を作成する。\n",
    "        kwargs[\"tools\"] = \"\\n\".join([f\"{tool.name}: {tool.description}\" for tool in tools])\n",
    "        # 用意されたツールの名称リストを作る\n",
    "        kwargs[\"tool_names\"] = \", \".join([tool.name for tool in tools])\n",
    "        return self.template.format(**kwargs)"
   ]
  },
  {
   "cell_type": "code",
   "execution_count": null,
   "id": "798ef9fb",
   "metadata": {},
   "outputs": [],
   "source": [
    "prompt = CustomPromptTemplate(\n",
    "    template=template,\n",
    "    tools_getter=get_tools,\n",
    "    # `agent_scratchpad`、`tools`、`tool_names`は動的に生成されるため、省略されています。\n",
    "    # これは、`intermediate_steps`変数が必要だからです。\n",
    "    input_variables=[\"input\", \"intermediate_steps\"]\n",
    ")"
   ]
  },
  {
   "cell_type": "markdown",
   "id": "ef3a1af3",
   "metadata": {},
   "source": [
    "## 出力パーサー\n",
    "\n",
    "出力フォーマットについて何も変更していないため、出力パーサーは前のノートブックから変更されていません。"
   ]
  },
  {
   "cell_type": "code",
   "execution_count": 12,
   "id": "7c6fe0d3",
   "metadata": {
    "ExecuteTime": {
     "end_time": "2023-05-12T10:04:56.237639100Z",
     "start_time": "2023-05-12T10:04:56.222912700Z"
    }
   },
   "outputs": [],
   "source": [
    "class CustomOutputParser(AgentOutputParser):\n",
    "    \n",
    "    def parse(self, llm_output: str) -> Union[AgentAction, AgentFinish]:\n",
    "        # Check if agent should finish\n",
    "        if \"Final Answer:\" in llm_output:\n",
    "            return AgentFinish(\n",
    "                # Return values is generally always a dictionary with a single `output` key\n",
    "                # It is not recommended to try anything else at the moment :)\n",
    "                return_values={\"output\": llm_output.split(\"Final Answer:\")[-1].strip()},\n",
    "                log=llm_output,\n",
    "            )\n",
    "        # Parse out the action and action input\n",
    "        regex = r\"Action\\s*\\d*\\s*:(.*?)\\nAction\\s*\\d*\\s*Input\\s*\\d*\\s*:[\\s]*(.*)\"\n",
    "        match = re.search(regex, llm_output, re.DOTALL)\n",
    "        if not match:\n",
    "            raise ValueError(f\"Could not parse LLM output: `{llm_output}`\")\n",
    "        action = match.group(1).strip()\n",
    "        action_input = match.group(2)\n",
    "        # Return the action and action input\n",
    "        return AgentAction(tool=action, tool_input=action_input.strip(\" \").strip('\"'), log=llm_output)"
   ]
  },
  {
   "cell_type": "code",
   "execution_count": 13,
   "id": "d278706a",
   "metadata": {
    "ExecuteTime": {
     "end_time": "2023-05-12T10:04:58.722955200Z",
     "start_time": "2023-05-12T10:04:58.718437700Z"
    }
   },
   "outputs": [],
   "source": [
    "output_parser = CustomOutputParser()"
   ]
  },
  {
   "cell_type": "markdown",
   "id": "170587b1",
   "metadata": {},
   "source": [
    "## LLM、ストップシーケンス、およびエージェントの設定\n",
    "\n",
    "これも前のノートブックと同じです。"
   ]
  },
  {
   "cell_type": "code",
   "execution_count": 14,
   "id": "f9d4c374",
   "metadata": {
    "ExecuteTime": {
     "end_time": "2023-05-12T10:04:59.786386400Z",
     "start_time": "2023-05-12T10:04:59.734869600Z"
    }
   },
   "outputs": [],
   "source": [
    "llm = OpenAI(temperature=0)"
   ]
  },
  {
   "cell_type": "code",
   "execution_count": 15,
   "id": "9b1cc2a2",
   "metadata": {
    "ExecuteTime": {
     "end_time": "2023-05-12T10:05:00.135311300Z",
     "start_time": "2023-05-12T10:05:00.132380900Z"
    }
   },
   "outputs": [],
   "source": [
    "# LLMとプロンプトで構成されるLLMチェーン\n",
    "llm_chain = LLMChain(llm=llm, prompt=prompt)"
   ]
  },
  {
   "cell_type": "code",
   "execution_count": 16,
   "id": "e4f5092f",
   "metadata": {
    "ExecuteTime": {
     "end_time": "2023-05-12T10:05:00.873769400Z",
     "start_time": "2023-05-12T10:05:00.570074900Z"
    }
   },
   "outputs": [],
   "source": [
    "tools = get_tools(\"天気はどうですか\")\n",
    "tool_names = [tool.name for tool in tools]\n",
    "agent = LLMSingleActionAgent(\n",
    "    llm_chain=llm_chain, \n",
    "    output_parser=output_parser,\n",
    "    stop=[\"\\nObservation:\"], \n",
    "    allowed_tools=tool_names\n",
    ")"
   ]
  },
  {
   "cell_type": "markdown",
   "id": "aa8a5326",
   "metadata": {},
   "source": [
    "## エージェントを使う\n",
    "\n",
    "それでは使ってみましょう！"
   ]
  },
  {
   "cell_type": "code",
   "execution_count": 17,
   "id": "490604e9",
   "metadata": {
    "ExecuteTime": {
     "end_time": "2023-05-12T10:05:04.173704Z",
     "start_time": "2023-05-12T10:05:04.167556700Z"
    }
   },
   "outputs": [],
   "source": [
    "agent_executor = AgentExecutor.from_agent_and_tools(agent=agent, tools=tools, verbose=True)"
   ]
  },
  {
   "cell_type": "code",
   "execution_count": 18,
   "id": "653b1617",
   "metadata": {
    "ExecuteTime": {
     "end_time": "2023-05-12T10:05:19.632424300Z",
     "start_time": "2023-05-12T10:05:08.296827300Z"
    }
   },
   "outputs": [
    {
     "name": "stdout",
     "output_type": "stream",
     "text": [
      "\n",
      "\n",
      "\u001B[1m> Entering new AgentExecutor chain...\u001B[0m\n",
      "\u001B[32;1m\u001B[1;3mThought: 検索してみる\n",
      "Action: Search\n",
      "Action Input: 浜松市の天気\u001B[0m\n",
      "\n",
      "Observation:\u001B[36;1m\u001B[1;3m浜松市の天気 12日14:00発表 ; 未明 · 01 · 曇り · 気温 (℃). 13.5 ; 未明 · 02 · 晴れ · 気温 (℃) · 13.0 ...\u001B[0m\n",
      "\u001B[32;1m\u001B[1;3m今、最終的な答えがわかった\n",
      "Final Answer: 浜松市の天気は未明から曇り、13.5℃です。\u001B[0m\n",
      "\n",
      "\u001B[1m> Finished chain.\u001B[0m\n"
     ]
    },
    {
     "data": {
      "text/plain": "'浜松市の天気は未明から曇り、13.5℃です。'"
     },
     "execution_count": 18,
     "metadata": {},
     "output_type": "execute_result"
    }
   ],
   "source": [
    "agent_executor.run(\"浜松市の天気はどうですか？\")"
   ]
  },
  {
   "cell_type": "code",
   "execution_count": null,
   "id": "2481ee76",
   "metadata": {},
   "outputs": [],
   "source": []
  }
 ],
 "metadata": {
  "kernelspec": {
   "display_name": "Python 3 (ipykernel)",
   "language": "python",
   "name": "python3"
  },
  "language_info": {
   "codemirror_mode": {
    "name": "ipython",
    "version": 3
   },
   "file_extension": ".py",
   "mimetype": "text/x-python",
   "name": "python",
   "nbconvert_exporter": "python",
   "pygments_lexer": "ipython3",
   "version": "3.9.1"
  },
  "vscode": {
   "interpreter": {
    "hash": "18784188d7ecd866c0586ac068b02361a6896dc3a29b64f5cc957f09c590acef"
   }
  }
 },
 "nbformat": 4,
 "nbformat_minor": 5
}

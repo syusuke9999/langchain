{
 "cells": [
  {
   "cell_type": "markdown",
   "source": [
    "このノートブックでは、やや複雑なサンプルを作成することにします。1つの正規のツール（検索）と、99の偽ツール（無意味なもの）を用意することにしましょう。そして、ユーザーからの入力を受けて、クエリに関連するツールを検索するステップをプロンプトテンプレートに追加します。"
   ],
   "metadata": {
    "collapsed": false
   }
  },
  {
   "cell_type": "markdown",
   "id": "fea4812c",
   "metadata": {},
   "source": [
    "## 環境を整える\n",
    "\n",
    "必要なインポートなどを行う。"
   ]
  },
  {
   "cell_type": "code",
   "execution_count": null,
   "id": "9af9734e",
   "metadata": {},
   "outputs": [],
   "source": [
    "from langchain.agents import Tool, AgentExecutor, LLMSingleActionAgent, AgentOutputParser\n",
    "from langchain.prompts import StringPromptTemplate\n",
    "from langchain import OpenAI, SerpAPIWrapper, LLMChain\n",
    "from typing import List, Union\n",
    "from langchain.schema import AgentAction, AgentFinish\n",
    "import re"
   ]
  },
  {
   "cell_type": "markdown",
   "id": "6df0253f",
   "metadata": {},
   "source": [
    "## ツールのセットアップ\n",
    "\n",
    "正規のツール（検索）を1つ、そして99個の偽ツールを作成します。"
   ]
  },
  {
   "cell_type": "code",
   "execution_count": null,
   "id": "becda2a1",
   "metadata": {},
   "outputs": [],
   "source": [
    "# エージェントがユーザーの問い合わせに答えるために使用できるツールを定義する。\n",
    "search = SerpAPIWrapper()\n",
    "search_tool = Tool(\n",
    "        name = \"Search\",\n",
    "        func=search.run,\n",
    "        description=\"時事問題への回答が必要なときに便利です。\"\n",
    "    )\n",
    "def fake_func(inp: str) -> str:\n",
    "    return \"foo\"\n",
    "fake_tools = [\n",
    "    Tool(\n",
    "        name=f\"foo-{i}\", \n",
    "        func=fake_func, \n",
    "        description=f\"数値 {i} に関する情報を得るために使える馬鹿げた機能\"\n",
    "    ) \n",
    "    for i in range(99)\n",
    "]\n",
    "ALL_TOOLS = [search_tool] + fake_tools"
   ]
  },
  {
   "cell_type": "markdown",
   "id": "17362717",
   "metadata": {},
   "source": [
    "## ツールリトリーバー\n",
    "\n",
    "vectorstoreを使って、各ツールの説明文の埋め込み（ベクトル）を作成することにします。そして、入力されたクエリに対して埋め込み（ベクトル）を作成し、関連するツールの類似性検索を行うことができます。"
   ]
  },
  {
   "cell_type": "code",
   "execution_count": null,
   "id": "77c4be4b",
   "metadata": {},
   "outputs": [],
   "source": [
    "from langchain.vectorstores import FAISS\n",
    "from langchain.embeddings import OpenAIEmbeddings\n",
    "from langchain.schema import Document"
   ]
  },
  {
   "cell_type": "code",
   "execution_count": null,
   "id": "9092a158",
   "metadata": {},
   "outputs": [],
   "source": [
    "docs = [Document(page_content=t.description, metadata={\"index\": i}) for i, t in enumerate(ALL_TOOLS)]"
   ]
  },
  {
   "cell_type": "code",
   "execution_count": null,
   "id": "affc4e56",
   "metadata": {},
   "outputs": [],
   "source": [
    "vector_store = FAISS.from_documents(docs, OpenAIEmbeddings())"
   ]
  },
  {
   "cell_type": "code",
   "execution_count": null,
   "id": "735a7566",
   "metadata": {},
   "outputs": [],
   "source": [
    "retriever = vector_store.as_retriever()\n",
    "\n",
    "def get_tools(query):\n",
    "    docs = retriever.get_relevant_documents(query)\n",
    "    return [ALL_TOOLS[d.metadata[\"index\"]] for d in docs]"
   ]
  },
  {
   "cell_type": "markdown",
   "id": "7699afd7",
   "metadata": {},
   "source": [
    "これで、この検索がうまくいきそうなのかどうか、テストができます。"
   ]
  },
  {
   "cell_type": "code",
   "execution_count": null,
   "id": "425f2886",
   "metadata": {},
   "outputs": [],
   "source": [
    "get_tools(\"天気はどうですか？\")"
   ]
  },
  {
   "cell_type": "code",
   "execution_count": null,
   "id": "4036dd19",
   "metadata": {},
   "outputs": [],
   "source": [
    "get_tools(\"番号13は何ですか？\")"
   ]
  },
  {
   "cell_type": "markdown",
   "id": "2e7a075c",
   "metadata": {},
   "source": [
    "## プロンプトテンプレート\n",
    "\n",
    "プロンプトテンプレートはかなり標準的です。なぜなら、実際のプロンプトテンプレートでは、ロジックの変更はそれほど多くはなく、検索方法が変わっているだけだからです。"
   ]
  },
  {
   "cell_type": "code",
   "execution_count": null,
   "id": "339b1bb8",
   "metadata": {},
   "outputs": [],
   "source": [
    "# ベースとなるテンプレートを設定する\n",
    "template = \"\"\"Answer the following questions as best you can, Be sure to answer in Japanese. You have access to the following tools::\n",
    "\n",
    "{tools}\n",
    "\n",
    "Use the following format:\n",
    "\n",
    "Question: the input question you must answer\n",
    "Thought: you should always think about what to do\n",
    "Action: the action to take, should be one of [{tool_names}]\n",
    "Action Input: the input to the action\n",
    "Observation: the result of the action\n",
    "... (this Thought/Action/Action Input/Observation can repeat N times)\n",
    "Thought: I now know the final answer\n",
    "Final Answer: the final answer to the original input question\n",
    "\n",
    "Begin!\n",
    "\n",
    "Question: {input}\n",
    "{agent_scratchpad}\"\"\""
   ]
  },
  {
   "cell_type": "markdown",
   "id": "1583acdc",
   "metadata": {},
   "source": [
    "カスタムプロンプトテンプレートにtools_getterの概念が追加され、使用するツールを選択するため、入力時に呼び出すようになりました。"
   ]
  },
  {
   "cell_type": "code",
   "execution_count": null,
   "id": "fd969d31",
   "metadata": {},
   "outputs": [],
   "source": [
    "from typing import Callable\n",
    "# プロンプトテンプレートを設定する\n",
    "class CustomPromptTemplate(StringPromptTemplate):\n",
    "    # 使用するテンプレート\n",
    "    template: str\n",
    "    ############## NEW ######################\n",
    "    # 使用できるツールの一覧\n",
    "    tools_getter: Callable\n",
    "    \n",
    "    def format(self, **kwargs) -> str:\n",
    "        # 中間ステップ（AgentAction, Observationタプル）を取得する。\n",
    "        # 特定の方法でフォーマットする\n",
    "        intermediate_steps = kwargs.pop(\"intermediate_steps\")\n",
    "        thoughts = \"\"\n",
    "        for action, observation in intermediate_steps:\n",
    "            thoughts += action.log\n",
    "            thoughts += f\"\\nObservation: {observation}\\nThought: \"\n",
    "        # 変数agent_scratchpadにその値を設定します。\n",
    "        kwargs[\"agent_scratchpad\"] = thoughts\n",
    "        ############## NEW ######################\n",
    "        tools = self.tools_getter(kwargs[\"input\"])\n",
    "        # 用意されたツール一覧からtools変数を作成する。\n",
    "        kwargs[\"tools\"] = \"\\n\".join([f\"{tool.name}: {tool.description}\" for tool in tools])\n",
    "        # 用意されたツールの名称リストを作る\n",
    "        kwargs[\"tool_names\"] = \", \".join([tool.name for tool in tools])\n",
    "        return self.template.format(**kwargs)"
   ]
  },
  {
   "cell_type": "code",
   "execution_count": null,
   "id": "798ef9fb",
   "metadata": {},
   "outputs": [],
   "source": [
    "prompt = CustomPromptTemplate(\n",
    "    template=template,\n",
    "    tools_getter=get_tools,\n",
    "    # `agent_scratchpad`、`tools`、`tool_names`は動的に生成されるため、省略されています。\n",
    "    # これは、`intermediate_steps`変数が必要だからです。\n",
    "    input_variables=[\"input\", \"intermediate_steps\"]\n",
    ")"
   ]
  },
  {
   "cell_type": "markdown",
   "id": "ef3a1af3",
   "metadata": {},
   "source": [
    "## 出力パーサー\n",
    "\n",
    "出力フォーマットについて何も変更していないため、出力パーサーは前のノートブックから変更されていません。"
   ]
  },
  {
   "cell_type": "code",
   "execution_count": null,
   "id": "7c6fe0d3",
   "metadata": {},
   "outputs": [],
   "source": [
    "class CustomOutputParser(AgentOutputParser):\n",
    "    \n",
    "    def parse(self, llm_output: str) -> Union[AgentAction, AgentFinish]:\n",
    "        # Check if agent should finish\n",
    "        if \"Final Answer:\" in llm_output:\n",
    "            return AgentFinish(\n",
    "                # Return values is generally always a dictionary with a single `output` key\n",
    "                # It is not recommended to try anything else at the moment :)\n",
    "                return_values={\"output\": llm_output.split(\"Final Answer:\")[-1].strip()},\n",
    "                log=llm_output,\n",
    "            )\n",
    "        # Parse out the action and action input\n",
    "        regex = r\"Action\\s*\\d*\\s*:(.*?)\\nAction\\s*\\d*\\s*Input\\s*\\d*\\s*:[\\s]*(.*)\"\n",
    "        match = re.search(regex, llm_output, re.DOTALL)\n",
    "        if not match:\n",
    "            raise ValueError(f\"Could not parse LLM output: `{llm_output}`\")\n",
    "        action = match.group(1).strip()\n",
    "        action_input = match.group(2)\n",
    "        # Return the action and action input\n",
    "        return AgentAction(tool=action, tool_input=action_input.strip(\" \").strip('\"'), log=llm_output)"
   ]
  },
  {
   "cell_type": "code",
   "execution_count": null,
   "id": "d278706a",
   "metadata": {},
   "outputs": [],
   "source": [
    "output_parser = CustomOutputParser()"
   ]
  },
  {
   "cell_type": "markdown",
   "id": "170587b1",
   "metadata": {},
   "source": [
    "## LLM、ストップシーケンス、およびエージェントの設定\n",
    "\n",
    "これも前のノートブックと同じです。"
   ]
  },
  {
   "cell_type": "code",
   "execution_count": null,
   "id": "f9d4c374",
   "metadata": {},
   "outputs": [],
   "source": [
    "llm = OpenAI(temperature=0)"
   ]
  },
  {
   "cell_type": "code",
   "execution_count": null,
   "id": "9b1cc2a2",
   "metadata": {},
   "outputs": [],
   "source": [
    "# LLMとプロンプトで構成されるLLMチェーン\n",
    "llm_chain = LLMChain(llm=llm, prompt=prompt)"
   ]
  },
  {
   "cell_type": "code",
   "execution_count": null,
   "id": "e4f5092f",
   "metadata": {},
   "outputs": [],
   "source": [
    "tools = get_tools(\"天気はどうですか\")\n",
    "tool_names = [tool.name for tool in tools]\n",
    "agent = LLMSingleActionAgent(\n",
    "    llm_chain=llm_chain, \n",
    "    output_parser=output_parser,\n",
    "    stop=[\"\\nObservation:\"], \n",
    "    allowed_tools=tool_names\n",
    ")"
   ]
  },
  {
   "cell_type": "markdown",
   "id": "aa8a5326",
   "metadata": {},
   "source": [
    "## エージェントを使う\n",
    "\n",
    "それでは使ってみましょう！"
   ]
  },
  {
   "cell_type": "code",
   "execution_count": null,
   "id": "490604e9",
   "metadata": {},
   "outputs": [],
   "source": [
    "agent_executor = AgentExecutor.from_agent_and_tools(agent=agent, tools=tools, verbose=True)"
   ]
  },
  {
   "cell_type": "code",
   "execution_count": null,
   "id": "653b1617",
   "metadata": {},
   "outputs": [],
   "source": [
    "agent_executor.run(\"浜松市の天気はどうですか？\")"
   ]
  },
  {
   "cell_type": "code",
   "execution_count": null,
   "id": "2481ee76",
   "metadata": {},
   "outputs": [],
   "source": []
  }
 ],
 "metadata": {
  "kernelspec": {
   "display_name": "Python 3 (ipykernel)",
   "language": "python",
   "name": "python3"
  },
  "language_info": {
   "codemirror_mode": {
    "name": "ipython",
    "version": 3
   },
   "file_extension": ".py",
   "mimetype": "text/x-python",
   "name": "python",
   "nbconvert_exporter": "python",
   "pygments_lexer": "ipython3",
   "version": "3.9.1"
  },
  "vscode": {
   "interpreter": {
    "hash": "18784188d7ecd866c0586ac068b02361a6896dc3a29b64f5cc957f09c590acef"
   }
  }
 },
 "nbformat": 4,
 "nbformat_minor": 5
}

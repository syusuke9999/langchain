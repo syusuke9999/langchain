{
 "cells": [
  {
   "cell_type": "markdown",
   "id": "ba5f8741",
   "metadata": {},
   "source": [
    "# カスタムLLMエージェント（ChatModel付き）\n",
    "\n",
    "このノートブックでは、ChatModelをベースにした独自のカスタムエージェントの作成方法を説明します。\n",
    "\n",
    "LLM（大規模言語モデル）チャットエージェントは3つの部分で構成されています。\n",
    "\n",
    "- PromptTemplate：言語モデルに何をするか指示するのに使用できるプロンプトテンプレートです\n",
    "- ChatModel：エージェントを駆動する言語モデルです\n",
    "- `stop`シーケンス：この文字列が見つかったらすぐにLLMの生成を停止するように指示します\n",
    "- OutputParser：この部分では、LLMが出力したものをどのようにエージェントのアクションまたは終了オブジェクトに変換するかを決定します\n",
    "\n",
    "LLMAgentはAgentExecutorで使用されます。AgentExecutorは主に以下のループで構成されていると考えることができます。\n",
    "1. ユーザーの入力や前のステップをエージェント（本件ではLLMAgent）に渡します\n",
    "2. エージェントが`AgentFinish`を返す場合は、それを直接ユーザーに返します\n",
    "3. エージェントが`AgentAction`を返す場合は、それを使ってツールを呼び出し、`Observation`を取得します\n",
    "4. `AgentAction`と`Observation`をエージェントに返すことを繰り返し、`AgentFinish`が発行されるまで行います。\n",
    "\n",
    "`AgentAction`は、「action」と「action_input」で構成されるレスポンスです。「action」は使用するツールを指し、「action_input」はそのツールへの入力を指します。「log」というコンテキストも提供され、ログやトレースなどに使用できます。\n",
    "\n",
    "`AgentFinish`は、最終的にユーザーに返すメッセージが含まれているレスポンスです。これはエージェントの実行を終了するために使用されるべきです。\n",
    "\n",
    "このノートブックでは、カスタムLLMエージェントの作成方法について説明します。"
   ]
  },
  {
   "cell_type": "markdown",
   "id": "fea4812c",
   "metadata": {},
   "source": [
    "## 環境を設定する\n",
    "\n",
    "必要なインポートなどを行ってください。"
   ]
  },
  {
   "cell_type": "code",
   "execution_count": 1,
   "id": "9af9734e",
   "metadata": {
    "ExecuteTime": {
     "end_time": "2023-05-12T10:25:44.693328900Z",
     "start_time": "2023-05-12T10:25:43.165035200Z"
    }
   },
   "outputs": [],
   "source": [
    "from langchain.agents import Tool, AgentExecutor, LLMSingleActionAgent, AgentOutputParser\n",
    "from langchain.prompts import BaseChatPromptTemplate\n",
    "from langchain import SerpAPIWrapper, LLMChain\n",
    "from langchain.chat_models import ChatOpenAI\n",
    "from typing import List, Union\n",
    "from langchain.schema import AgentAction, AgentFinish, HumanMessage\n",
    "import re"
   ]
  },
  {
   "cell_type": "markdown",
   "id": "6df0253f",
   "metadata": {},
   "source": [
    "## ツールのセットアップ\n",
    "\n",
    "エージェントが使用したいツールをセットアップします。これはプロンプトに記入する必要があるかもしれません（そのため、エージェントがこれらのツールを使用することを知っています）。"
   ]
  },
  {
   "cell_type": "code",
   "execution_count": 2,
   "id": "becda2a1",
   "metadata": {
    "ExecuteTime": {
     "end_time": "2023-05-12T10:27:00.797279900Z",
     "start_time": "2023-05-12T10:27:00.770589400Z"
    }
   },
   "outputs": [],
   "source": [
    "# エージェントがユーザーの問い合わせに答えるために使用できるツールを定義する。\n",
    "search = SerpAPIWrapper()\n",
    "tools = [\n",
    "    Tool(\n",
    "        name = \"Search\",\n",
    "        func=search.run,\n",
    "        description=\"時事に即した質問に答えたいときに便利です。\"\n",
    "    )\n",
    "]"
   ]
  },
  {
   "cell_type": "markdown",
   "id": "2e7a075c",
   "metadata": {},
   "source": [
    "## プロンプトテンプレート\n",
    "\n",
    "このテンプレートは、エージェントに何をすべきか指示します。一般的に、テンプレートは以下の要素を含むべきです。\n",
    "\n",
    "- `tools`：エージェントが利用できるツールとそれらをどのように、いつ呼び出すか。\n",
    "- `intermediate_steps`：これらは、以前の（`AgentAction`、`Observation`）ペアのタプルです。これらは通常、モデルに直接渡されるわけではなく、プロンプトテンプレートがそれらを特定の方法でフォーマットします。\n",
    "- `input`：一般的なユーザー入力"
   ]
  },
  {
   "cell_type": "code",
   "execution_count": 13,
   "id": "339b1bb8",
   "metadata": {
    "ExecuteTime": {
     "end_time": "2023-05-12T10:33:17.944346800Z",
     "start_time": "2023-05-12T10:33:17.933340500Z"
    }
   },
   "outputs": [],
   "source": [
    "# Set up the base template\n",
    "template = \"\"\"可能な限り目的を達成してください。解答は日本語でして下さい。あなたは以下のツールにアクセスできます:\n",
    "\n",
    "{tools}\n",
    "\n",
    "Use the following format:\n",
    "\n",
    "Question: the input question you must answer\n",
    "Thought: you should always think about what to do\n",
    "Action: the action to take, should be one of [{tool_names}]\n",
    "Action Input: the input to the action\n",
    "Observation: the result of the action\n",
    "... (this Thought/Action/Action Input/Observation can repeat N times)\n",
    "Thought: I now know the final answer\n",
    "Final Answer: the final answer to the original input question\n",
    "\n",
    "These were previous tasks you completed:\n",
    "\n",
    "\n",
    "\n",
    "Begin!\n",
    "\n",
    "Question: {input}\n",
    "{agent_scratchpad}\"\"\""
   ]
  },
  {
   "cell_type": "code",
   "execution_count": 14,
   "id": "fd969d31",
   "metadata": {
    "ExecuteTime": {
     "end_time": "2023-05-12T10:33:18.484264800Z",
     "start_time": "2023-05-12T10:33:18.477265500Z"
    }
   },
   "outputs": [],
   "source": [
    "# Set up a prompt template\n",
    "class CustomPromptTemplate(BaseChatPromptTemplate):\n",
    "    # The template to use\n",
    "    template: str\n",
    "    # The list of tools available\n",
    "    tools: List[Tool]\n",
    "    \n",
    "    def format_messages(self, **kwargs) -> str:\n",
    "        # Get the intermediate steps (AgentAction, Observation tuples)\n",
    "        # Format them in a particular way\n",
    "        intermediate_steps = kwargs.pop(\"intermediate_steps\")\n",
    "        thoughts = \"\"\n",
    "        for action, observation in intermediate_steps:\n",
    "            thoughts += action.log\n",
    "            thoughts += f\"\\nObservation: {observation}\\nThought: \"\n",
    "        # Set the agent_scratchpad variable to that value\n",
    "        kwargs[\"agent_scratchpad\"] = thoughts\n",
    "        # Create a tools variable from the list of tools provided\n",
    "        kwargs[\"tools\"] = \"\\n\".join([f\"{tool.name}: {tool.description}\" for tool in self.tools])\n",
    "        # Create a list of tool names for the tools provided\n",
    "        kwargs[\"tool_names\"] = \", \".join([tool.name for tool in self.tools])\n",
    "        formatted = self.template.format(**kwargs)\n",
    "        return [HumanMessage(content=formatted)]"
   ]
  },
  {
   "cell_type": "code",
   "execution_count": 15,
   "id": "798ef9fb",
   "metadata": {
    "ExecuteTime": {
     "end_time": "2023-05-12T10:33:18.990173500Z",
     "start_time": "2023-05-12T10:33:18.986644500Z"
    }
   },
   "outputs": [],
   "source": [
    "prompt = CustomPromptTemplate(\n",
    "    template=template,\n",
    "    tools=tools,\n",
    "    # This omits the `agent_scratchpad`, `tools`, and `tool_names` variables because those are generated dynamically\n",
    "    # This includes the `intermediate_steps` variable because that is needed\n",
    "    input_variables=[\"input\", \"intermediate_steps\"]\n",
    ")"
   ]
  },
  {
   "cell_type": "markdown",
   "id": "ef3a1af3",
   "metadata": {},
   "source": [
    "## 出力パーサー\n",
    "\n",
    "出力パーサーは、LLMの出力を`AgentAction`と`AgentFinish`に解析する役割を担っています。これは通常、使用されるプロンプトに大きく依存します。\n",
    "\n",
    "ここでは、再試行の実行や空白の処理など、解析方法を変更することができます。"
   ]
  },
  {
   "cell_type": "code",
   "execution_count": 16,
   "id": "7c6fe0d3",
   "metadata": {
    "ExecuteTime": {
     "end_time": "2023-05-12T10:33:19.995057400Z",
     "start_time": "2023-05-12T10:33:19.983052500Z"
    }
   },
   "outputs": [],
   "source": [
    "class CustomOutputParser(AgentOutputParser):\n",
    "    \n",
    "    def parse(self, llm_output: str) -> Union[AgentAction, AgentFinish]:\n",
    "        # Check if agent should finish\n",
    "        if \"Final Answer:\" in llm_output:\n",
    "            return AgentFinish(\n",
    "                # Return values is generally always a dictionary with a single `output` key\n",
    "                # It is not recommended to try anything else at the moment :)\n",
    "                return_values={\"output\": llm_output.split(\"Final Answer:\")[-1].strip()},\n",
    "                log=llm_output,\n",
    "            )\n",
    "        # Parse out the action and action input\n",
    "        regex = r\"Action\\s*\\d*\\s*:(.*?)\\nAction\\s*\\d*\\s*Input\\s*\\d*\\s*:[\\s]*(.*)\"\n",
    "        match = re.search(regex, llm_output, re.DOTALL)\n",
    "        if not match:\n",
    "            raise ValueError(f\"Could not parse LLM output: `{llm_output}`\")\n",
    "        action = match.group(1).strip()\n",
    "        action_input = match.group(2)\n",
    "        # Return the action and action input\n",
    "        return AgentAction(tool=action, tool_input=action_input.strip(\" \").strip('\"'), log=llm_output)"
   ]
  },
  {
   "cell_type": "code",
   "execution_count": 17,
   "id": "d278706a",
   "metadata": {
    "ExecuteTime": {
     "end_time": "2023-05-12T10:33:20.624080600Z",
     "start_time": "2023-05-12T10:33:20.620070500Z"
    }
   },
   "outputs": [],
   "source": [
    "output_parser = CustomOutputParser()"
   ]
  },
  {
   "cell_type": "markdown",
   "id": "170587b1",
   "metadata": {},
   "source": [
    "## LLMの設定\n",
    "\n",
    "使用したいLLMを選んでください！"
   ]
  },
  {
   "cell_type": "code",
   "execution_count": 25,
   "id": "f9d4c374",
   "metadata": {
    "ExecuteTime": {
     "end_time": "2023-05-12T10:36:36.846576600Z",
     "start_time": "2023-05-12T10:36:36.833550200Z"
    }
   },
   "outputs": [],
   "source": [
    "llm = ChatOpenAI(temperature=0.2)"
   ]
  },
  {
   "cell_type": "markdown",
   "id": "caeab5e4",
   "metadata": {},
   "source": [
    "## ストップシーケンスの定義\n",
    "\n",
    "これは、LLMにいつ生成を停止するかを伝えるために重要です。\n",
    "\n",
    "これは、使用しているプロンプトやモデルに大きく依存します。一般的には、プロンプトで`Observation`の開始を示すために使用するトークンがこれになります（そうでない場合、LLMが観測を幻覚するかもしれません）。"
   ]
  },
  {
   "cell_type": "markdown",
   "id": "34be9f65",
   "metadata": {},
   "source": [
    "## エージェントの設定\n",
    "\n",
    "これで、すべてを組み合わせてエージェントを設定することができます。"
   ]
  },
  {
   "cell_type": "code",
   "execution_count": 26,
   "id": "9b1cc2a2",
   "metadata": {
    "ExecuteTime": {
     "end_time": "2023-05-12T10:36:38.265161800Z",
     "start_time": "2023-05-12T10:36:38.260646Z"
    }
   },
   "outputs": [],
   "source": [
    "# LLM chain consisting of the LLM and a prompt\n",
    "llm_chain = LLMChain(llm=llm, prompt=prompt)"
   ]
  },
  {
   "cell_type": "code",
   "execution_count": 27,
   "id": "e4f5092f",
   "metadata": {
    "ExecuteTime": {
     "end_time": "2023-05-12T10:36:38.832540500Z",
     "start_time": "2023-05-12T10:36:38.829023Z"
    }
   },
   "outputs": [],
   "source": [
    "tool_names = [tool.name for tool in tools]\n",
    "agent = LLMSingleActionAgent(\n",
    "    llm_chain=llm_chain, \n",
    "    output_parser=output_parser,\n",
    "    stop=[\"\\nObservation:\"], \n",
    "    allowed_tools=tool_names\n",
    ")"
   ]
  },
  {
   "cell_type": "markdown",
   "id": "aa8a5326",
   "metadata": {},
   "source": [
    "## エージェントの使用\n",
    "\n",
    "これで使えます！"
   ]
  },
  {
   "cell_type": "code",
   "execution_count": 28,
   "id": "490604e9",
   "metadata": {
    "ExecuteTime": {
     "end_time": "2023-05-12T10:36:39.739313Z",
     "start_time": "2023-05-12T10:36:39.725302400Z"
    }
   },
   "outputs": [],
   "source": [
    "agent_executor = AgentExecutor.from_agent_and_tools(agent=agent, tools=tools, verbose=True)"
   ]
  },
  {
   "cell_type": "code",
   "execution_count": 30,
   "id": "653b1617",
   "metadata": {
    "ExecuteTime": {
     "end_time": "2023-05-12T10:37:25.152537700Z",
     "start_time": "2023-05-12T10:37:15.018601700Z"
    }
   },
   "outputs": [
    {
     "name": "stdout",
     "output_type": "stream",
     "text": [
      "\n",
      "\n",
      "\u001B[1m> Entering new AgentExecutor chain...\u001B[0m\n",
      "\u001B[32;1m\u001B[1;3mThought: Dead by Daylightの最新のアップデートについては、私は情報を持っていません。\n",
      "Action: Search\n",
      "Action Input: \"Dead by Daylight 最新アップデート\"\u001B[0m\n",
      "\n",
      "Observation:\u001B[36;1m\u001B[1;3mDbD(デッドバイデイライト)のアップデート最新情報を紹介！アプデはいつ実装するのかやパッチノートの内容、過去のアプデ情報についても記載している ...\u001B[0m\n",
      "\u001B[32;1m\u001B[1;3m最新のアップデートはまだ実装されていないようです。\n",
      "Final Answer: 最新のDead by Daylightのアップデートはまだ実装されていない。\u001B[0m\n",
      "\n",
      "\u001B[1m> Finished chain.\u001B[0m\n"
     ]
    },
    {
     "data": {
      "text/plain": "'最新のDead by Daylightのアップデートはまだ実装されていない。'"
     },
     "execution_count": 30,
     "metadata": {},
     "output_type": "execute_result"
    }
   ],
   "source": [
    "agent_executor.run(\"Dead by Daylightの最新のアップデートはいつでしたか？\")"
   ]
  },
  {
   "cell_type": "code",
   "execution_count": null,
   "id": "adefb4c2",
   "metadata": {},
   "outputs": [],
   "source": []
  }
 ],
 "metadata": {
  "kernelspec": {
   "display_name": "Python 3 (ipykernel)",
   "language": "python",
   "name": "python3"
  },
  "language_info": {
   "codemirror_mode": {
    "name": "ipython",
    "version": 3
   },
   "file_extension": ".py",
   "mimetype": "text/x-python",
   "name": "python",
   "nbconvert_exporter": "python",
   "pygments_lexer": "ipython3",
   "version": "3.9.1"
  },
  "vscode": {
   "interpreter": {
    "hash": "18784188d7ecd866c0586ac068b02361a6896dc3a29b64f5cc957f09c590acef"
   }
  }
 },
 "nbformat": 4,
 "nbformat_minor": 5
}

{
 "cells": [
  {
   "cell_type": "markdown",
   "id": "3f34700b",
   "metadata": {},
   "source": [
    "# ChatGPTプラグイン\n",
    "\n",
    "この例では、LangChainの抽象化内でChatGPTプラグインを使用する方法を示します。\n",
    "\n",
    "注1：これは現在、認証が不要なプラグインでのみ機能します。\n",
    "\n",
    "注2：他にも方法があることはほぼ確実ですが、これは最初の試みです。もっと良いアイデアがあれば、ぜひPRをオープンしてください！"
   ]
  },
  {
   "cell_type": "code",
   "execution_count": null,
   "id": "d41405b5",
   "metadata": {},
   "outputs": [],
   "source": [
    "from langchain.chat_models import ChatOpenAI\n",
    "from langchain.agents import load_tools, initialize_agent\n",
    "from langchain.agents import AgentType\n",
    "from langchain.tools import AIPluginTool"
   ]
  },
  {
   "cell_type": "code",
   "execution_count": null,
   "id": "d9e61df5",
   "metadata": {},
   "outputs": [],
   "source": [
    "tool = AIPluginTool.from_plugin_url(\"https://www.klarna.com/.well-known/ai-plugin.json\")"
   ]
  },
  {
   "cell_type": "code",
   "execution_count": null,
   "id": "edc0ea0e",
   "metadata": {
    "scrolled": false
   },
   "outputs": [],
   "source": [
    "llm = ChatOpenAI(temperature=0)\n",
    "tools = load_tools([\"requests_all\"] )\n",
    "tools += [tool]\n",
    "\n",
    "agent_chain = initialize_agent(tools, llm, agent=AgentType.ZERO_SHOT_REACT_DESCRIPTION, verbose=True)\n",
    "agent_chain.run(\"what t shirts are available in klarna?\")"
   ]
  },
  {
   "cell_type": "code",
   "execution_count": null,
   "id": "e49318a4",
   "metadata": {},
   "outputs": [],
   "source": []
  }
 ],
 "metadata": {
  "kernelspec": {
   "display_name": "Python 3 (ipykernel)",
   "language": "python",
   "name": "python3"
  },
  "language_info": {
   "codemirror_mode": {
    "name": "ipython",
    "version": 3
   },
   "file_extension": ".py",
   "mimetype": "text/x-python",
   "name": "python",
   "nbconvert_exporter": "python",
   "pygments_lexer": "ipython3",
   "version": "3.9.1"
  }
 },
 "nbformat": 4,
 "nbformat_minor": 5
}

{
 "cells": [
  {
   "cell_type": "markdown",
   "id": "c613812f",
   "metadata": {},
   "source": [
    "# Gradioツール\n",
    "\n",
    "Hugging Face Spacesには数千ものGradioアプリがあります。このライブラリでは、それらをLLM（大規模言語モデル）ベースのエージェントがタスクを完了するために活用できるツールに変換します🦾\n",
    "\n",
    "具体的には、gradio-toolsは、GradioアプリをLLMベースのエージェントがタスクを完了するために利用できるツールに変換するPythonライブラリです。例えば、LLMはGradioツールを使ってオンラインで見つけた音声録音を書き起こし、それを要約してくれるかもしれません。また、別のGradioツールを使ってGoogleドライブ上のドキュメントにOCRを適用し、それに関する質問に答えることもできます。\n",
    "\n",
    "既存のプレビルドツール以外のスペースを使用したい場合でも、独自のツールを作成するのは簡単です。方法についてはgradio-toolsのドキュメントのこのセクションを参照してください。どんな貢献でも歓迎します！"
   ]
  },
  {
   "cell_type": "code",
   "execution_count": null,
   "id": "231b46c2",
   "metadata": {},
   "outputs": [],
   "source": [
    "# !pip install gradio_tools"
   ]
  },
  {
   "cell_type": "markdown",
   "id": "17608431",
   "metadata": {},
   "source": [
    "## ツールの使用"
   ]
  },
  {
   "cell_type": "code",
   "execution_count": null,
   "id": "423f9dad",
   "metadata": {},
   "outputs": [],
   "source": [
    "from gradio_tools.tools import StableDiffusionTool"
   ]
  },
  {
   "cell_type": "code",
   "execution_count": null,
   "id": "30b8f077",
   "metadata": {},
   "outputs": [],
   "source": [
    "local_file_path = StableDiffusionTool().langchain.run(\"Please create a photo of a dog riding a skateboard\")\n",
    "local_file_path"
   ]
  },
  {
   "cell_type": "code",
   "execution_count": null,
   "id": "b7bdfd26",
   "metadata": {},
   "outputs": [],
   "source": [
    "from PIL import Image"
   ]
  },
  {
   "cell_type": "code",
   "execution_count": null,
   "id": "98e09784",
   "metadata": {},
   "outputs": [],
   "source": [
    "im = Image.open(local_file_path)"
   ]
  },
  {
   "cell_type": "code",
   "execution_count": null,
   "id": "98e1e602",
   "metadata": {
    "scrolled": false
   },
   "outputs": [],
   "source": [
    "display(im)"
   ]
  },
  {
   "cell_type": "markdown",
   "id": "3aeeeeb5",
   "metadata": {},
   "source": [
    "## エージェント内での使用"
   ]
  },
  {
   "cell_type": "code",
   "execution_count": null,
   "id": "4a9d45b7",
   "metadata": {},
   "outputs": [],
   "source": [
    "from langchain.agents import initialize_agent\n",
    "from langchain.llms import OpenAI\n",
    "from gradio_tools.tools import (StableDiffusionTool, ImageCaptioningTool, StableDiffusionPromptGeneratorTool,\n",
    "                                TextToVideoTool)\n",
    "\n",
    "from langchain.memory import ConversationBufferMemory\n",
    "\n",
    "llm = OpenAI(temperature=0)\n",
    "memory = ConversationBufferMemory(memory_key=\"chat_history\")\n",
    "tools = [StableDiffusionTool().langchain, ImageCaptioningTool().langchain,\n",
    "         StableDiffusionPromptGeneratorTool().langchain, TextToVideoTool().langchain]\n",
    "\n",
    "\n",
    "agent = initialize_agent(tools, llm, memory=memory, agent=\"conversational-react-description\", verbose=True)\n",
    "output = agent.run(input=\"Please create a photo of a dog riding a skateboard \"\n",
    "                         \"but improve my prompt prior to using an image generator.\"\n",
    "                          \"Please caption the generated image and create a video for it using the improved prompt.\")"
   ]
  },
  {
   "cell_type": "code",
   "execution_count": null,
   "id": "67642c82",
   "metadata": {},
   "outputs": [],
   "source": []
  }
 ],
 "metadata": {
  "kernelspec": {
   "display_name": "Python 3 (ipykernel)",
   "language": "python",
   "name": "python3"
  },
  "language_info": {
   "codemirror_mode": {
    "name": "ipython",
    "version": 3
   },
   "file_extension": ".py",
   "mimetype": "text/x-python",
   "name": "python",
   "nbconvert_exporter": "python",
   "pygments_lexer": "ipython3",
   "version": "3.9.1"
  }
 },
 "nbformat": 4,
 "nbformat_minor": 5
}

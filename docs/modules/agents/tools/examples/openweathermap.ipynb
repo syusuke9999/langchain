{
 "cells": [
  {
   "attachments": {},
   "cell_type": "markdown",
   "id": "245a954a",
   "metadata": {},
   "source": [
    "# OpenWeatherMap API\n",
    "\n",
    "This notebook goes over how to use the OpenWeatherMap component to fetch weather information.\n",
    "\n",
    "First, you need to sign up for an OpenWeatherMap API key:\n",
    "\n",
    "1. Go to OpenWeatherMap and sign up for an API key [here](https://openweathermap.org/api/)\n",
    "2. pip install pyowm\n",
    "\n",
    "Then we will need to set some environment variables:\n",
    "1. Save your API KEY into OPENWEATHERMAP_API_KEY env variable"
   ]
  },
  {
   "cell_type": "code",
   "execution_count": 1,
   "id": "961b3689",
   "metadata": {
    "vscode": {
     "languageId": "shellscript"
    },
    "ExecuteTime": {
     "end_time": "2023-05-09T18:35:39.723535800Z",
     "start_time": "2023-05-09T18:35:35.990537600Z"
    }
   },
   "outputs": [
    {
     "name": "stdout",
     "output_type": "stream",
     "text": [
      "Requirement already satisfied: pyowm in c:\\users\\yagi-\\dropbox\\pycharmprojects\\langchain-ja\\.venv\\lib\\site-packages (3.3.0)\n",
      "Requirement already satisfied: requests<3,>=2.20.0 in c:\\users\\yagi-\\dropbox\\pycharmprojects\\langchain-ja\\.venv\\lib\\site-packages (from pyowm) (2.28.2)\n",
      "Requirement already satisfied: geojson<3,>=2.3.0 in c:\\users\\yagi-\\dropbox\\pycharmprojects\\langchain-ja\\.venv\\lib\\site-packages (from pyowm) (2.5.0)\n",
      "Requirement already satisfied: PySocks<2,>=1.7.1 in c:\\users\\yagi-\\dropbox\\pycharmprojects\\langchain-ja\\.venv\\lib\\site-packages (from pyowm) (1.7.1)\n",
      "Requirement already satisfied: charset-normalizer<4,>=2 in c:\\users\\yagi-\\dropbox\\pycharmprojects\\langchain-ja\\.venv\\lib\\site-packages (from requests<3,>=2.20.0->pyowm) (3.1.0)\n",
      "Requirement already satisfied: idna<4,>=2.5 in c:\\users\\yagi-\\dropbox\\pycharmprojects\\langchain-ja\\.venv\\lib\\site-packages (from requests<3,>=2.20.0->pyowm) (3.4)\n",
      "Requirement already satisfied: urllib3<1.27,>=1.21.1 in c:\\users\\yagi-\\dropbox\\pycharmprojects\\langchain-ja\\.venv\\lib\\site-packages (from requests<3,>=2.20.0->pyowm) (1.26.15)\n",
      "Requirement already satisfied: certifi>=2017.4.17 in c:\\users\\yagi-\\dropbox\\pycharmprojects\\langchain-ja\\.venv\\lib\\site-packages (from requests<3,>=2.20.0->pyowm) (2022.12.7)\n",
      "Note: you may need to restart the kernel to use updated packages.\n"
     ]
    },
    {
     "name": "stderr",
     "output_type": "stream",
     "text": [
      "\n",
      "[notice] A new release of pip is available: 23.1 -> 23.1.2\n",
      "[notice] To update, run: python.exe -m pip install --upgrade pip\n"
     ]
    }
   ],
   "source": [
    "import pyowm\n",
    "\n",
    "!pip install pyowm"
   ]
  },
  {
   "cell_type": "code",
   "execution_count": 2,
   "id": "34bb5968",
   "metadata": {
    "ExecuteTime": {
     "end_time": "2023-05-09T18:36:50.503895100Z",
     "start_time": "2023-05-09T18:36:50.481893500Z"
    }
   },
   "outputs": [],
   "source": [
    "import os\n",
    "os.environ[\"OPENWEATHERMAP_API_KEY\"] = \"-----------------------------\""
   ]
  },
  {
   "cell_type": "code",
   "execution_count": 3,
   "id": "ac4910f8",
   "metadata": {
    "ExecuteTime": {
     "end_time": "2023-05-09T18:36:53.983904800Z",
     "start_time": "2023-05-09T18:36:51.804904800Z"
    }
   },
   "outputs": [],
   "source": [
    "from langchain.utilities import OpenWeatherMapAPIWrapper"
   ]
  },
  {
   "cell_type": "code",
   "execution_count": 4,
   "id": "84b8f773",
   "metadata": {
    "ExecuteTime": {
     "end_time": "2023-05-09T18:36:54.046904400Z",
     "start_time": "2023-05-09T18:36:53.985905600Z"
    }
   },
   "outputs": [],
   "source": [
    "weather = OpenWeatherMapAPIWrapper()"
   ]
  },
  {
   "cell_type": "code",
   "execution_count": 7,
   "id": "9651f324-e74a-4f08-a28a-89db029f66f8",
   "metadata": {
    "ExecuteTime": {
     "end_time": "2023-05-09T18:37:13.373370300Z",
     "start_time": "2023-05-09T18:37:12.956372800Z"
    }
   },
   "outputs": [],
   "source": [
    "weather_data = weather.run(\"Hamamatsu,JP\")"
   ]
  },
  {
   "cell_type": "code",
   "execution_count": 8,
   "id": "028f4cba",
   "metadata": {
    "ExecuteTime": {
     "end_time": "2023-05-09T18:37:14.078524700Z",
     "start_time": "2023-05-09T18:37:14.068524400Z"
    }
   },
   "outputs": [
    {
     "name": "stdout",
     "output_type": "stream",
     "text": [
      "In Hamamatsu,JP, the current weather is as follows:\n",
      "Detailed status: clear sky\n",
      "Wind speed: 2.08 m/s, direction: 354°\n",
      "Humidity: 67%\n",
      "Temperature: \n",
      "  - Current: 11.63°C\n",
      "  - High: 11.63°C\n",
      "  - Low: 11.63°C\n",
      "  - Feels like: 10.6°C\n",
      "Rain: {}\n",
      "Heat index: None\n",
      "Cloud cover: 0%\n"
     ]
    }
   ],
   "source": [
    "print(weather_data)"
   ]
  },
  {
   "cell_type": "code",
   "execution_count": null,
   "outputs": [],
   "source": [],
   "metadata": {
    "collapsed": false
   }
  }
 ],
 "metadata": {
  "kernelspec": {
   "display_name": "Python 3",
   "language": "python",
   "name": "python3"
  },
  "language_info": {
   "codemirror_mode": {
    "name": "ipython",
    "version": 3
   },
   "file_extension": ".py",
   "mimetype": "text/x-python",
   "name": "python",
   "nbconvert_exporter": "python",
   "pygments_lexer": "ipython3",
   "version": "3.11.2"
  }
 },
 "nbformat": 4,
 "nbformat_minor": 5
}

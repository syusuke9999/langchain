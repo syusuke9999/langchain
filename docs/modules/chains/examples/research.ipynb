{
 "cells": [
  {
   "cell_type": "markdown",
   "id": "d0187afb-f460-431f-aee3-50d68bc33446",
   "metadata": {},
   "source": [
    "# Research Chain\n",
    "\n",
    "This is an experimental research chain that tries to answer \"researchy\" questions using information on the web.\n",
    "\n",
    "\n",
    "For example, \n",
    "\n",
    "```\n",
    "Compile information about Albert Einstein.\n",
    "Ignore if it's a different Albert Einstein. \n",
    "Only include information you're certain about.\n",
    "\n",
    "Include:\n",
    "* education history\n",
    "* major contributions\n",
    "* names of spouse \n",
    "* date of birth\n",
    "* place of birth\n",
    "* a 3 sentence short biography\n",
    "\n",
    "Format your answer in a bullet point format for each sub-question.\n",
    "```\n",
    "\n",
    "Or replace `Albert Einstein` with another person of interest (e.g., John Smith of Boston).\n",
    "\n",
    "\n",
    "The chain is composed of the following components:\n",
    "\n",
    "1. A searcher that searches for documents using a search engine.\n",
    "    - The searcher is responsible to return a list of URLs of documents that\n",
    "      may be relevant to read to be able to answer the question.\n",
    "2. A downloader that downloads the documents.\n",
    "3. An HTML to markdown parser (hard coded) that converts the HTML to markdown.\n",
    "    * Conversion to markdown is lossy\n",
    "    * However, it can significantly reduce the token count of the document\n",
    "    * Markdown helps to preserve some styling information\n",
    "      (e.g., bold, italics, links, headers) which is expected to help the reader\n",
    "      to answer certain kinds of questions correctly.\n",
    "4. A reader that reads the documents and produces an answer.\n",
    "\n",
    "## Limitations\n",
    "\n",
    "* Quality of results depends on LLM used, and can be improved by providing more specialized parsers (e.g., parse only the body of articles).\n",
    "* If asking about people, provide enough information to disambiguate the person.\n",
    "* Content downloader may get blocked (e.g., if attempting to download from linkedin) -- may need to read terms of service / user agents appropriately.\n",
    "* Chain can be potentially long running (use initialization parameters to control how many options are explored) -- use async implementation as it uses more concurrency.\n",
    "* This research chain only implements a single hop at the moment; i.e.,\n",
    "  it goes from the questions to a list of URLs to documents to compiling answers.\n",
    "  Without continuing the crawl, web-sites that require pagnation will not be explored fully.\n",
    "* The reader chain must match the type of question. For example, the QA refine chain \n",
    "  isn't good at extracting a list of entries from a long document.\n",
    "  \n",
    "## Extending\n",
    "\n",
    "* Continue crawling documents to discover more relevant pages that were not surfaced by the search engine.\n",
    "* Adapt reading strategy based on nature of question.\n",
    "* Analyze the query and determine whether the query is a multi-hop query and change search/crawling strategy based on that.\n",
    "* Break components into tools that can be exposed to an agent. :)\n",
    "* Add cheaper strategies for selecting which links should be explored further (e.g., based on tf-idf similarity instead of gpt-4)\n",
    "* Add a summarization chain on top of the individually collected answers.\n",
    "* Improve strategy to ignore irrelevant information."
   ]
  },
  {
   "cell_type": "markdown",
   "id": "4d937a38-66c6-4aa2-87bb-337101cfb112",
   "metadata": {},
   "source": [
    "# Requirements\n",
    "\n",
    "Please install: \n",
    "\n",
    "* `playwright` for fetching content from the web (or use the RequestsDownloadHandler)\n",
    "* `lxml` and `markdownify` for parsing HTMLs"
   ]
  },
  {
   "cell_type": "code",
   "execution_count": 1,
   "id": "7eb466b8-24fa-4acc-b0ce-06fcfa2fa9c4",
   "metadata": {
    "tags": []
   },
   "outputs": [],
   "source": [
    "from langchain.chains.research.api import Research\n",
    "from langchain.chat_models import ChatOpenAI\n",
    "from langchain.llms import OpenAI\n",
    "from langchain.chains.question_answering import load_qa_chain\n",
    "from langchain.chains.research.download import PlaywrightDownloadHandler\n",
    "# If you don't have playwright installed, can experiment with requests\n",
    "# Be aware that some web-pages won't download properly as javascript won't be executed\n",
    "from langchain.chains.research.download import RequestsDownloadHandler "
   ]
  },
  {
   "cell_type": "code",
   "execution_count": 3,
   "id": "70474885-0acd-41b2-8050-15dd54f44f1e",
   "metadata": {
    "tags": []
   },
   "outputs": [],
   "source": [
    "question = \"\"\"\\\n",
    "Compile information about Albert Einstein.\n",
    "Ignore if it's a different Albert Einstein. \n",
    "Only include information you're certain about.\n",
    "\n",
    "Include:\n",
    "* education history\n",
    "* major contributions\n",
    "* names of spouse \n",
    "* date of birth\n",
    "* place of birth\n",
    "* a 3 sentence short biography\n",
    "\n",
    "Format your answer in a bullet point format for each sub-question.\n",
    "\"\"\".strip()"
   ]
  },
  {
   "cell_type": "markdown",
   "id": "6613da1c-3349-45f4-9770-19986750d548",
   "metadata": {},
   "source": [
    "Instantiate LLMs"
   ]
  },
  {
   "cell_type": "code",
   "execution_count": 4,
   "id": "e74a44b4-2075-4cc6-933e-c769bf3f6002",
   "metadata": {
    "tags": []
   },
   "outputs": [],
   "source": [
    "llm = OpenAI(\n",
    "    temperature=0, model=\"text-davinci-003\"\n",
    ")  # Used for the readers and the query generator\n",
    "selector_llm = ChatOpenAI(\n",
    "    temperature=0, model=\"gpt-4\"\n",
    ")  # Used for selecting which links to explore"
   ]
  },
  {
   "cell_type": "markdown",
   "id": "b243364a-e79b-432d-8035-3de8caf554a8",
   "metadata": {},
   "source": [
    "Create a chain that can be used to extract the answer to the question above from a given document.\n",
    "\n",
    "This chain must be tailored to the task."
   ]
  },
  {
   "cell_type": "code",
   "execution_count": 5,
   "id": "2f538062-14e3-49ab-9b25-bc470eb5869c",
   "metadata": {
    "tags": []
   },
   "outputs": [],
   "source": [
    "qa_chain = load_qa_chain(llm, chain_type=\"refine\")"
   ]
  },
  {
   "cell_type": "code",
   "execution_count": 6,
   "id": "a96f3ed3-10de-4a85-9e93-a8b78d8bfbb6",
   "metadata": {
    "tags": []
   },
   "outputs": [],
   "source": [
    "research = Research.from_llms(\n",
    "    query_generation_llm=llm,\n",
    "    link_selection_llm=selector_llm,\n",
    "    underlying_reader_chain=qa_chain,\n",
    "    top_k_per_search=1,\n",
    "    max_num_pages_per_doc=3,\n",
    "    download_handler=PlaywrightDownloadHandler(),\n",
    ")"
   ]
  },
  {
   "cell_type": "code",
   "execution_count": 7,
   "id": "3207c696-a72c-4378-b427-7d285f5fdd1c",
   "metadata": {
    "tags": []
   },
   "outputs": [],
   "source": [
    "results = await research.acall(inputs={\"question\": question})"
   ]
  },
  {
   "cell_type": "code",
   "execution_count": 8,
   "id": "843616b3-32d7-49c7-a42b-b0272d71f3ed",
   "metadata": {
    "tags": []
   },
   "outputs": [
    {
     "name": "stdout",
     "output_type": "stream",
     "text": [
      "----------------------------------------------------------------------------------------------------------------------------------------------------------------\n",
      "https://en.wikipedia.org/wiki/Albert_Einstein\n",
      "\n",
      "\n",
      "Albert Einstein:\n",
      "* Education history: Attended elementary school in Munich, Germany, and later attended the Swiss Federal Polytechnic School in Zurich, Switzerland.\n",
      "* Major contributions: Developed the theory of relativity, made major contributions to quantum theory, and won the Nobel Prize in Physics in 1921. He also published more than 300 scientific papers and 150 non-scientific works. He was also the first to propose the existence of black holes and gravitational waves. He was also a polyglot, speaking over 15 languages, including Afrikaans, Alemannisch, Amharic, Anarâškielâ, Angika, Old English, Abkhazian, Arabic, Aragonese, Western Armenian, Aromanian, Arpitan, Assamese, Asturian, Guarani, Aymara, Azerbaijani, South Azerbaijani, Balinese, Bambara, Bangla, Min Nan Chinese, Basa Banyumasan, Bashkir, Belarusian, Belarusian (Taraškievica orthography), Bhojpuri, Central Bikol, and Bulgarian.\n",
      "* Names of spouse: Married Mileva Marić in 1903 and Elsa Löwenthal in 1919\n",
      "----------------------------------------------------------------------------------------------------------------------------------------------------------------\n",
      "https://www.advergize.com/edu/7-albert-einstein-inventions-contributions/\n",
      "\n",
      "\n",
      "Education History:\n",
      "* Attended Aargau Cantonal School in Switzerland from 1895-1896\n",
      "* Attended ETH Zurich from 1896-1900\n",
      "* Received a PhD from the University of Zurich in 1905\n",
      "\n",
      "Major Contributions:\n",
      "* Theory of Relativity\n",
      "* Photoelectric Effect\n",
      "* Brownian Motion\n",
      "* Bose-Einstein Condensate\n",
      "* Unified Field Theory\n",
      "* Quantum Theory of Light\n",
      "* E=mc2\n",
      "* Manhattan Project\n",
      "* Einstein’s Refrigerator\n",
      "* Sky is Blue\n",
      "* Quantum Theory of Light\n",
      "* Photoelectric Effect\n",
      "* Brownian Movement\n",
      "* Special Theory of Relativity\n",
      "* General Theory of Relativity\n",
      "* Manhattan Project\n",
      "* Einstein’s Refrigerator\n",
      "\n",
      "Names of Spouse:\n",
      "* Mileva Maric (1903-1919)\n",
      "* Elsa Löwenthal (1919-1936)\n",
      "\n",
      "Date of Birth: March 14, 1879\n",
      "\n",
      "Place of Birth: Ulm, Germany\n",
      "\n",
      "Short Biography:\n",
      "Albert Einstein was a German-born physicist who developed the theory of relativity. He is widely considered one of the most influential scientists of the 20th century and is known for his mass-energy equivalence formula\n",
      "----------------------------------------------------------------------------------------------------------------------------------------------------------------\n",
      "https://www.nobelprize.org/prizes/physics/1921/einstein/biographical/\n",
      "\n",
      "\n",
      "Education History:\n",
      "* Attended Aargau Cantonal School in Aarau, Switzerland from 1895-1896\n",
      "* Attended ETH Zurich (Swiss Federal Institute of Technology) from 1896-1900\n",
      "* Obtained his doctorate degree from Swiss Federal Polytechnic School in Zurich in 1901\n",
      "\n",
      "Major Contributions:\n",
      "* Developed the theory of relativity\n",
      "* Developed the mass-energy equivalence formula (E=mc2)\n",
      "* Developed the law of the photoelectric effect\n",
      "* Postulated that the correct interpretation of the special theory of relativity must also furnish a theory of gravitation\n",
      "* Contributed to the problems of the theory of radiation and statistical mechanics\n",
      "* Investigated the thermal properties of light with a low radiation density and his observations laid the foundation of the photon theory of light\n",
      "* Contributed to statistical mechanics by his development of the quantum theory of a monatomic gas\n",
      "* Worked towards the unification of the basic concepts of physics, taking the opposite approach, geometrisation, to the majority of physicists\n",
      "\n",
      "Names of Spouse:\n",
      "* Mileva Marić (1903-1919)\n",
      "* Elsa Löwenthal (1919-1936)\n",
      "\n",
      "Date of Birth:\n",
      "\n"
     ]
    }
   ],
   "source": [
    "for doc in results[\"docs\"]:\n",
    "    print(\"--\" * 80)\n",
    "    print(doc.metadata[\"source\"])\n",
    "    print(doc.page_content)"
   ]
  },
  {
   "cell_type": "markdown",
   "id": "edcaf496-3679-4b58-9baa-6124e1cc3435",
   "metadata": {},
   "source": [
    "If useful we can produce another summary!"
   ]
  },
  {
   "cell_type": "code",
   "execution_count": 9,
   "id": "76136bff-b7df-4539-9bcb-760fc4449390",
   "metadata": {
    "tags": []
   },
   "outputs": [],
   "source": [
    "qa_chain = load_qa_chain(llm, chain_type=\"stuff\")"
   ]
  },
  {
   "cell_type": "code",
   "execution_count": 10,
   "id": "b352f3f3-6777-4795-acbb-ed26ecac137d",
   "metadata": {
    "tags": []
   },
   "outputs": [],
   "source": [
    "summary = await qa_chain.acall(\n",
    "    inputs={\"input_documents\": results[\"docs\"], \"question\": question}\n",
    ")"
   ]
  },
  {
   "cell_type": "code",
   "execution_count": 11,
   "id": "1c90c305-a89d-42e2-b975-dda039e816b6",
   "metadata": {
    "tags": []
   },
   "outputs": [
    {
     "name": "stdout",
     "output_type": "stream",
     "text": [
      "\n",
      "\n",
      "Education History:\n",
      "* Attended Aargau Cantonal School in Aarau, Switzerland from 1895-1896\n",
      "* Attended ETH Zurich (Swiss Federal Institute of Technology) from 1896-1900\n",
      "* Obtained his doctorate degree from Swiss Federal Polytechnic School in Zurich in 1901\n",
      "\n",
      "Major Contributions:\n",
      "* Developed the theory of relativity\n",
      "* Developed the mass-energy equivalence formula (E=mc2)\n",
      "* Developed the law of the photoelectric effect\n",
      "* Postulated that the correct interpretation of the special theory of relativity must also furnish a theory of gravitation\n",
      "* Contributed to the problems of the theory of radiation and statistical mechanics\n",
      "* Investigated the thermal properties of light with a low radiation density and his observations laid the foundation of the photon theory of light\n",
      "* Contributed to statistical mechanics by his development of the quantum theory of a monatomic gas\n",
      "* Worked towards the unification of the basic concepts of physics, taking the opposite approach, geometrisation, to the majority of physicists\n",
      "\n",
      "Names of Spouse:\n",
      "* Mileva Marić (1903-1919)\n",
      "* Elsa Löwenthal (1919-1936)\n",
      "\n",
      "Date of Birth: March\n"
     ]
    }
   ],
   "source": [
    "print(summary[\"output_text\"])"
   ]
  },
  {
   "cell_type": "markdown",
   "id": "af2adfee-85d3-41af-900a-c594dc01ce16",
   "metadata": {},
   "source": [
    "## Under the hood"
   ]
  },
  {
   "cell_type": "markdown",
   "id": "c307aa60-7e75-48e8-ba72-b45507ed3fe0",
   "metadata": {},
   "source": [
    "A searcher is invoked first to find URLs that are good to explore"
   ]
  },
  {
   "cell_type": "code",
   "execution_count": 12,
   "id": "4e2c369c-8763-458e-9ab8-684466395890",
   "metadata": {
    "tags": []
   },
   "outputs": [
    {
     "data": {
      "text/plain": [
       "{'question': \"Compile information about Albert Einstein.\\nIgnore if it's a different Albert Einstein. \\nOnly include information you're certain about.\\n\\nInclude:\\n* education history\\n* major contributions\\n* names of spouse \\n* date of birth\\n* place of birth\\n* a 3 sentence short biography\\n\\nFormat your answer in a bullet point format for each sub-question.\",\n",
       " 'urls': ['https://en.wikipedia.org/wiki/Albert_Einstein',\n",
       "  'https://www.britannica.com/biography/Albert-Einstein',\n",
       "  'https://www.advergize.com/edu/7-albert-einstein-inventions-contributions/',\n",
       "  'https://www.nobelprize.org/prizes/physics/1921/einstein/biographical/']}"
      ]
     },
     "execution_count": 12,
     "metadata": {},
     "output_type": "execute_result"
    }
   ],
   "source": [
    "suggetions = await research.searcher.acall(inputs={\"question\": question})\n",
    "suggetions"
   ]
  },
  {
   "cell_type": "markdown",
   "id": "24099529-2d3d-4eca-8a1f-45a2539c8842",
   "metadata": {},
   "source": [
    "The webpages are downloaded"
   ]
  },
  {
   "cell_type": "code",
   "execution_count": 13,
   "id": "c6f9d1b5-e513-4d8d-b325-32eacbee92b4",
   "metadata": {
    "tags": []
   },
   "outputs": [],
   "source": [
    "blobs = await research.downloader.adownload(suggetions[\"urls\"])"
   ]
  },
  {
   "cell_type": "markdown",
   "id": "58909ce0-fd1c-4e09-9d13-b43135ee8038",
   "metadata": {},
   "source": [
    "The blobs are parsed with an HTML parser and read by the reader chain (not shown) -- see underlying code for details."
   ]
  }
 ],
 "metadata": {
  "kernelspec": {
   "display_name": "Python 3 (ipykernel)",
   "language": "python",
   "name": "python3"
  },
  "language_info": {
   "codemirror_mode": {
    "name": "ipython",
    "version": 3
   },
   "file_extension": ".py",
   "mimetype": "text/x-python",
   "name": "python",
   "nbconvert_exporter": "python",
   "pygments_lexer": "ipython3",
   "version": "3.11.2"
  }
 },
 "nbformat": 4,
 "nbformat_minor": 5
}

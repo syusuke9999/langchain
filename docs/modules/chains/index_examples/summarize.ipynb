{
 "cells": [
  {
   "cell_type": "markdown",
   "id": "d9a0131f",
   "metadata": {},
   "source": [
    "# 要約\n",
    "\n",
    "このノートブックでは、複数のドキュメントに対してLangChainを使用して要約を行う方法について説明します。 `stuff`、`map_reduce`、`refine`の3つの異なるチェーンタイプをカバーしています。これらのチェーンタイプが何であるかの詳細な説明については、[こちら](https://docs.langchain.com/docs/components/chains/index_related_chains)を参照してください。"
   ]
  },
  {
   "cell_type": "markdown",
   "id": "0b5660bf",
   "metadata": {},
   "source": [
    "## データの準備\n",
    "まず、データを準備します。この例では、1つの長いドキュメントから複数のドキュメントを作成しますが、これらのドキュメントは任意の方法で取得できます（このノートブックのポイントは、ドキュメントを取得した後に何をするかを強調することです）。"
   ]
  },
  {
   "cell_type": "code",
   "execution_count": null,
   "id": "e9db25f3",
   "metadata": {},
   "outputs": [],
   "source": [
    "from langchain import OpenAI, PromptTemplate, LLMChain\n",
    "from langchain.text_splitter import CharacterTextSplitter\n",
    "from langchain.chains.mapreduce import MapReduceChain\n",
    "from langchain.prompts import PromptTemplate\n",
    "from langchain.chat_models import ChatOpenAI\n",
    "llm = ChatOpenAI(temperature=0)\n",
    "\n",
    "text_splitter = CharacterTextSplitter()"
   ]
  },
  {
   "cell_type": "code",
   "execution_count": null,
   "id": "99bbe19b",
   "metadata": {},
   "outputs": [],
   "source": [
    "with open(\"../../state_of_the_union.txt\") as f:\n",
    "    state_of_the_union = f.read()\n",
    "texts = text_splitter.split_text(state_of_the_union)"
   ]
  },
  {
   "cell_type": "code",
   "execution_count": null,
   "id": "baa6e808",
   "metadata": {},
   "outputs": [],
   "source": [
    "from langchain.docstore.document import Document\n",
    "\n",
    "docs = [Document(page_content=t) for t in texts[:3]]"
   ]
  },
  {
   "cell_type": "code",
   "execution_count": null,
   "id": "27989fc4",
   "metadata": {},
   "outputs": [],
   "source": [
    "from langchain.chains.summarize import load_summarize_chain"
   ]
  },
  {
   "cell_type": "markdown",
   "id": "21284c47",
   "metadata": {},
   "source": [
    "## クイックスタート\n",
    "できるだけ早く始めたい場合は、以下の手順をお勧めします。"
   ]
  },
  {
   "cell_type": "code",
   "execution_count": null,
   "id": "5cfa89b2",
   "metadata": {},
   "outputs": [],
   "source": [
    "chain = load_summarize_chain(llm, chain_type=\"map_reduce\")\n",
    "chain.run(docs)"
   ]
  },
  {
   "cell_type": "markdown",
   "id": "1bc784bd",
   "metadata": {},
   "source": [
    "もし、より多くの制御や理解を望む場合は、以下の情報を参照してください。"
   ]
  },
  {
   "cell_type": "markdown",
   "id": "ea2d5c99",
   "metadata": {},
   "source": [
    "## The `stuff` Chain\n",
    "\n",
    "This sections shows results of using the `stuff` Chain to do summarization."
   ]
  },
  {
   "cell_type": "code",
   "execution_count": null,
   "id": "f01f3196",
   "metadata": {},
   "outputs": [],
   "source": [
    "chain = load_summarize_chain(llm, chain_type=\"stuff\")"
   ]
  },
  {
   "cell_type": "code",
   "execution_count": null,
   "id": "da4d9801",
   "metadata": {},
   "outputs": [],
   "source": [
    "chain.run(docs)"
   ]
  },
  {
   "cell_type": "markdown",
   "id": "42b6d8ae",
   "metadata": {},
   "source": [
    "**カスタムプロンプト**\n",
    "\n",
    "このチェーンでは、独自のプロンプトも使用できます。この例では、日本語で応答します。"
   ]
  },
  {
   "cell_type": "code",
   "execution_count": null,
   "id": "71dc4212",
   "metadata": {},
   "outputs": [],
   "source": [
    "prompt_template = \"\"\"Write a concise summary of the following:\n",
    "\n",
    "\n",
    "{text}\n",
    "\n",
    "\n",
    "CONCISE SUMMARY IN JAPANESE:\"\"\"\n",
    "PROMPT = PromptTemplate(template=prompt_template, input_variables=[\"text\"])\n",
    "chain = load_summarize_chain(llm, chain_type=\"stuff\", prompt=PROMPT)\n",
    "chain.run(docs)"
   ]
  },
  {
   "cell_type": "markdown",
   "id": "9c868e86",
   "metadata": {},
   "source": [
    "## `map_reduce` チェーン\n",
    "\n",
    "このセクションでは、`map_reduce` チェーンを使用して要約を行った結果を示します。"
   ]
  },
  {
   "cell_type": "code",
   "execution_count": null,
   "id": "ef28e1d4",
   "metadata": {},
   "outputs": [],
   "source": [
    "chain = load_summarize_chain(llm, chain_type=\"map_reduce\")"
   ]
  },
  {
   "cell_type": "code",
   "execution_count": null,
   "id": "f82c5f9f",
   "metadata": {},
   "outputs": [],
   "source": [
    "chain.run(docs)"
   ]
  },
  {
   "cell_type": "markdown",
   "id": "d0c2a6d3",
   "metadata": {},
   "source": [
    "**中間ステップ**\n",
    "\n",
    "`map_reduce`チェーンの中間ステップを返すこともできます。これは、それらを検査したい場合に行われます。これは、`return_map_steps`変数を使用して行われます。"
   ]
  },
  {
   "cell_type": "code",
   "execution_count": null,
   "id": "d9cfc24e",
   "metadata": {},
   "outputs": [],
   "source": [
    "chain = load_summarize_chain(ChatOpenAI(temperature=0), chain_type=\"map_reduce\", return_intermediate_steps=True)"
   ]
  },
  {
   "cell_type": "code",
   "execution_count": null,
   "id": "c7dff5e8",
   "metadata": {},
   "outputs": [],
   "source": [
    "chain({\"input_documents\": docs}, return_only_outputs=True)"
   ]
  },
  {
   "cell_type": "markdown",
   "id": "255c8993",
   "metadata": {},
   "source": [
    "**カスタムプロンプト**\n",
    "\n",
    "このチェーンでは、独自のプロンプトも使用できます。この例では、日本語で返答します。"
   ]
  },
  {
   "cell_type": "code",
   "execution_count": null,
   "id": "b65d5069",
   "metadata": {},
   "outputs": [],
   "source": [
    "prompt_template = \"\"\"Write a concise summary of the following:\n",
    "\n",
    "\n",
    "{text}\n",
    "\n",
    "\n",
    "CONCISE SUMMARY IN JAPANESE:\"\"\"\n",
    "PROMPT = PromptTemplate(template=prompt_template, input_variables=[\"text\"])\n",
    "chain = load_summarize_chain(ChatOpenAI(temperature=0), chain_type=\"map_reduce\", return_intermediate_steps=True, map_prompt=PROMPT, combine_prompt=PROMPT)\n",
    "chain({\"input_documents\": docs}, return_only_outputs=True)"
   ]
  },
  {
   "cell_type": "markdown",
   "id": "f61350f9",
   "metadata": {},
   "source": [
    "## `refine` チェーン\n",
    "\n",
    "このセクションでは、`refine` チェーンを使用して要約を行った結果を示します。"
   ]
  },
  {
   "cell_type": "code",
   "execution_count": null,
   "id": "3bcbe31e",
   "metadata": {},
   "outputs": [],
   "source": [
    "chain = load_summarize_chain(llm, chain_type=\"refine\", map_prompt=PROMPT, combine_prompt=PROMPT)\n",
    "\n",
    "chain.run(docs)"
   ]
  },
  {
   "cell_type": "markdown",
   "id": "84e9567e",
   "metadata": {},
   "source": [
    "**中間ステップ**\n",
    "\n",
    "`refine`チェーンの中間ステップも返すことができます。これは、それらを検査したい場合に行います。これは、`return_refine_steps`変数を使用して行われます。"
   ]
  },
  {
   "cell_type": "code",
   "execution_count": null,
   "id": "cd49ac4d",
   "metadata": {},
   "outputs": [],
   "source": [
    "chain = load_summarize_chain(ChatOpenAI(temperature=0), chain_type=\"refine\", return_intermediate_steps=True)\n",
    "\n",
    "chain({\"input_documents\": docs}, return_only_outputs=True)"
   ]
  },
  {
   "cell_type": "markdown",
   "id": "822be0d2",
   "metadata": {},
   "source": [
    "**カスタムプロンプト**\n",
    "\n",
    "このチェーンでは、独自のプロンプトも使用できます。この例では、日本語で応答します。"
   ]
  },
  {
   "cell_type": "code",
   "execution_count": null,
   "id": "ffe37bec",
   "metadata": {},
   "outputs": [],
   "source": [
    "prompt_template = \"\"\"Write a concise summary of the following:\n",
    "\n",
    "\n",
    "{text}\n",
    "\n",
    "\n",
    "CONCISE SUMMARY IN JAPANESE:\"\"\"\n",
    "PROMPT = PromptTemplate(template=prompt_template, input_variables=[\"text\"])\n",
    "refine_template = (\n",
    "    \"Your job is to produce a final summary\\n\"\n",
    "    \"We have provided an existing summary up to a certain point: {existing_answer}\\n\"\n",
    "    \"We have the opportunity to refine the existing summary\"\n",
    "    \"(only if needed) with some more context below.\\n\"\n",
    "    \"------------\\n\"\n",
    "    \"{text}\\n\"\n",
    "    \"------------\\n\"\n",
    "    \"Given the new context, refine the original summary in Japanese\"\n",
    "    \"If the context isn't useful, return the original summary.\"\n",
    ")\n",
    "refine_prompt = PromptTemplate(\n",
    "    input_variables=[\"existing_answer\", \"text\"],\n",
    "    template=refine_template,\n",
    ")\n",
    "chain = load_summarize_chain(OpenAI(temperature=0), chain_type=\"refine\", return_intermediate_steps=True, question_prompt=PROMPT, refine_prompt=refine_prompt)\n",
    "chain({\"input_documents\": docs}, return_only_outputs=True)"
   ]
  },
  {
   "cell_type": "code",
   "execution_count": null,
   "id": "5175b1d4",
   "metadata": {},
   "outputs": [],
   "source": []
  }
 ],
 "metadata": {
  "kernelspec": {
   "display_name": "Python 3 (ipykernel)",
   "language": "python",
   "name": "python3"
  },
  "language_info": {
   "codemirror_mode": {
    "name": "ipython",
    "version": 3
   },
   "file_extension": ".py",
   "mimetype": "text/x-python",
   "name": "python",
   "nbconvert_exporter": "python",
   "pygments_lexer": "ipython3",
   "version": "3.9.1"
  },
  "vscode": {
   "interpreter": {
    "hash": "b1677b440931f40d89ef8be7bf03acb108ce003de0ac9b18e8d43753ea2e7103"
   }
  }
 },
 "nbformat": 4,
 "nbformat_minor": 5
}

{
 "cells": [
  {
   "cell_type": "markdown",
   "id": "07c1e3b9",
   "metadata": {},
   "source": [
    "# 検索型質問応答\n",
    "\n",
    "この例では、インデックス上での質問応答を紹介しています。"
   ]
  },
  {
   "cell_type": "code",
   "execution_count": null,
   "id": "82525493",
   "metadata": {},
   "outputs": [],
   "source": [
    "from langchain.embeddings.openai import OpenAIEmbeddings\n",
    "from langchain.vectorstores import Chroma\n",
    "from langchain.text_splitter import CharacterTextSplitter\n",
    "from langchain.llms import OpenAI\n",
    "from langchain.chat_models import ChatOpenAI\n",
    "from langchain.chains import RetrievalQA"
   ]
  },
  {
   "cell_type": "code",
   "execution_count": null,
   "id": "5c7049db",
   "metadata": {},
   "outputs": [],
   "source": [
    "from langchain.document_loaders import TextLoader\n",
    "loader = TextLoader(\"../../state_of_the_union.txt\")\n",
    "documents = loader.load()\n",
    "text_splitter = CharacterTextSplitter(chunk_size=1000, chunk_overlap=0)\n",
    "texts = text_splitter.split_documents(documents)\n",
    "\n",
    "embeddings = OpenAIEmbeddings()\n",
    "docsearch = Chroma.from_documents(texts, embeddings)"
   ]
  },
  {
   "cell_type": "code",
   "execution_count": null,
   "id": "3018f865",
   "metadata": {},
   "outputs": [],
   "source": [
    "qa = RetrievalQA.from_chain_type(llm=ChatOpenAI(model_name=\"gpt-4\"), chain_type=\"stuff\", retriever=docsearch.as_retriever())"
   ]
  },
  {
   "cell_type": "code",
   "execution_count": null,
   "id": "032a47f8",
   "metadata": {},
   "outputs": [],
   "source": [
    "query = \"What did the president say about Ketanji Brown Jackson\"\n",
    "qa.run(query)"
   ]
  },
  {
   "cell_type": "markdown",
   "id": "c28f1f64",
   "metadata": {},
   "source": [
    "## チェーンタイプ\n",
    "RetrievalQAチェーンで使用する異なるチェーンタイプを簡単に指定できます。これらのタイプの詳細な手順については、[このノートブック](question_answering.ipynb)を参照してください。\n",
    "\n",
    "異なるチェーンタイプをロードする方法は2つあります。まず、`from_chain_type`メソッドでチェーンタイプ引数を指定できます。これにより、使用するチェーンタイプの名前を渡すことができます。たとえば、以下の例では、チェーンタイプを`map_reduce`に変更しています。"
   ]
  },
  {
   "cell_type": "code",
   "execution_count": null,
   "id": "22d2417d",
   "metadata": {},
   "outputs": [],
   "source": [
    "qa = RetrievalQA.from_chain_type(llm=ChatOpenAI(), chain_type=\"map_reduce\", retriever=docsearch.as_retriever())"
   ]
  },
  {
   "cell_type": "code",
   "execution_count": null,
   "id": "43204ad1",
   "metadata": {},
   "outputs": [],
   "source": [
    "query = \"ケタンジ・ブラウン・ジャクソンについて、大統領はどのように語っていたのでしょうか。\"\n",
    "qa.run(query)"
   ]
  },
  {
   "cell_type": "markdown",
   "id": "60368f38",
   "metadata": {},
   "source": [
    "このようにして、本当に簡単にチェーンタイプを変更することができますが、そのチェーンタイプに対するパラメータに対して高い柔軟性を提供することができます。これらのパラメータを制御したい場合は、チェーンを直接ロードして（[このノートブック](question_answering.ipynb)で行ったように）、それを `combine_documents_chain` パラメータで RetrievalQAチェーンに直接渡すことができます。サンプルです："
   ]
  },
  {
   "cell_type": "code",
   "execution_count": null,
   "id": "7b403f0d",
   "metadata": {},
   "outputs": [],
   "source": [
    "from langchain.chains.question_answering import load_qa_chain\n",
    "qa_chain = load_qa_chain(ChatOpenAI(temperature=0), chain_type=\"stuff\")\n",
    "qa = RetrievalQA(combine_documents_chain=qa_chain, retriever=docsearch.as_retriever())"
   ]
  },
  {
   "cell_type": "code",
   "execution_count": null,
   "id": "9e04a9ac",
   "metadata": {},
   "outputs": [],
   "source": [
    "query = \"ケタンジ・ブラウン・ジャクソンについて、大統領はどのように語っていたのでしょうか。\"\n",
    "qa.run(query)"
   ]
  },
  {
   "cell_type": "markdown",
   "id": "90c7899a",
   "metadata": {},
   "source": [
    "## カスタムプロンプト\n",
    "質問応答を行うためにカスタムプロンプトを渡すことができます。これらのプロンプトは、[ベースの質問応答チェーン](./question_answering.ipynb)に渡すことができるプロンプトと同じです。"
   ]
  },
  {
   "cell_type": "code",
   "execution_count": null,
   "id": "a45232a2",
   "metadata": {},
   "outputs": [],
   "source": [
    "from langchain.prompts import PromptTemplate\n",
    "prompt_template = \"\"\"Use the following pieces of context to answer the question at the end. If you don't know the answer, just say that you don't know, don't try to make up an answer.\n",
    "\n",
    "{context}\n",
    "\n",
    "Question: {question}\n",
    "Answer in Japanese:\"\"\"\n",
    "PROMPT = PromptTemplate(\n",
    "    template=prompt_template, input_variables=[\"context\", \"question\"]\n",
    ")"
   ]
  },
  {
   "cell_type": "code",
   "execution_count": null,
   "id": "9b5c8d1d",
   "metadata": {},
   "outputs": [],
   "source": [
    "chain_type_kwargs = {\"prompt\": PROMPT}\n",
    "qa = RetrievalQA.from_chain_type(llm=ChatOpenAI(), chain_type=\"stuff\", retriever=docsearch.as_retriever(), chain_type_kwargs=chain_type_kwargs)"
   ]
  },
  {
   "cell_type": "code",
   "execution_count": null,
   "id": "26ee7671",
   "metadata": {},
   "outputs": [],
   "source": [
    "query = \"What did the president say about Ketanji Brown Jackson\"\n",
    "qa.run(query)"
   ]
  },
  {
   "cell_type": "markdown",
   "id": "0b8c37f7",
   "metadata": {},
   "source": [
    "## ソースドキュメントを返す\n",
    "さらに、チェーンを構築する際にオプションパラメータを指定することで、質問に答えるために使用されたソースドキュメントを返すことができます。"
   ]
  },
  {
   "cell_type": "code",
   "execution_count": null,
   "id": "af093aba",
   "metadata": {},
   "outputs": [],
   "source": [
    "qa = RetrievalQA.from_chain_type(llm=ChatOpenAI(), chain_type=\"stuff\", retriever=docsearch.as_retriever(), return_source_documents=True)"
   ]
  },
  {
   "cell_type": "code",
   "execution_count": null,
   "id": "eac11321",
   "metadata": {},
   "outputs": [],
   "source": [
    "query = \"What did the president say about Ketanji Brown Jackson\"\n",
    "result = qa({\"query\": query})"
   ]
  },
  {
   "cell_type": "code",
   "execution_count": null,
   "id": "7d75945a",
   "metadata": {},
   "outputs": [],
   "source": [
    "result[\"result\"]"
   ]
  },
  {
   "cell_type": "code",
   "execution_count": null,
   "id": "35b4f31f",
   "metadata": {},
   "outputs": [],
   "source": [
    "result[\"source_documents\"]"
   ]
  },
  {
   "cell_type": "code",
   "execution_count": null,
   "id": "8b403637",
   "metadata": {},
   "outputs": [],
   "source": []
  }
 ],
 "metadata": {
  "kernelspec": {
   "display_name": "Python 3 (ipykernel)",
   "language": "python",
   "name": "python3"
  },
  "language_info": {
   "codemirror_mode": {
    "name": "ipython",
    "version": 3
   },
   "file_extension": ".py",
   "mimetype": "text/x-python",
   "name": "python",
   "nbconvert_exporter": "python",
   "pygments_lexer": "ipython3",
   "version": "3.9.1"
  },
  "vscode": {
   "interpreter": {
    "hash": "b1677b440931f40d89ef8be7bf03acb108ce003de0ac9b18e8d43753ea2e7103"
   }
  }
 },
 "nbformat": 4,
 "nbformat_minor": 5
}

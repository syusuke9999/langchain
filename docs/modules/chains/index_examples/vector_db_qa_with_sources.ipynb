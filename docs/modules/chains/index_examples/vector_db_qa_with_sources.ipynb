{
 "cells": [
  {
   "cell_type": "markdown",
   "id": "efc5be67",
   "metadata": {},
   "source": [
    "# ソース付き検索質問応答\n",
    "\n",
    "このノートブックでは、インデックス上のソースを使用して質問応答を行う方法について説明します。これは、`RetrievalQAWithSourcesChain`を使用してインデックスからドキュメントを検索することで実現します。"
   ]
  },
  {
   "cell_type": "code",
   "execution_count": null,
   "id": "1c613960",
   "metadata": {},
   "outputs": [],
   "source": [
    "from langchain.embeddings.openai import OpenAIEmbeddings\n",
    "from langchain.embeddings.cohere import CohereEmbeddings\n",
    "from langchain.text_splitter import CharacterTextSplitter\n",
    "from langchain.chat_models import ChatOpenAI\n",
    "from langchain.vectorstores.elastic_vector_search import ElasticVectorSearch\n",
    "from langchain.vectorstores import Chroma"
   ]
  },
  {
   "cell_type": "code",
   "execution_count": null,
   "id": "17d1306e",
   "metadata": {},
   "outputs": [],
   "source": [
    "with open(\"../../state_of_the_union.txt\") as f:\n",
    "    state_of_the_union = f.read()\n",
    "text_splitter = CharacterTextSplitter(chunk_size=1000, chunk_overlap=0)\n",
    "texts = text_splitter.split_text(state_of_the_union)\n",
    "\n",
    "embeddings = OpenAIEmbeddings()"
   ]
  },
  {
   "cell_type": "code",
   "execution_count": null,
   "id": "0e745d99",
   "metadata": {},
   "outputs": [],
   "source": [
    "docsearch = Chroma.from_texts(texts, embeddings, metadatas=[{\"source\": f\"{i}-pl\"} for i in range(len(texts))])"
   ]
  },
  {
   "cell_type": "code",
   "execution_count": null,
   "id": "8aa571ae",
   "metadata": {},
   "outputs": [],
   "source": [
    "from langchain.chains import RetrievalQAWithSourcesChain"
   ]
  },
  {
   "cell_type": "code",
   "execution_count": null,
   "id": "aa859d4c",
   "metadata": {},
   "outputs": [],
   "source": [
    "chain = RetrievalQAWithSourcesChain.from_chain_type(ChatOpenAI(temperature=0, model_name=\"gpt-4\"), chain_type=\"stuff\", retriever=docsearch.as_retriever())"
   ]
  },
  {
   "cell_type": "code",
   "execution_count": null,
   "id": "8ba36fa7",
   "metadata": {},
   "outputs": [],
   "source": [
    "chain({\"question\": \"ブレイヤー判事について、大統領はどのように語ったか\"}, return_only_outputs=True)"
   ]
  },
  {
   "cell_type": "markdown",
   "id": "718ecbda",
   "metadata": {},
   "source": [
    "## チェーンタイプ\n",
    "RetrievalQAWithSourcesChainチェーンで、異なるチェーンタイプを簡単に指定してロードして使用できます。これらのタイプの詳細な解説については、[このノートブック](qa_with_sources.ipynb)を参照してください。\n",
    "\n",
    "異なるチェーンタイプをロードする方法は2つあります。まず、`from_chain_type`メソッドでチェーンタイプ引数を指定できます。これにより、使用するチェーンタイプの名前を渡すことができます。例えば、以下ではチェーンタイプを`map_reduce`に変更しています。"
   ]
  },
  {
   "cell_type": "code",
   "execution_count": null,
   "id": "8b35b30a",
   "metadata": {},
   "outputs": [],
   "source": [
    "chain = RetrievalQAWithSourcesChain.from_chain_type(ChatOpenAI(temperature=0,model_name=\"gpt-4\"), chain_type=\"map_reduce\", retriever=docsearch.as_retriever())"
   ]
  },
  {
   "cell_type": "code",
   "execution_count": null,
   "id": "58bd424f",
   "metadata": {},
   "outputs": [],
   "source": [
    "chain({\"question\": \"What did the president say about Justice Breyer\"}, return_only_outputs=True)"
   ]
  },
  {
   "cell_type": "markdown",
   "id": "21e14eed",
   "metadata": {},
   "source": [
    "上記の方法では、chain_typeを非常に簡単に変更できますが、そのchain_typeに対するパラメータの柔軟性はたくさん提供されています。これらのパラメータを制御したい場合は、チェーンを直接ロードして（[このノートブック](qa_with_sources.ipynb)で行ったように）、`combine_documents_chain`パラメータを使って、そのチェーンをRetrievalQAWithSourcesChainチェーンに直接渡すことができます。例えば："
   ]
  },
  {
   "cell_type": "code",
   "execution_count": null,
   "id": "af35f0c6",
   "metadata": {},
   "outputs": [],
   "source": [
    "from langchain.chains.qa_with_sources import load_qa_with_sources_chain\n",
    "qa_chain = load_qa_with_sources_chain(ChatOpenAI(temperature=0), chain_type=\"stuff\")\n",
    "qa = RetrievalQAWithSourcesChain(combine_documents_chain=qa_chain, retriever=docsearch.as_retriever())"
   ]
  },
  {
   "cell_type": "code",
   "execution_count": null,
   "id": "c91fdc8a",
   "metadata": {},
   "outputs": [],
   "source": [
    "qa({\"question\": \"What did the president say about Justice Breyer\"}, return_only_outputs=True)"
   ]
  },
  {
   "cell_type": "code",
   "execution_count": null,
   "id": "3c594296",
   "metadata": {},
   "outputs": [],
   "source": []
  }
 ],
 "metadata": {
  "kernelspec": {
   "display_name": "Python 3 (ipykernel)",
   "language": "python",
   "name": "python3"
  },
  "language_info": {
   "codemirror_mode": {
    "name": "ipython",
    "version": 3
   },
   "file_extension": ".py",
   "mimetype": "text/x-python",
   "name": "python",
   "nbconvert_exporter": "python",
   "pygments_lexer": "ipython3",
   "version": "3.9.1"
  },
  "vscode": {
   "interpreter": {
    "hash": "b1677b440931f40d89ef8be7bf03acb108ce003de0ac9b18e8d43753ea2e7103"
   }
  }
 },
 "nbformat": 4,
 "nbformat_minor": 5
}

{
 "cells": [
  {
   "cell_type": "markdown",
   "id": "2dfc4698",
   "metadata": {},
   "source": [
    "# HTML\n",
    "\n",
    ">[ハイパーテキストマークアップ言語またはHTML](https://ja.wikipedia.org/wiki/HTML)は、ウェブブラウザで表示するために設計されたドキュメントの標準マークアップ言語です。\n",
    "\n",
    "これは、`HTML`ドキュメントをダウンストリームで使用できるドキュメント形式にロードする方法をカバーしています。"
   ]
  },
  {
   "cell_type": "code",
   "execution_count": 1,
   "id": "24b434b5",
   "metadata": {
    "ExecuteTime": {
     "end_time": "2023-06-08T11:21:14.192414300Z",
     "start_time": "2023-06-08T11:21:09.571397800Z"
    }
   },
   "outputs": [],
   "source": [
    "from langchain.document_loaders import UnstructuredHTMLLoader"
   ]
  },
  {
   "cell_type": "code",
   "execution_count": 2,
   "id": "00f46fda",
   "metadata": {
    "ExecuteTime": {
     "end_time": "2023-06-08T11:21:22.972360600Z",
     "start_time": "2023-06-08T11:21:22.944493800Z"
    }
   },
   "outputs": [],
   "source": [
    "loader = UnstructuredHTMLLoader(\"example_data/fake-content.html\")"
   ]
  },
  {
   "cell_type": "code",
   "execution_count": 3,
   "id": "b68a26b3",
   "metadata": {
    "ExecuteTime": {
     "end_time": "2023-06-08T11:21:38.008459100Z",
     "start_time": "2023-06-08T11:21:33.532258700Z"
    }
   },
   "outputs": [],
   "source": [
    "data = loader.load()"
   ]
  },
  {
   "cell_type": "code",
   "execution_count": 4,
   "id": "34de48fa",
   "metadata": {
    "ExecuteTime": {
     "end_time": "2023-06-08T11:21:39.408464200Z",
     "start_time": "2023-06-08T11:21:39.393094900Z"
    }
   },
   "outputs": [
    {
     "data": {
      "text/plain": "[Document(lc_kwargs={'page_content': 'My First Heading\\n\\nMy first paragraph.', 'metadata': {'source': 'example_data/fake-content.html'}}, page_content='My First Heading\\n\\nMy first paragraph.', metadata={'source': 'example_data/fake-content.html'})]"
     },
     "execution_count": 4,
     "metadata": {},
     "output_type": "execute_result"
    }
   ],
   "source": [
    "data"
   ]
  },
  {
   "cell_type": "markdown",
   "id": "00337aae",
   "metadata": {},
   "source": [
    "## BeautifulSoup4を使ったHTMLの読み込み\n",
    "\n",
    "`BSHTMLLoader`を使用して、`BeautifulSoup4`でHTMLドキュメントを読み込むこともできます。これにより、HTMLからテキストが`page_content`に抽出され、ページタイトルが`metadata`の`title`として抽出されます。"
   ]
  },
  {
   "cell_type": "code",
   "execution_count": 5,
   "id": "79b1bce4",
   "metadata": {
    "tags": [],
    "ExecuteTime": {
     "end_time": "2023-06-08T11:21:43.247177500Z",
     "start_time": "2023-06-08T11:21:43.240658400Z"
    }
   },
   "outputs": [],
   "source": [
    "from langchain.document_loaders import BSHTMLLoader"
   ]
  },
  {
   "cell_type": "code",
   "execution_count": 6,
   "id": "4be99e6c",
   "metadata": {
    "jupyter": {
     "outputs_hidden": false
    },
    "tags": [],
    "ExecuteTime": {
     "end_time": "2023-06-08T11:21:44.854050400Z",
     "start_time": "2023-06-08T11:21:44.787291600Z"
    }
   },
   "outputs": [
    {
     "data": {
      "text/plain": "[Document(lc_kwargs={'page_content': '\\nTest Title\\n\\n\\nMy First Heading\\nMy first paragraph.\\n\\n\\n', 'metadata': {'source': 'example_data/fake-content.html', 'title': 'Test Title'}}, page_content='\\nTest Title\\n\\n\\nMy First Heading\\nMy first paragraph.\\n\\n\\n', metadata={'source': 'example_data/fake-content.html', 'title': 'Test Title'})]"
     },
     "execution_count": 6,
     "metadata": {},
     "output_type": "execute_result"
    }
   ],
   "source": [
    "loader = BSHTMLLoader(\"example_data/fake-content.html\")\n",
    "data = loader.load()\n",
    "data"
   ]
  }
 ],
 "metadata": {
  "kernelspec": {
   "display_name": "Python 3 (ipykernel)",
   "language": "python",
   "name": "python3"
  },
  "language_info": {
   "codemirror_mode": {
    "name": "ipython",
    "version": 3
   },
   "file_extension": ".py",
   "mimetype": "text/x-python",
   "name": "python",
   "nbconvert_exporter": "python",
   "pygments_lexer": "ipython3",
   "version": "3.9.1"
  }
 },
 "nbformat": 4,
 "nbformat_minor": 5
}

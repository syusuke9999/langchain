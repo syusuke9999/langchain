{
 "cells": [
  {
   "cell_type": "markdown",
   "id": "17812129",
   "metadata": {},
   "source": [
    "# ReadTheDocsドキュメント\n",
    "\n",
    ">[Read the Docs](https://readthedocs.org/)は、オープンソースの無料ソフトウェアドキュメントホスティングプラットフォームです。`Sphinx`ドキュメントジェネレータで書かれたドキュメントを生成します。\n",
    "\n",
    "このノートブックでは、`Read-The-Docs`ビルドの一部として生成されたHTMLからコンテンツを読み込む方法について説明します。\n",
    "\n",
    "実際の例として、[こちら](https://github.com/hwchase17/chat-langchain)を参照してください。\n",
    "\n",
    "これは、HTMLがすでにフォルダにスクレイプされていることを前提としています。これは、以下のコマンドのコメントを外して実行することで行うことができます。"
   ]
  },
  {
   "cell_type": "code",
   "execution_count": null,
   "id": "3d153e07-8339-4cbe-8481-fc08644ba927",
   "metadata": {},
   "outputs": [],
   "source": [
    "#!pip install beautifulsoup4"
   ]
  },
  {
   "cell_type": "code",
   "execution_count": null,
   "id": "84696e27",
   "metadata": {},
   "outputs": [],
   "source": [
    "#!wget -r -A.html -P rtdocs https://langchain.readthedocs.io/en/latest/"
   ]
  },
  {
   "cell_type": "code",
   "execution_count": null,
   "id": "92dd950b",
   "metadata": {
    "tags": []
   },
   "outputs": [],
   "source": [
    "from langchain.document_loaders import ReadTheDocsLoader"
   ]
  },
  {
   "cell_type": "code",
   "execution_count": null,
   "id": "494567c3",
   "metadata": {},
   "outputs": [],
   "source": [
    "loader = ReadTheDocsLoader(\"rtdocs\", features='html.parser')"
   ]
  },
  {
   "cell_type": "code",
   "execution_count": null,
   "id": "e2e6d6f0",
   "metadata": {},
   "outputs": [],
   "source": [
    "docs = loader.load()"
   ]
  }
 ],
 "metadata": {
  "kernelspec": {
   "display_name": "Python 3 (ipykernel)",
   "language": "python",
   "name": "python3"
  },
  "language_info": {
   "codemirror_mode": {
    "name": "ipython",
    "version": 3
   },
   "file_extension": ".py",
   "mimetype": "text/x-python",
   "name": "python",
   "nbconvert_exporter": "python",
   "pygments_lexer": "ipython3",
   "version": "3.10.6"
  }
 },
 "nbformat": 4,
 "nbformat_minor": 5
}

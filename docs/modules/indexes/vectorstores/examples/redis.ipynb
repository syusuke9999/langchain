{
 "cells": [
  {
   "cell_type": "markdown",
   "metadata": {},
   "source": [
    "# Redis\n",
    "\n",
    ">[Redis（リモートディクショナリサーバー）](https://en.wikipedia.org/wiki/Redis)は、インメモリデータ構造ストアであり、分散インメモリキーバリューデータベース、キャッシュ、およびメッセージブローカーとして使用され、オプションで耐久性があります。\n",
    "\n",
    "このノートブックでは、[Redisベクターデータベース](https://redis.com/solutions/use-cases/vector-database/)に関連する機能の使い方を示します。"
   ]
  },
  {
   "cell_type": "markdown",
   "metadata": {},
   "source": [
    "## インストール方法"
   ]
  },
  {
   "cell_type": "code",
   "execution_count": 1,
   "metadata": {
    "tags": [],
    "ExecuteTime": {
     "end_time": "2023-06-04T18:49:56.612354400Z",
     "start_time": "2023-06-04T18:49:50.778769400Z"
    }
   },
   "outputs": [
    {
     "name": "stdout",
     "output_type": "stream",
     "text": [
      "Requirement already satisfied: redis in c:\\users\\yagi-\\dropbox\\pycharmprojects\\langchain-ja\\.venv\\lib\\site-packages (4.5.5)\n"
     ]
    }
   ],
   "source": [
    "!pip install redis"
   ]
  },
  {
   "cell_type": "markdown",
   "metadata": {},
   "source": [
    "`OpenAIEmbeddings`を使用するためには、OpenAI APIキーを取得する必要があります。"
   ]
  },
  {
   "cell_type": "code",
   "execution_count": null,
   "metadata": {},
   "outputs": [],
   "source": [
    "import os\n",
    "import getpass\n",
    "\n",
    "os.environ['OPENAI_API_KEY'] = getpass.getpass('OpenAI API Key:')"
   ]
  },
  {
   "cell_type": "markdown",
   "metadata": {},
   "source": [
    "## 例"
   ]
  },
  {
   "cell_type": "code",
   "execution_count": 2,
   "metadata": {
    "tags": [],
    "ExecuteTime": {
     "end_time": "2023-06-04T18:51:29.523811300Z",
     "start_time": "2023-06-04T18:51:25.651283900Z"
    }
   },
   "outputs": [],
   "source": [
    "from langchain.embeddings import OpenAIEmbeddings\n",
    "from langchain.text_splitter import CharacterTextSplitter\n",
    "from langchain.vectorstores.redis import Redis"
   ]
  },
  {
   "cell_type": "code",
   "execution_count": 3,
   "metadata": {
    "ExecuteTime": {
     "end_time": "2023-06-04T18:51:32.718405100Z",
     "start_time": "2023-06-04T18:51:32.545358400Z"
    }
   },
   "outputs": [],
   "source": [
    "from langchain.document_loaders import TextLoader\n",
    "\n",
    "loader = TextLoader('../../../state_of_the_union.txt')\n",
    "documents = loader.load()\n",
    "text_splitter = CharacterTextSplitter(chunk_size=1000, chunk_overlap=0)\n",
    "docs = text_splitter.split_documents(documents)\n",
    "\n",
    "embeddings = OpenAIEmbeddings()"
   ]
  },
  {
   "cell_type": "code",
   "execution_count": 4,
   "metadata": {
    "ExecuteTime": {
     "end_time": "2023-06-04T18:51:43.564070200Z",
     "start_time": "2023-06-04T18:51:38.097914400Z"
    }
   },
   "outputs": [
    {
     "ename": "ConnectionError",
     "evalue": "Error 10061 connecting to localhost:6379. 対象のコンピューターによって拒否されたため、接続できませんでした。.",
     "output_type": "error",
     "traceback": [
      "\u001B[1;31m---------------------------------------------------------------------------\u001B[0m",
      "\u001B[1;31mConnectionRefusedError\u001B[0m                    Traceback (most recent call last)",
      "File \u001B[1;32m~\\Dropbox\\PycharmProjects\\langchain-ja\\.venv\\Lib\\site-packages\\redis\\connection.py:699\u001B[0m, in \u001B[0;36mAbstractConnection.connect\u001B[1;34m(self)\u001B[0m\n\u001B[0;32m    698\u001B[0m \u001B[38;5;28;01mtry\u001B[39;00m:\n\u001B[1;32m--> 699\u001B[0m     sock \u001B[38;5;241m=\u001B[39m \u001B[38;5;28;43mself\u001B[39;49m\u001B[38;5;241;43m.\u001B[39;49m\u001B[43mretry\u001B[49m\u001B[38;5;241;43m.\u001B[39;49m\u001B[43mcall_with_retry\u001B[49m\u001B[43m(\u001B[49m\n\u001B[0;32m    700\u001B[0m \u001B[43m        \u001B[49m\u001B[38;5;28;43;01mlambda\u001B[39;49;00m\u001B[43m:\u001B[49m\u001B[43m \u001B[49m\u001B[38;5;28;43mself\u001B[39;49m\u001B[38;5;241;43m.\u001B[39;49m\u001B[43m_connect\u001B[49m\u001B[43m(\u001B[49m\u001B[43m)\u001B[49m\u001B[43m,\u001B[49m\u001B[43m \u001B[49m\u001B[38;5;28;43;01mlambda\u001B[39;49;00m\u001B[43m \u001B[49m\u001B[43merror\u001B[49m\u001B[43m:\u001B[49m\u001B[43m \u001B[49m\u001B[38;5;28;43mself\u001B[39;49m\u001B[38;5;241;43m.\u001B[39;49m\u001B[43mdisconnect\u001B[49m\u001B[43m(\u001B[49m\u001B[43merror\u001B[49m\u001B[43m)\u001B[49m\n\u001B[0;32m    701\u001B[0m \u001B[43m    \u001B[49m\u001B[43m)\u001B[49m\n\u001B[0;32m    702\u001B[0m \u001B[38;5;28;01mexcept\u001B[39;00m socket\u001B[38;5;241m.\u001B[39mtimeout:\n",
      "File \u001B[1;32m~\\Dropbox\\PycharmProjects\\langchain-ja\\.venv\\Lib\\site-packages\\redis\\retry.py:46\u001B[0m, in \u001B[0;36mRetry.call_with_retry\u001B[1;34m(self, do, fail)\u001B[0m\n\u001B[0;32m     45\u001B[0m \u001B[38;5;28;01mtry\u001B[39;00m:\n\u001B[1;32m---> 46\u001B[0m     \u001B[38;5;28;01mreturn\u001B[39;00m \u001B[43mdo\u001B[49m\u001B[43m(\u001B[49m\u001B[43m)\u001B[49m\n\u001B[0;32m     47\u001B[0m \u001B[38;5;28;01mexcept\u001B[39;00m \u001B[38;5;28mself\u001B[39m\u001B[38;5;241m.\u001B[39m_supported_errors \u001B[38;5;28;01mas\u001B[39;00m error:\n",
      "File \u001B[1;32m~\\Dropbox\\PycharmProjects\\langchain-ja\\.venv\\Lib\\site-packages\\redis\\connection.py:700\u001B[0m, in \u001B[0;36mAbstractConnection.connect.<locals>.<lambda>\u001B[1;34m()\u001B[0m\n\u001B[0;32m    698\u001B[0m \u001B[38;5;28;01mtry\u001B[39;00m:\n\u001B[0;32m    699\u001B[0m     sock \u001B[38;5;241m=\u001B[39m \u001B[38;5;28mself\u001B[39m\u001B[38;5;241m.\u001B[39mretry\u001B[38;5;241m.\u001B[39mcall_with_retry(\n\u001B[1;32m--> 700\u001B[0m         \u001B[38;5;28;01mlambda\u001B[39;00m: \u001B[38;5;28;43mself\u001B[39;49m\u001B[38;5;241;43m.\u001B[39;49m\u001B[43m_connect\u001B[49m\u001B[43m(\u001B[49m\u001B[43m)\u001B[49m, \u001B[38;5;28;01mlambda\u001B[39;00m error: \u001B[38;5;28mself\u001B[39m\u001B[38;5;241m.\u001B[39mdisconnect(error)\n\u001B[0;32m    701\u001B[0m     )\n\u001B[0;32m    702\u001B[0m \u001B[38;5;28;01mexcept\u001B[39;00m socket\u001B[38;5;241m.\u001B[39mtimeout:\n",
      "File \u001B[1;32m~\\Dropbox\\PycharmProjects\\langchain-ja\\.venv\\Lib\\site-packages\\redis\\connection.py:1002\u001B[0m, in \u001B[0;36mConnection._connect\u001B[1;34m(self)\u001B[0m\n\u001B[0;32m   1001\u001B[0m \u001B[38;5;28;01mif\u001B[39;00m err \u001B[38;5;129;01mis\u001B[39;00m \u001B[38;5;129;01mnot\u001B[39;00m \u001B[38;5;28;01mNone\u001B[39;00m:\n\u001B[1;32m-> 1002\u001B[0m     \u001B[38;5;28;01mraise\u001B[39;00m err\n\u001B[0;32m   1003\u001B[0m \u001B[38;5;28;01mraise\u001B[39;00m \u001B[38;5;167;01mOSError\u001B[39;00m(\u001B[38;5;124m\"\u001B[39m\u001B[38;5;124msocket.getaddrinfo returned an empty list\u001B[39m\u001B[38;5;124m\"\u001B[39m)\n",
      "File \u001B[1;32m~\\Dropbox\\PycharmProjects\\langchain-ja\\.venv\\Lib\\site-packages\\redis\\connection.py:990\u001B[0m, in \u001B[0;36mConnection._connect\u001B[1;34m(self)\u001B[0m\n\u001B[0;32m    989\u001B[0m \u001B[38;5;66;03m# connect\u001B[39;00m\n\u001B[1;32m--> 990\u001B[0m \u001B[43msock\u001B[49m\u001B[38;5;241;43m.\u001B[39;49m\u001B[43mconnect\u001B[49m\u001B[43m(\u001B[49m\u001B[43msocket_address\u001B[49m\u001B[43m)\u001B[49m\n\u001B[0;32m    992\u001B[0m \u001B[38;5;66;03m# set the socket_timeout now that we're connected\u001B[39;00m\n",
      "\u001B[1;31mConnectionRefusedError\u001B[0m: [WinError 10061] 対象のコンピューターによって拒否されたため、接続できませんでした。",
      "\nDuring handling of the above exception, another exception occurred:\n",
      "\u001B[1;31mConnectionError\u001B[0m                           Traceback (most recent call last)",
      "Cell \u001B[1;32mIn[4], line 1\u001B[0m\n\u001B[1;32m----> 1\u001B[0m rds \u001B[38;5;241m=\u001B[39m \u001B[43mRedis\u001B[49m\u001B[38;5;241;43m.\u001B[39;49m\u001B[43mfrom_documents\u001B[49m\u001B[43m(\u001B[49m\u001B[43mdocs\u001B[49m\u001B[43m,\u001B[49m\u001B[43m \u001B[49m\u001B[43membeddings\u001B[49m\u001B[43m,\u001B[49m\u001B[43m \u001B[49m\u001B[43mredis_url\u001B[49m\u001B[38;5;241;43m=\u001B[39;49m\u001B[38;5;124;43m\"\u001B[39;49m\u001B[38;5;124;43mredis://localhost:6379\u001B[39;49m\u001B[38;5;124;43m\"\u001B[39;49m\u001B[43m,\u001B[49m\u001B[43m  \u001B[49m\u001B[43mindex_name\u001B[49m\u001B[38;5;241;43m=\u001B[39;49m\u001B[38;5;124;43m'\u001B[39;49m\u001B[38;5;124;43mlink\u001B[39;49m\u001B[38;5;124;43m'\u001B[39;49m\u001B[43m)\u001B[49m\n",
      "File \u001B[1;32m~\\Dropbox\\PycharmProjects\\langchain-ja\\langchain\\vectorstores\\base.py:306\u001B[0m, in \u001B[0;36mVectorStore.from_documents\u001B[1;34m(cls, documents, embedding, **kwargs)\u001B[0m\n\u001B[0;32m    304\u001B[0m texts \u001B[38;5;241m=\u001B[39m [d\u001B[38;5;241m.\u001B[39mpage_content \u001B[38;5;28;01mfor\u001B[39;00m d \u001B[38;5;129;01min\u001B[39;00m documents]\n\u001B[0;32m    305\u001B[0m metadatas \u001B[38;5;241m=\u001B[39m [d\u001B[38;5;241m.\u001B[39mmetadata \u001B[38;5;28;01mfor\u001B[39;00m d \u001B[38;5;129;01min\u001B[39;00m documents]\n\u001B[1;32m--> 306\u001B[0m \u001B[38;5;28;01mreturn\u001B[39;00m \u001B[38;5;28;43mcls\u001B[39;49m\u001B[38;5;241;43m.\u001B[39;49m\u001B[43mfrom_texts\u001B[49m\u001B[43m(\u001B[49m\u001B[43mtexts\u001B[49m\u001B[43m,\u001B[49m\u001B[43m \u001B[49m\u001B[43membedding\u001B[49m\u001B[43m,\u001B[49m\u001B[43m \u001B[49m\u001B[43mmetadatas\u001B[49m\u001B[38;5;241;43m=\u001B[39;49m\u001B[43mmetadatas\u001B[49m\u001B[43m,\u001B[49m\u001B[43m \u001B[49m\u001B[38;5;241;43m*\u001B[39;49m\u001B[38;5;241;43m*\u001B[39;49m\u001B[43mkwargs\u001B[49m\u001B[43m)\u001B[49m\n",
      "File \u001B[1;32m~\\Dropbox\\PycharmProjects\\langchain-ja\\langchain\\vectorstores\\redis.py:449\u001B[0m, in \u001B[0;36mRedis.from_texts\u001B[1;34m(cls, texts, embedding, metadatas, index_name, content_key, metadata_key, vector_key, **kwargs)\u001B[0m\n\u001B[0;32m    420\u001B[0m \u001B[38;5;129m@classmethod\u001B[39m\n\u001B[0;32m    421\u001B[0m \u001B[38;5;28;01mdef\u001B[39;00m \u001B[38;5;21mfrom_texts\u001B[39m(\n\u001B[0;32m    422\u001B[0m     \u001B[38;5;28mcls\u001B[39m: Type[Redis],\n\u001B[1;32m   (...)\u001B[0m\n\u001B[0;32m    430\u001B[0m     \u001B[38;5;241m*\u001B[39m\u001B[38;5;241m*\u001B[39mkwargs: Any,\n\u001B[0;32m    431\u001B[0m ) \u001B[38;5;241m-\u001B[39m\u001B[38;5;241m>\u001B[39m Redis:\n\u001B[0;32m    432\u001B[0m \u001B[38;5;250m    \u001B[39m\u001B[38;5;124;03m\"\"\"Create a Redis vectorstore from raw documents.\u001B[39;00m\n\u001B[0;32m    433\u001B[0m \u001B[38;5;124;03m    This is a user-friendly interface that:\u001B[39;00m\n\u001B[0;32m    434\u001B[0m \u001B[38;5;124;03m        1. Embeds documents.\u001B[39;00m\n\u001B[1;32m   (...)\u001B[0m\n\u001B[0;32m    447\u001B[0m \u001B[38;5;124;03m            )\u001B[39;00m\n\u001B[0;32m    448\u001B[0m \u001B[38;5;124;03m    \"\"\"\u001B[39;00m\n\u001B[1;32m--> 449\u001B[0m     instance, _ \u001B[38;5;241m=\u001B[39m \u001B[38;5;28;43mcls\u001B[39;49m\u001B[38;5;241;43m.\u001B[39;49m\u001B[43mfrom_texts_return_keys\u001B[49m\u001B[43m(\u001B[49m\n\u001B[0;32m    450\u001B[0m \u001B[43m        \u001B[49m\u001B[43mtexts\u001B[49m\u001B[43m,\u001B[49m\n\u001B[0;32m    451\u001B[0m \u001B[43m        \u001B[49m\u001B[43membedding\u001B[49m\u001B[43m,\u001B[49m\n\u001B[0;32m    452\u001B[0m \u001B[43m        \u001B[49m\u001B[43mmetadatas\u001B[49m\u001B[38;5;241;43m=\u001B[39;49m\u001B[43mmetadatas\u001B[49m\u001B[43m,\u001B[49m\n\u001B[0;32m    453\u001B[0m \u001B[43m        \u001B[49m\u001B[43mindex_name\u001B[49m\u001B[38;5;241;43m=\u001B[39;49m\u001B[43mindex_name\u001B[49m\u001B[43m,\u001B[49m\n\u001B[0;32m    454\u001B[0m \u001B[43m        \u001B[49m\u001B[43mcontent_key\u001B[49m\u001B[38;5;241;43m=\u001B[39;49m\u001B[43mcontent_key\u001B[49m\u001B[43m,\u001B[49m\n\u001B[0;32m    455\u001B[0m \u001B[43m        \u001B[49m\u001B[43mmetadata_key\u001B[49m\u001B[38;5;241;43m=\u001B[39;49m\u001B[43mmetadata_key\u001B[49m\u001B[43m,\u001B[49m\n\u001B[0;32m    456\u001B[0m \u001B[43m        \u001B[49m\u001B[43mvector_key\u001B[49m\u001B[38;5;241;43m=\u001B[39;49m\u001B[43mvector_key\u001B[49m\u001B[43m,\u001B[49m\n\u001B[0;32m    457\u001B[0m \u001B[43m        \u001B[49m\u001B[38;5;241;43m*\u001B[39;49m\u001B[38;5;241;43m*\u001B[39;49m\u001B[43mkwargs\u001B[49m\u001B[43m,\u001B[49m\n\u001B[0;32m    458\u001B[0m \u001B[43m    \u001B[49m\u001B[43m)\u001B[49m\n\u001B[0;32m    459\u001B[0m     \u001B[38;5;28;01mreturn\u001B[39;00m instance\n",
      "File \u001B[1;32m~\\Dropbox\\PycharmProjects\\langchain-ja\\langchain\\vectorstores\\redis.py:400\u001B[0m, in \u001B[0;36mRedis.from_texts_return_keys\u001B[1;34m(cls, texts, embedding, metadatas, index_name, content_key, metadata_key, vector_key, distance_metric, **kwargs)\u001B[0m\n\u001B[0;32m    397\u001B[0m     index_name \u001B[38;5;241m=\u001B[39m uuid\u001B[38;5;241m.\u001B[39muuid4()\u001B[38;5;241m.\u001B[39mhex\n\u001B[0;32m    399\u001B[0m \u001B[38;5;66;03m# Create instance\u001B[39;00m\n\u001B[1;32m--> 400\u001B[0m instance \u001B[38;5;241m=\u001B[39m \u001B[38;5;28;43mcls\u001B[39;49m\u001B[43m(\u001B[49m\n\u001B[0;32m    401\u001B[0m \u001B[43m    \u001B[49m\u001B[43mredis_url\u001B[49m\u001B[43m,\u001B[49m\n\u001B[0;32m    402\u001B[0m \u001B[43m    \u001B[49m\u001B[43mindex_name\u001B[49m\u001B[43m,\u001B[49m\n\u001B[0;32m    403\u001B[0m \u001B[43m    \u001B[49m\u001B[43membedding\u001B[49m\u001B[38;5;241;43m.\u001B[39;49m\u001B[43membed_query\u001B[49m\u001B[43m,\u001B[49m\n\u001B[0;32m    404\u001B[0m \u001B[43m    \u001B[49m\u001B[43mcontent_key\u001B[49m\u001B[38;5;241;43m=\u001B[39;49m\u001B[43mcontent_key\u001B[49m\u001B[43m,\u001B[49m\n\u001B[0;32m    405\u001B[0m \u001B[43m    \u001B[49m\u001B[43mmetadata_key\u001B[49m\u001B[38;5;241;43m=\u001B[39;49m\u001B[43mmetadata_key\u001B[49m\u001B[43m,\u001B[49m\n\u001B[0;32m    406\u001B[0m \u001B[43m    \u001B[49m\u001B[43mvector_key\u001B[49m\u001B[38;5;241;43m=\u001B[39;49m\u001B[43mvector_key\u001B[49m\u001B[43m,\u001B[49m\n\u001B[0;32m    407\u001B[0m \u001B[43m    \u001B[49m\u001B[38;5;241;43m*\u001B[39;49m\u001B[38;5;241;43m*\u001B[39;49m\u001B[43mkwargs\u001B[49m\u001B[43m,\u001B[49m\n\u001B[0;32m    408\u001B[0m \u001B[43m\u001B[49m\u001B[43m)\u001B[49m\n\u001B[0;32m    410\u001B[0m \u001B[38;5;66;03m# Create embeddings over documents\u001B[39;00m\n\u001B[0;32m    411\u001B[0m embeddings \u001B[38;5;241m=\u001B[39m embedding\u001B[38;5;241m.\u001B[39membed_documents(texts)\n",
      "File \u001B[1;32m~\\Dropbox\\PycharmProjects\\langchain-ja\\langchain\\vectorstores\\redis.py:139\u001B[0m, in \u001B[0;36mRedis.__init__\u001B[1;34m(self, redis_url, index_name, embedding_function, content_key, metadata_key, vector_key, relevance_score_fn, **kwargs)\u001B[0m\n\u001B[0;32m    137\u001B[0m     redis_client \u001B[38;5;241m=\u001B[39m redis\u001B[38;5;241m.\u001B[39mfrom_url(redis_url, \u001B[38;5;241m*\u001B[39m\u001B[38;5;241m*\u001B[39mkwargs)\n\u001B[0;32m    138\u001B[0m     \u001B[38;5;66;03m# check if redis has redisearch module installed\u001B[39;00m\n\u001B[1;32m--> 139\u001B[0m     \u001B[43m_check_redis_module_exist\u001B[49m\u001B[43m(\u001B[49m\u001B[43mredis_client\u001B[49m\u001B[43m,\u001B[49m\u001B[43m \u001B[49m\u001B[43mREDIS_REQUIRED_MODULES\u001B[49m\u001B[43m)\u001B[49m\n\u001B[0;32m    140\u001B[0m \u001B[38;5;28;01mexcept\u001B[39;00m \u001B[38;5;167;01mValueError\u001B[39;00m \u001B[38;5;28;01mas\u001B[39;00m e:\n\u001B[0;32m    141\u001B[0m     \u001B[38;5;28;01mraise\u001B[39;00m \u001B[38;5;167;01mValueError\u001B[39;00m(\u001B[38;5;124mf\u001B[39m\u001B[38;5;124m\"\u001B[39m\u001B[38;5;124mRedis failed to connect: \u001B[39m\u001B[38;5;132;01m{\u001B[39;00me\u001B[38;5;132;01m}\u001B[39;00m\u001B[38;5;124m\"\u001B[39m)\n",
      "File \u001B[1;32m~\\Dropbox\\PycharmProjects\\langchain-ja\\langchain\\vectorstores\\redis.py:48\u001B[0m, in \u001B[0;36m_check_redis_module_exist\u001B[1;34m(client, required_modules)\u001B[0m\n\u001B[0;32m     46\u001B[0m \u001B[38;5;28;01mdef\u001B[39;00m \u001B[38;5;21m_check_redis_module_exist\u001B[39m(client: RedisType, required_modules: List[\u001B[38;5;28mdict\u001B[39m]) \u001B[38;5;241m-\u001B[39m\u001B[38;5;241m>\u001B[39m \u001B[38;5;28;01mNone\u001B[39;00m:\n\u001B[0;32m     47\u001B[0m \u001B[38;5;250m    \u001B[39m\u001B[38;5;124;03m\"\"\"Check if the correct Redis modules are installed.\"\"\"\u001B[39;00m\n\u001B[1;32m---> 48\u001B[0m     installed_modules \u001B[38;5;241m=\u001B[39m \u001B[43mclient\u001B[49m\u001B[38;5;241;43m.\u001B[39;49m\u001B[43mmodule_list\u001B[49m\u001B[43m(\u001B[49m\u001B[43m)\u001B[49m\n\u001B[0;32m     49\u001B[0m     installed_modules \u001B[38;5;241m=\u001B[39m {\n\u001B[0;32m     50\u001B[0m         module[\u001B[38;5;124mb\u001B[39m\u001B[38;5;124m\"\u001B[39m\u001B[38;5;124mname\u001B[39m\u001B[38;5;124m\"\u001B[39m]\u001B[38;5;241m.\u001B[39mdecode(\u001B[38;5;124m\"\u001B[39m\u001B[38;5;124mutf-8\u001B[39m\u001B[38;5;124m\"\u001B[39m): module \u001B[38;5;28;01mfor\u001B[39;00m module \u001B[38;5;129;01min\u001B[39;00m installed_modules\n\u001B[0;32m     51\u001B[0m     }\n\u001B[0;32m     52\u001B[0m     \u001B[38;5;28;01mfor\u001B[39;00m module \u001B[38;5;129;01min\u001B[39;00m required_modules:\n",
      "File \u001B[1;32m~\\Dropbox\\PycharmProjects\\langchain-ja\\.venv\\Lib\\site-packages\\redis\\commands\\core.py:5781\u001B[0m, in \u001B[0;36mModuleCommands.module_list\u001B[1;34m(self)\u001B[0m\n\u001B[0;32m   5774\u001B[0m \u001B[38;5;28;01mdef\u001B[39;00m \u001B[38;5;21mmodule_list\u001B[39m(\u001B[38;5;28mself\u001B[39m) \u001B[38;5;241m-\u001B[39m\u001B[38;5;241m>\u001B[39m ResponseT:\n\u001B[0;32m   5775\u001B[0m \u001B[38;5;250m    \u001B[39m\u001B[38;5;124;03m\"\"\"\u001B[39;00m\n\u001B[0;32m   5776\u001B[0m \u001B[38;5;124;03m    Returns a list of dictionaries containing the name and version of\u001B[39;00m\n\u001B[0;32m   5777\u001B[0m \u001B[38;5;124;03m    all loaded modules.\u001B[39;00m\n\u001B[0;32m   5778\u001B[0m \n\u001B[0;32m   5779\u001B[0m \u001B[38;5;124;03m    For more information see https://redis.io/commands/module-list\u001B[39;00m\n\u001B[0;32m   5780\u001B[0m \u001B[38;5;124;03m    \"\"\"\u001B[39;00m\n\u001B[1;32m-> 5781\u001B[0m     \u001B[38;5;28;01mreturn\u001B[39;00m \u001B[38;5;28;43mself\u001B[39;49m\u001B[38;5;241;43m.\u001B[39;49m\u001B[43mexecute_command\u001B[49m\u001B[43m(\u001B[49m\u001B[38;5;124;43m\"\u001B[39;49m\u001B[38;5;124;43mMODULE LIST\u001B[39;49m\u001B[38;5;124;43m\"\u001B[39;49m\u001B[43m)\u001B[49m\n",
      "File \u001B[1;32m~\\Dropbox\\PycharmProjects\\langchain-ja\\.venv\\Lib\\site-packages\\redis\\client.py:1266\u001B[0m, in \u001B[0;36mRedis.execute_command\u001B[1;34m(self, *args, **options)\u001B[0m\n\u001B[0;32m   1264\u001B[0m pool \u001B[38;5;241m=\u001B[39m \u001B[38;5;28mself\u001B[39m\u001B[38;5;241m.\u001B[39mconnection_pool\n\u001B[0;32m   1265\u001B[0m command_name \u001B[38;5;241m=\u001B[39m args[\u001B[38;5;241m0\u001B[39m]\n\u001B[1;32m-> 1266\u001B[0m conn \u001B[38;5;241m=\u001B[39m \u001B[38;5;28mself\u001B[39m\u001B[38;5;241m.\u001B[39mconnection \u001B[38;5;129;01mor\u001B[39;00m \u001B[43mpool\u001B[49m\u001B[38;5;241;43m.\u001B[39;49m\u001B[43mget_connection\u001B[49m\u001B[43m(\u001B[49m\u001B[43mcommand_name\u001B[49m\u001B[43m,\u001B[49m\u001B[43m \u001B[49m\u001B[38;5;241;43m*\u001B[39;49m\u001B[38;5;241;43m*\u001B[39;49m\u001B[43moptions\u001B[49m\u001B[43m)\u001B[49m\n\u001B[0;32m   1268\u001B[0m \u001B[38;5;28;01mtry\u001B[39;00m:\n\u001B[0;32m   1269\u001B[0m     \u001B[38;5;28;01mreturn\u001B[39;00m conn\u001B[38;5;241m.\u001B[39mretry\u001B[38;5;241m.\u001B[39mcall_with_retry(\n\u001B[0;32m   1270\u001B[0m         \u001B[38;5;28;01mlambda\u001B[39;00m: \u001B[38;5;28mself\u001B[39m\u001B[38;5;241m.\u001B[39m_send_command_parse_response(\n\u001B[0;32m   1271\u001B[0m             conn, command_name, \u001B[38;5;241m*\u001B[39margs, \u001B[38;5;241m*\u001B[39m\u001B[38;5;241m*\u001B[39moptions\n\u001B[0;32m   1272\u001B[0m         ),\n\u001B[0;32m   1273\u001B[0m         \u001B[38;5;28;01mlambda\u001B[39;00m error: \u001B[38;5;28mself\u001B[39m\u001B[38;5;241m.\u001B[39m_disconnect_raise(conn, error),\n\u001B[0;32m   1274\u001B[0m     )\n",
      "File \u001B[1;32m~\\Dropbox\\PycharmProjects\\langchain-ja\\.venv\\Lib\\site-packages\\redis\\connection.py:1457\u001B[0m, in \u001B[0;36mConnectionPool.get_connection\u001B[1;34m(self, command_name, *keys, **options)\u001B[0m\n\u001B[0;32m   1453\u001B[0m     \u001B[38;5;28mself\u001B[39m\u001B[38;5;241m.\u001B[39m_in_use_connections\u001B[38;5;241m.\u001B[39madd(connection)\n\u001B[0;32m   1455\u001B[0m \u001B[38;5;28;01mtry\u001B[39;00m:\n\u001B[0;32m   1456\u001B[0m     \u001B[38;5;66;03m# ensure this connection is connected to Redis\u001B[39;00m\n\u001B[1;32m-> 1457\u001B[0m     \u001B[43mconnection\u001B[49m\u001B[38;5;241;43m.\u001B[39;49m\u001B[43mconnect\u001B[49m\u001B[43m(\u001B[49m\u001B[43m)\u001B[49m\n\u001B[0;32m   1458\u001B[0m     \u001B[38;5;66;03m# connections that the pool provides should be ready to send\u001B[39;00m\n\u001B[0;32m   1459\u001B[0m     \u001B[38;5;66;03m# a command. if not, the connection was either returned to the\u001B[39;00m\n\u001B[0;32m   1460\u001B[0m     \u001B[38;5;66;03m# pool before all data has been read or the socket has been\u001B[39;00m\n\u001B[0;32m   1461\u001B[0m     \u001B[38;5;66;03m# closed. either way, reconnect and verify everything is good.\u001B[39;00m\n\u001B[0;32m   1462\u001B[0m     \u001B[38;5;28;01mtry\u001B[39;00m:\n",
      "File \u001B[1;32m~\\Dropbox\\PycharmProjects\\langchain-ja\\.venv\\Lib\\site-packages\\redis\\connection.py:705\u001B[0m, in \u001B[0;36mAbstractConnection.connect\u001B[1;34m(self)\u001B[0m\n\u001B[0;32m    703\u001B[0m     \u001B[38;5;28;01mraise\u001B[39;00m \u001B[38;5;167;01mTimeoutError\u001B[39;00m(\u001B[38;5;124m\"\u001B[39m\u001B[38;5;124mTimeout connecting to server\u001B[39m\u001B[38;5;124m\"\u001B[39m)\n\u001B[0;32m    704\u001B[0m \u001B[38;5;28;01mexcept\u001B[39;00m \u001B[38;5;167;01mOSError\u001B[39;00m \u001B[38;5;28;01mas\u001B[39;00m e:\n\u001B[1;32m--> 705\u001B[0m     \u001B[38;5;28;01mraise\u001B[39;00m \u001B[38;5;167;01mConnectionError\u001B[39;00m(\u001B[38;5;28mself\u001B[39m\u001B[38;5;241m.\u001B[39m_error_message(e))\n\u001B[0;32m    707\u001B[0m \u001B[38;5;28mself\u001B[39m\u001B[38;5;241m.\u001B[39m_sock \u001B[38;5;241m=\u001B[39m sock\n\u001B[0;32m    708\u001B[0m \u001B[38;5;28;01mtry\u001B[39;00m:\n",
      "\u001B[1;31mConnectionError\u001B[0m: Error 10061 connecting to localhost:6379. 対象のコンピューターによって拒否されたため、接続できませんでした。."
     ]
    }
   ],
   "source": [
    "rds = Redis.from_documents(docs, embeddings, redis_url=\"redis://localhost:6379\",  index_name='link')"
   ]
  },
  {
   "cell_type": "code",
   "execution_count": null,
   "metadata": {},
   "outputs": [],
   "source": [
    "rds.index_name"
   ]
  },
  {
   "cell_type": "code",
   "execution_count": null,
   "metadata": {},
   "outputs": [],
   "source": [
    "query = \"What did the president say about Ketanji Brown Jackson\"\n",
    "results = rds.similarity_search(query)\n",
    "print(results[0].page_content)"
   ]
  },
  {
   "cell_type": "code",
   "execution_count": 5,
   "metadata": {
    "ExecuteTime": {
     "end_time": "2023-06-04T18:51:43.874743200Z",
     "start_time": "2023-06-04T18:51:43.852712600Z"
    }
   },
   "outputs": [
    {
     "ename": "NameError",
     "evalue": "name 'rds' is not defined",
     "output_type": "error",
     "traceback": [
      "\u001B[1;31m---------------------------------------------------------------------------\u001B[0m",
      "\u001B[1;31mNameError\u001B[0m                                 Traceback (most recent call last)",
      "Cell \u001B[1;32mIn[5], line 1\u001B[0m\n\u001B[1;32m----> 1\u001B[0m \u001B[38;5;28mprint\u001B[39m(\u001B[43mrds\u001B[49m\u001B[38;5;241m.\u001B[39madd_texts([\u001B[38;5;124m\"\u001B[39m\u001B[38;5;124mAnkush went to Princeton\u001B[39m\u001B[38;5;124m\"\u001B[39m]))\n",
      "\u001B[1;31mNameError\u001B[0m: name 'rds' is not defined"
     ]
    }
   ],
   "source": [
    "print(rds.add_texts([\"Ankush went to Princeton\"]))"
   ]
  },
  {
   "cell_type": "code",
   "execution_count": null,
   "metadata": {},
   "outputs": [],
   "source": [
    "query = \"Princeton\"\n",
    "results = rds.similarity_search(query)\n",
    "print(results[0].page_content)"
   ]
  },
  {
   "cell_type": "code",
   "execution_count": null,
   "metadata": {},
   "outputs": [],
   "source": [
    "# 既存のインデックスから読み込む\n",
    "rds = Redis.from_existing_index(embeddings, redis_url=\"redis://localhost:6379\", index_name='link')\n",
    "\n",
    "query = \"What did the president say about Ketanji Brown Jackson\"\n",
    "results = rds.similarity_search(query)\n",
    "print(results[0].page_content)"
   ]
  },
  {
   "cell_type": "markdown",
   "metadata": {},
   "source": [
    "## Redisを使った検索\n",
    "\n",
    "ここでは、ベクトルストアを検索に使用するためのさまざまなオプションについて説明します。\n",
    "\n",
    "検索には3つの異なる方法があります。デフォルトでは、意味的類似性を使用します。"
   ]
  },
  {
   "cell_type": "code",
   "execution_count": null,
   "metadata": {},
   "outputs": [],
   "source": [
    "retriever = rds.as_retriever()"
   ]
  },
  {
   "cell_type": "code",
   "execution_count": null,
   "metadata": {},
   "outputs": [],
   "source": [
    "docs = retriever.get_relevant_documents(query)"
   ]
  },
  {
   "cell_type": "markdown",
   "metadata": {},
   "source": [
    "また、`similarity_limit` を検索方法として使用することもできます。これは、ドキュメントが十分に類似している場合にのみドキュメントを返します。"
   ]
  },
  {
   "cell_type": "code",
   "execution_count": null,
   "metadata": {},
   "outputs": [],
   "source": [
    "retriever = rds.as_retriever(search_type=\"similarity_limit\")"
   ]
  },
  {
   "cell_type": "code",
   "execution_count": null,
   "metadata": {},
   "outputs": [],
   "source": [
    "# ここでは、関連するドキュメントがないため結果が返されないことがわかります。\n",
    "retriever.get_relevant_documents(\"where did ankush go to college?\")"
   ]
  }
 ],
 "metadata": {
  "kernelspec": {
   "display_name": "Python 3 (ipykernel)",
   "language": "python",
   "name": "python3"
  },
  "language_info": {
   "codemirror_mode": {
    "name": "ipython",
    "version": 3
   },
   "file_extension": ".py",
   "mimetype": "text/x-python",
   "name": "python",
   "nbconvert_exporter": "python",
   "pygments_lexer": "ipython3",
   "version": "3.10.6"
  }
 },
 "nbformat": 4,
 "nbformat_minor": 4
}

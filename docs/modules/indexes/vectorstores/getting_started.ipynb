{
 "cells": [
  {
   "cell_type": "markdown",
   "id": "7ef4d402-6662-4a26-b612-35b542066487",
   "metadata": {
    "pycharm": {
     "name": "#%% md\n"
    }
   },
   "source": [
    "#  初めに\n",
    "\n",
    "このノートブックでは、VectorStoreに関連する基本的な機能が紹介されています。VectorStoreを扱うための重要な部分として、通常は埋め込みを介して生成されるベクトルの作成があります。ですので、このノートブックに入る前に、[embedding notebook](../../models/text_embedding.htpl)について理解することをお勧めします。\n",
    "\n",
    "ここでは、すべてのベクトルストアに関連する一般的な高レベルの機能について説明しています。"
   ]
  },
  {
   "cell_type": "code",
   "execution_count": null,
   "id": "965eecee",
   "metadata": {
    "pycharm": {
     "name": "#%%\n"
    }
   },
   "outputs": [],
   "source": [
    "from langchain.embeddings.openai import OpenAIEmbeddings\n",
    "from langchain.text_splitter import CharacterTextSplitter\n",
    "from langchain.vectorstores import Chroma"
   ]
  },
  {
   "cell_type": "code",
   "execution_count": null,
   "id": "68481687",
   "metadata": {
    "pycharm": {
     "name": "#%%\n"
    }
   },
   "outputs": [],
   "source": [
    "with open('../../state_of_the_union.txt') as f:\n",
    "    state_of_the_union = f.read()\n",
    "text_splitter = CharacterTextSplitter(chunk_size=1000, chunk_overlap=0)\n",
    "texts = text_splitter.split_text(state_of_the_union)\n",
    "\n",
    "embeddings = OpenAIEmbeddings()"
   ]
  },
  {
   "cell_type": "code",
   "execution_count": null,
   "id": "015f4ff5",
   "metadata": {
    "pycharm": {
     "name": "#%%\n"
    }
   },
   "outputs": [],
   "source": [
    "docsearch = Chroma.from_texts(texts, embeddings)\n",
    "\n",
    "query = \"What did the president say about Ketanji Brown Jackson\"\n",
    "docs = docsearch.similarity_search(query)"
   ]
  },
  {
   "cell_type": "code",
   "execution_count": null,
   "id": "67baf32e",
   "metadata": {
    "pycharm": {
     "name": "#%%\n"
    }
   },
   "outputs": [],
   "source": [
    "print(docs[0].page_content)"
   ]
  },
  {
   "cell_type": "markdown",
   "id": "fb6baaf8",
   "metadata": {},
   "source": [
    "## テキストの追加\n",
    "`add_texts`メソッドを使用すると、簡単にベクターストアにテキストを追加することができます。返り値は文書IDのリストであり、下流の処理で使用する必要がある場合に備えています。"
   ]
  },
  {
   "cell_type": "code",
   "execution_count": null,
   "id": "70758e4f",
   "metadata": {},
   "outputs": [],
   "source": [
    "docsearch.add_texts([\"Ankush went to Princeton\"])"
   ]
  },
  {
   "cell_type": "code",
   "execution_count": null,
   "id": "4edeb88f",
   "metadata": {},
   "outputs": [],
   "source": [
    "query = \"Where did Ankush go to college?\"\n",
    "docs = docsearch.similarity_search(query)"
   ]
  },
  {
   "cell_type": "code",
   "execution_count": null,
   "id": "1cba64a2",
   "metadata": {},
   "outputs": [],
   "source": [
    "docs[0]"
   ]
  },
  {
   "cell_type": "markdown",
   "id": "bbf5ec44",
   "metadata": {},
   "source": [
    "## ドキュメントからの初期化\n",
    "ドキュメントから直接ベクトルストアを初期化することもできます。これは、元のドキュメントに関連するメタデータがある場合に、テキストスプリッターのメソッドを使用して直接ドキュメントを取得する場合に便利です。"
   ]
  },
  {
   "cell_type": "code",
   "execution_count": null,
   "id": "df4a459c",
   "metadata": {},
   "outputs": [],
   "source": [
    "documents = text_splitter.create_documents([state_of_the_union], metadatas=[{\"source\": \"State of the Union\"}])"
   ]
  },
  {
   "cell_type": "code",
   "execution_count": null,
   "id": "4b480245",
   "metadata": {},
   "outputs": [],
   "source": [
    "docsearch = Chroma.from_documents(documents, embeddings)\n",
    "\n",
    "query = \"What did the president say about Ketanji Brown Jackson\"\n",
    "docs = docsearch.similarity_search(query)"
   ]
  },
  {
   "cell_type": "code",
   "execution_count": null,
   "id": "86aa4cda",
   "metadata": {},
   "outputs": [],
   "source": [
    "print(docs[0].page_content)"
   ]
  },
  {
   "cell_type": "code",
   "execution_count": null,
   "id": "4af5a071",
   "metadata": {},
   "outputs": [],
   "source": []
  }
 ],
 "metadata": {
  "kernelspec": {
   "display_name": "Python 3 (ipykernel)",
   "language": "python",
   "name": "python3"
  },
  "language_info": {
   "codemirror_mode": {
    "name": "ipython",
    "version": 3
   },
   "file_extension": ".py",
   "mimetype": "text/x-python",
   "name": "python",
   "nbconvert_exporter": "python",
   "pygments_lexer": "ipython3",
   "version": "3.10.6"
  }
 },
 "nbformat": 4,
 "nbformat_minor": 5
}

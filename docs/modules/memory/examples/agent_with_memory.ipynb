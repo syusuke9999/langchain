{
 "cells": [
  {
   "cell_type": "markdown",
   "id": "fa6802ac",
   "metadata": {},
   "source": [
    "# エージェントにメモリを追加する方法\n",
    "\n",
    "このnotebookでは、エージェントにメモリを追加する方法について説明します。このnotebookを進める前に、以下のnotebookを実行してください。これらのnotebookは、このnotebookで説明する内容につながるためです。\n",
    "\n",
    "- [LLMチェーンにメモリを追加する](adding_memory.ipynb)\n",
    "- [カスタムエージェント](../../agents/examples/custom_agent.ipynb)\n",
    "\n",
    "エージェントにメモリを追加するために、以下の手順を行います。\n",
    "\n",
    "1. メモリを持つLLMChainを作成します。\n",
    "2. そのLLMChainを使用して、カスタムエージェントを作成します。\n",
    "\n",
    "この演習の目的のために、検索ツールにアクセスでき、`ConversationBufferMemory`クラスを利用するシンプルなカスタムエージェントを作成します。"
   ]
  },
  {
   "cell_type": "code",
   "execution_count": null,
   "id": "8db95912",
   "metadata": {},
   "outputs": [],
   "source": [
    "from langchain.agents import ZeroShotAgent, Tool, AgentExecutor\n",
    "from langchain.memory import ConversationBufferMemory\n",
    "from langchain import OpenAI, LLMChain\n",
    "from langchain.chat_models import ChatOpenAI\n",
    "from langchain.utilities import GoogleSearchAPIWrapper"
   ]
  },
  {
   "cell_type": "code",
   "execution_count": null,
   "id": "97ad8467",
   "metadata": {},
   "outputs": [],
   "source": [
    "search = GoogleSearchAPIWrapper()\n",
    "tools = [\n",
    "    Tool(\n",
    "        name = \"Search\",\n",
    "        func=search.run,\n",
    "        description=\"useful for when you need to answer questions about current events\"\n",
    "    )\n",
    "]"
   ]
  },
  {
   "cell_type": "markdown",
   "id": "4ad2e708",
   "metadata": {},
   "source": [
    "PromptTemplate内で使用される `chat_history` 変数は、ConversationBufferMemory内のダイナミックなキー名と一致することに注意してください。"
   ]
  },
  {
   "cell_type": "code",
   "execution_count": null,
   "id": "e3439cd6",
   "metadata": {},
   "outputs": [],
   "source": [
    "from datetime import datetime\n",
    "today = datetime.today().strftime(\"%Y年%m月%d日\")\n",
    "now = datetime.now().strftime(\"%H時%M分\")\n",
    "prefix = \"\"\"今は{today}の{now}です。会話をして、質問に可能な限り回答してください。以下のツールにアクセスすることができます。検索をするさいのクエリーは英語と日本語の両方を使用してより確かな情報になるようにして下さい:\"\"\".format(today=today,now=now)\n",
    "suffix = \"\"\"Begin!\"\n",
    "\n",
    "{chat_history}\n",
    "Question: {input}\n",
    "{agent_scratchpad}\"\"\"\n",
    "\n",
    "prompt = ZeroShotAgent.create_prompt(\n",
    "    tools, \n",
    "    prefix=prefix,\n",
    "    suffix=suffix, \n",
    "    input_variables=[\"input\", \"chat_history\", \"agent_scratchpad\"]\n",
    ")\n",
    "memory = ConversationBufferMemory(memory_key=\"chat_history\")\n",
    "llm = ChatOpenAI(temperature=0.5, model_name=\"gpt-4\",max_tokens=2000)"
   ]
  },
  {
   "cell_type": "markdown",
   "id": "0021675b",
   "metadata": {},
   "source": [
    "これで、Memoryオブジェクトを持つLLMChainを構築し、エージェントを作成することができます。"
   ]
  },
  {
   "cell_type": "code",
   "execution_count": null,
   "id": "c56a0e73",
   "metadata": {},
   "outputs": [],
   "source": [
    "llm_chain = LLMChain(llm=llm, prompt=prompt)\n",
    "agent = ZeroShotAgent(llm_chain=llm_chain, tools=tools, verbose=True)\n",
    "agent_chain = AgentExecutor.from_agent_and_tools(agent=agent, tools=tools, verbose=True, memory=memory)"
   ]
  },
  {
   "cell_type": "code",
   "execution_count": null,
   "id": "ca4bc1fb",
   "metadata": {},
   "outputs": [],
   "source": [
    "agent_chain.run(input=\"PC版、家庭用ゲーム機版のDead by Daylightの最新のアップデートはいつ行われましたか？\")"
   ]
  },
  {
   "cell_type": "markdown",
   "id": "45627664",
   "metadata": {},
   "source": [
    "このエージェントのメモリをテストするために、前のやりとりの情報に依存して正しく回答されるようなフォローアップの質問をすることができます。"
   ]
  },
  {
   "cell_type": "code",
   "execution_count": null,
   "id": "eecc0462",
   "metadata": {},
   "outputs": [],
   "source": [
    "agent_chain.run(input=\"2023年の5月に入ってからも行われています。どのようなアップデートだったか詳細に全て説明してください。\")"
   ]
  },
  {
   "cell_type": "code",
   "execution_count": null,
   "outputs": [],
   "source": [
    "memory.chat_memory"
   ],
   "metadata": {
    "collapsed": false
   }
  },
  {
   "cell_type": "markdown",
   "id": "cc3d0aa4",
   "metadata": {},
   "source": [
    "このエージェントは、前の質問がカナダについてだったことを記憶していて、Google検索にカナダの国歌の名前をちゃんと聞いていることがわかります。\n",
    "\n",
    "面白いので、記憶力がないエージェントと比較してみましょう。"
   ]
  },
  {
   "cell_type": "code",
   "execution_count": null,
   "id": "3359d043",
   "metadata": {},
   "outputs": [],
   "source": [
    "prefix = \"\"\"人と会話をして、次の質問に可能な限り回答してください。以下のツールにアクセスすることができます:\"\"\"\n",
    "suffix = \"\"\"Begin!\"\n",
    "\n",
    "Question: {input}\n",
    "{agent_scratchpad}\"\"\"\n",
    "\n",
    "prompt = ZeroShotAgent.create_prompt(\n",
    "    tools, \n",
    "    prefix=prefix, \n",
    "    suffix=suffix, \n",
    "    input_variables=[\"input\", \"agent_scratchpad\"]\n",
    ")\n",
    "llm_chain = LLMChain(llm=ChatOpenAI(temperature=0), prompt=prompt)\n",
    "agent = ZeroShotAgent(llm_chain=llm_chain, tools=tools, verbose=True)\n",
    "agent_without_memory = AgentExecutor.from_agent_and_tools(agent=agent, tools=tools, verbose=True)"
   ]
  },
  {
   "cell_type": "code",
   "execution_count": null,
   "id": "970d23df",
   "metadata": {},
   "outputs": [],
   "source": [
    "agent_without_memory.run(\"PC版、家庭用ゲーム機版のDead by Daylightの最新のアップデートはいつ行われましたか？\")"
   ]
  },
  {
   "cell_type": "code",
   "execution_count": null,
   "id": "d9ea82f0",
   "metadata": {},
   "outputs": [],
   "source": [
    "agent_without_memory.run(\"2023年の5月に入ってからも行われています。どのようなアップデートだったか詳細に全て説明してください。\")"
   ]
  },
  {
   "cell_type": "code",
   "execution_count": null,
   "id": "5b1f9223",
   "metadata": {},
   "outputs": [],
   "source": []
  }
 ],
 "metadata": {
  "kernelspec": {
   "display_name": "Python 3 (ipykernel)",
   "language": "python",
   "name": "python3"
  },
  "language_info": {
   "codemirror_mode": {
    "name": "ipython",
    "version": 3
   },
   "file_extension": ".py",
   "mimetype": "text/x-python",
   "name": "python",
   "nbconvert_exporter": "python",
   "pygments_lexer": "ipython3",
   "version": "3.9.1"
  }
 },
 "nbformat": 4,
 "nbformat_minor": 5
}

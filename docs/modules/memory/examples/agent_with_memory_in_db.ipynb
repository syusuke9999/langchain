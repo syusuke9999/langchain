{
 "cells": [
  {
   "cell_type": "markdown",
   "id": "fa6802ac",
   "metadata": {},
   "source": [
    "# データベースをバックエンドに持つメッセージメモリをエージェントに追加する\n",
    "\n",
    "このノートブックでは、外部のメッセージストアを使用するメモリをエージェントに追加する方法を説明します。このノートブックを進める前に、以下のノートブックを確認してください。これらのノートブックを基にして構築します。\n",
    "\n",
    "- [LLMチェーンにメモリを追加する](adding_memory.ipynb)\n",
    "- [カスタムエージェント](../../agents/examples/custom_agent.ipynb)\n",
    "- [メモリ付きエージェント](agetn_with_memory.ipynb)\n",
    "\n",
    "外部メッセージストアを持つメモリをエージェントに追加するために、以下の手順を行います。\n",
    "\n",
    "1. メッセージを格納するための外部データベースに接続する`RedisChatMessageHistory`を作成します。\n",
    "2. そのチャット履歴をメモリとして使用して`LLMChain`を作成します。\n",
    "3. その`LLMChain`を使用してカスタムエージェントを作成します。\n",
    "\n",
    "この演習の目的のために、検索ツールにアクセスできるシンプルなカスタムエージェントを作成し、`ConversationBufferMemory`クラスを利用します。"
   ]
  },
  {
   "cell_type": "code",
   "execution_count": null,
   "id": "8db95912",
   "metadata": {
    "pycharm": {
     "is_executing": true
    }
   },
   "outputs": [],
   "source": [
    "from langchain.agents import ZeroShotAgent, Tool, AgentExecutor\n",
    "from langchain.memory import ConversationBufferMemory\n",
    "from langchain.memory.chat_memory import ChatMessageHistory\n",
    "from langchain.memory.chat_message_histories import RedisChatMessageHistory\n",
    "from langchain import LLMChain\n",
    "from langchain.chat_models import ChatOpenAI\n",
    "from langchain.utilities import GoogleSearchAPIWrapper\n",
    "import os\n",
    "\n",
    "redis_password = os.environ.get(\"REDIS_PASSWORD\")"
   ]
  },
  {
   "cell_type": "code",
   "execution_count": null,
   "outputs": [],
   "source": [
    "redis_password = os.environ.get(\"REDIS_PASSWORD\")"
   ],
   "metadata": {
    "collapsed": false
   }
  },
  {
   "cell_type": "code",
   "execution_count": null,
   "id": "97ad8467",
   "metadata": {},
   "outputs": [],
   "source": [
    "search = GoogleSearchAPIWrapper()\n",
    "tools = [\n",
    "    Tool(\n",
    "        name = \"Search\",\n",
    "        func=search.run,\n",
    "        description=\"useful for when you need to answer questions about current events\"\n",
    "    )\n",
    "]"
   ]
  },
  {
   "cell_type": "markdown",
   "id": "4ad2e708",
   "metadata": {},
   "source": [
    "`chat_history`変数の使用に注意してください。これは、PromptTemplate内で使用されており、ConversationBufferMemory内の動的キー名と一致しています。"
   ]
  },
  {
   "cell_type": "code",
   "execution_count": null,
   "id": "e3439cd6",
   "metadata": {},
   "outputs": [],
   "source": [
    "prefix = \"\"\"Have a conversation with a human, answering the following questions as best you can in Japanese. When searching, first search in Japanese, and if you cannot find the answer anywhere, consider searching in English as well. Be sure to answer in Japanese. You have access to the following tools:\"\"\"\n",
    "suffix = \"\"\"Begin!\"\n",
    "\n",
    "{chat_history}\n",
    "Question: {input}\n",
    "{agent_scratchpad}\"\"\"\n",
    "\n",
    "prompt = ZeroShotAgent.create_prompt(\n",
    "    tools, \n",
    "    prefix=prefix, \n",
    "    suffix=suffix, \n",
    "    input_variables=[\"input\", \"chat_history\", \"agent_scratchpad\"]\n",
    ")"
   ]
  },
  {
   "cell_type": "markdown",
   "source": [
    "ここでデータベースよりバックされたChatMessageHistoryを作成します。"
   ],
   "metadata": {
    "collapsed": false
   }
  },
  {
   "cell_type": "code",
   "execution_count": null,
   "outputs": [],
   "source": [
    "message_history = RedisChatMessageHistory(url='redis://redis-13197.c294.ap-northeast-1-2.ec2.cloud.redislabs.com:13197', ttl=60*60*24*10,password=redis_password, session_id='my-redis')\n",
    "memory = ConversationBufferMemory(memory_key=\"chat_history\", chat_memory=message_history)"
   ],
   "metadata": {
    "collapsed": false
   }
  },
  {
   "cell_type": "markdown",
   "id": "0021675b",
   "metadata": {},
   "source": [
    "これで、Memoryオブジェクトを持つLLMChainを構築し、エージェントを作成することができます。"
   ]
  },
  {
   "cell_type": "code",
   "execution_count": null,
   "id": "c56a0e73",
   "metadata": {},
   "outputs": [],
   "source": [
    "llm_chain = LLMChain(llm=ChatOpenAI(temperature=0, model_name=\"gpt-4\"), prompt=prompt)\n",
    "agent = ZeroShotAgent(llm_chain=llm_chain, tools=tools, verbose=True)\n",
    "agent_chain = AgentExecutor.from_agent_and_tools(agent=agent, tools=tools, verbose=True, memory=memory)"
   ]
  },
  {
   "cell_type": "code",
   "execution_count": null,
   "id": "ca4bc1fb",
   "metadata": {},
   "outputs": [],
   "source": [
    "agent_chain.run(input=\"Dead by Daylightの最新のアップデートはいつ行われましたか？\")"
   ]
  },
  {
   "cell_type": "markdown",
   "id": "45627664",
   "metadata": {},
   "source": [
    "このエージェントの記憶力を試すために、以前のやりとりの情報に依存して正しく回答されるような追質問をすることができます。"
   ]
  },
  {
   "cell_type": "code",
   "execution_count": null,
   "id": "eecc0462",
   "metadata": {},
   "outputs": [],
   "source": [
    "agent_chain.run(input=\"恵みのトーテムの現在の効果を教えてください。\")"
   ]
  },
  {
   "cell_type": "code",
   "execution_count": null,
   "outputs": [],
   "source": [
    "message_history.messages"
   ],
   "metadata": {
    "collapsed": false
   }
  },
  {
   "cell_type": "code",
   "execution_count": null,
   "outputs": [],
   "source": [],
   "metadata": {
    "collapsed": false
   }
  },
  {
   "cell_type": "code",
   "execution_count": null,
   "outputs": [],
   "source": [],
   "metadata": {
    "collapsed": false
   }
  }
 ],
 "metadata": {
  "kernelspec": {
   "display_name": "Python 3 (ipykernel)",
   "language": "python",
   "name": "python3"
  },
  "language_info": {
   "codemirror_mode": {
    "name": "ipython",
    "version": 3
   },
   "file_extension": ".py",
   "mimetype": "text/x-python",
   "name": "python",
   "nbconvert_exporter": "python",
   "pygments_lexer": "ipython3",
   "version": "3.9.1"
  }
 },
 "nbformat": 4,
 "nbformat_minor": 5
}

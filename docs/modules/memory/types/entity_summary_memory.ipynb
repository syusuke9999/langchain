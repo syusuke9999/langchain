{
 "cells": [
  {
   "cell_type": "markdown",
   "source": [
    "# エンティティ・メモリー\n",
    "このノートブックでは、特定のエンティティに関する情報を記憶するメモリモジュールの操作方法を示します。これは（LLMを使い）エンティティに関する情報を抽出し（同じくLLMを使い）そのエンティティに関する知識を時間と共に蓄積していきます。\n",
    "\n",
    "まず、この関数について簡単に説明します。"
   ],
   "metadata": {
    "collapsed": false
   }
  },
  {
   "cell_type": "code",
   "execution_count": null,
   "id": "1bea1181",
   "metadata": {},
   "outputs": [],
   "source": [
    "from langchain.chat_models import ChatOpenAI\n",
    "from langchain.memory import ConversationEntityMemory\n",
    "from langchain.memory.prompt import ENTITY_MEMORY_CONVERSATION_TEMPLATE\n",
    "from pprint import pprint\n",
    "\n",
    "llm = ChatOpenAI(temperature=0,verbose=True)"
   ]
  },
  {
   "cell_type": "code",
   "execution_count": null,
   "outputs": [],
   "source": [
    "llm"
   ],
   "metadata": {
    "collapsed": false
   }
  },
  {
   "cell_type": "code",
   "execution_count": null,
   "id": "34425079",
   "metadata": {},
   "outputs": [],
   "source": [
    "memory = ConversationEntityMemory(llm=llm)\n",
    "input = {\"input\": \"デイビッドとサムは同じハッカソンプロジェクトに取り組んでいます\"}\n",
    "memory.load_memory_variables(input)\n",
    "memory.save_context(\n",
    "    input,\n",
    "    {\"output\": \"素晴らしいプロジェクトのようですね！どんなプロジェクトなのでしょう？\"}\n",
    ")"
   ]
  },
  {
   "cell_type": "code",
   "execution_count": null,
   "id": "b425642c",
   "metadata": {},
   "outputs": [],
   "source": [
    "pprint(memory.load_memory_variables({\"input\": 'サムとは誰ですか？'}))"
   ]
  },
  {
   "cell_type": "code",
   "execution_count": null,
   "id": "3bf89b46",
   "metadata": {},
   "outputs": [],
   "source": [
    "memory = ConversationEntityMemory(llm=llm, return_messages=True)"
   ]
  },
  {
   "cell_type": "code",
   "execution_count": null,
   "outputs": [],
   "source": [
    "input = {\"input\": \"デイビッドとサムは同じハッカソンプロジェクトに取り組んでいる\"}"
   ],
   "metadata": {
    "collapsed": false
   }
  },
  {
   "cell_type": "code",
   "execution_count": null,
   "outputs": [],
   "source": [
    "memory.load_memory_variables(input)"
   ],
   "metadata": {
    "collapsed": false
   }
  },
  {
   "cell_type": "code",
   "execution_count": null,
   "outputs": [],
   "source": [
    "memory.save_context(\n",
    "    input,\n",
    "    {\"output\": \"素晴らしいプロジェクトのようですね！どんなプロジェクトなのでしょう？\"}\n",
    ")"
   ],
   "metadata": {
    "collapsed": false
   }
  },
  {
   "cell_type": "code",
   "execution_count": null,
   "id": "3e37d126",
   "metadata": {},
   "outputs": [],
   "source": [
    "memory.load_memory_variables({\"input\": 'サムとは誰ですか？'})"
   ]
  },
  {
   "cell_type": "markdown",
   "id": "ee5ad043",
   "metadata": {},
   "source": [
    "## チェーンで使用する\n",
    "それでは、チェーン内で使ってみましょう！"
   ]
  },
  {
   "cell_type": "code",
   "execution_count": null,
   "id": "13471fbd",
   "metadata": {},
   "outputs": [],
   "source": [
    "from langchain.chains import ConversationChain\n",
    "from langchain.memory import ConversationEntityMemory\n",
    "from langchain.memory.prompt import ENTITY_MEMORY_CONVERSATION_TEMPLATE\n",
    "# from pydantic import BaseModel\n",
    "# from typing import List, Dict, Any"
   ]
  },
  {
   "cell_type": "code",
   "execution_count": null,
   "id": "183346e2",
   "metadata": {},
   "outputs": [],
   "source": [
    "conversation = ConversationChain(\n",
    "    llm=llm, \n",
    "    verbose=True,\n",
    "    prompt=ENTITY_MEMORY_CONVERSATION_TEMPLATE,\n",
    "    memory=ConversationEntityMemory(llm=llm)\n",
    ")"
   ]
  },
  {
   "cell_type": "code",
   "execution_count": null,
   "id": "7eb1460a",
   "metadata": {},
   "outputs": [],
   "source": [
    "conversation.predict(input=\"デイビッドとサムは同じハッカソンプロジェクトに取り組んでいます\")"
   ]
  },
  {
   "cell_type": "code",
   "execution_count": null,
   "id": "0269f513",
   "metadata": {},
   "outputs": [],
   "source": [
    "conversation.memory.entity_store.store"
   ]
  },
  {
   "cell_type": "code",
   "execution_count": null,
   "id": "46324ca8",
   "metadata": {},
   "outputs": [],
   "source": [
    "conversation.predict(input=\"Langchainに、より複雑な構造のメモリ付け加えようとしています。\")"
   ]
  },
  {
   "cell_type": "code",
   "execution_count": null,
   "id": "ff2ebf6b",
   "metadata": {},
   "outputs": [],
   "source": [
    "conversation.predict(input=\"これまでの会話でも言及されたエンティティのKey-Valueストアを追加しようとしています。\")"
   ]
  },
  {
   "cell_type": "code",
   "execution_count": null,
   "id": "56cfd4ba",
   "metadata": {},
   "outputs": [],
   "source": [
    "conversation.predict(input=\"デイビッドとサムについて知っていることは？\")"
   ]
  },
  {
   "cell_type": "markdown",
   "id": "4e6df549",
   "metadata": {},
   "source": [
    "## メモリストアの検査\n",
    "メモリストアを直接検査することもできます。次の例では、直接メモリストアを確認し、情報を追加するいくつかの例を示して、変更の様子を見ていきます。"
   ]
  },
  {
   "cell_type": "code",
   "execution_count": null,
   "id": "038b4d3f",
   "metadata": {},
   "outputs": [],
   "source": [
    "pprint(conversation.memory.entity_store.store)"
   ]
  },
  {
   "cell_type": "code",
   "execution_count": null,
   "id": "2df4800e",
   "metadata": {},
   "outputs": [],
   "source": [
    "conversation.predict(input=\"サムはダイモンという会社の創業者です。\")"
   ]
  },
  {
   "cell_type": "code",
   "execution_count": null,
   "id": "ebe9e36f",
   "metadata": {},
   "outputs": [],
   "source": [
    "pprint(conversation.memory.entity_store.store)"
   ]
  },
  {
   "cell_type": "code",
   "execution_count": null,
   "id": "dd547144",
   "metadata": {},
   "outputs": [],
   "source": [
    "conversation.predict(input=\"サムについて知っていることは？\")"
   ]
  },
  {
   "cell_type": "code",
   "execution_count": null,
   "outputs": [],
   "source": [
    "memory.entity_store.store"
   ],
   "metadata": {
    "collapsed": false
   }
  }
 ],
 "metadata": {
  "kernelspec": {
   "display_name": "Python 3 (ipykernel)",
   "language": "python",
   "name": "python3"
  },
  "language_info": {
   "codemirror_mode": {
    "name": "ipython",
    "version": 3
   },
   "file_extension": ".py",
   "mimetype": "text/x-python",
   "name": "python",
   "nbconvert_exporter": "python",
   "pygments_lexer": "ipython3",
   "version": "3.10.10"
  }
 },
 "nbformat": 4,
 "nbformat_minor": 5
}

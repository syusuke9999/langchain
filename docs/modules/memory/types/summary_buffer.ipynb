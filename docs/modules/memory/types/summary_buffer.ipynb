{
 "cells": [
  {
   "cell_type": "markdown",
   "id": "ff4be5f3",
   "metadata": {},
   "source": [
    "# ConversationSummaryBufferMemory\n",
    "\n",
    "`ConversationSummaryBufferMemory` は、前回の2つのアイデアを組み合わせたものです。最近の対話のバッファをメモリに保持し、古い対話を完全に消去するのではなく、サマリーとして編集し、その両方を使用します。ただし、前回の実装とは異なり、対話のフラッシュを決定するためにトークンの長さを使用します。\n",
    "\n",
    "まず、ユーティリティの使用方法を説明します。"
   ]
  },
  {
   "cell_type": "code",
   "execution_count": null,
   "id": "da3384db",
   "metadata": {},
   "outputs": [],
   "source": [
    "from langchain.memory import ConversationSummaryBufferMemory\n",
    "from langchain.llms import OpenAI\n",
    "llm = OpenAI()"
   ]
  },
  {
   "cell_type": "code",
   "execution_count": null,
   "id": "e00d4938",
   "metadata": {},
   "outputs": [],
   "source": [
    "memory = ConversationSummaryBufferMemory(llm=llm, max_token_limit=10)\n",
    "memory.save_context({\"input\": \"やあ\"}, {\"output\": \"どうしたの？\"})\n",
    "memory.save_context({\"input\": \"なにもない\"}, {\"output\": \"あまりない\"})"
   ]
  },
  {
   "cell_type": "code",
   "execution_count": null,
   "id": "2fe28a28",
   "metadata": {},
   "outputs": [],
   "source": [
    "memory.load_memory_variables({})"
   ]
  },
  {
   "cell_type": "markdown",
   "id": "cf57b97a",
   "metadata": {},
   "source": [
    "履歴をメッセージのリストとして取得することもできます (これはチャットモデルと一緒に使用する場合に便利です)。"
   ]
  },
  {
   "cell_type": "code",
   "execution_count": null,
   "id": "3422a3a8",
   "metadata": {},
   "outputs": [],
   "source": [
    "memory = ConversationSummaryBufferMemory(llm=llm, max_token_limit=300, return_messages=True)\n",
    "memory.save_context({\"input\": \"やあ\"}, {\"output\": \"どうしたの？\"})\n",
    "memory.save_context({\"input\": \"なんでもない\"}, {\"output\": \"なんだ\"})"
   ]
  },
  {
   "cell_type": "markdown",
   "id": "a1dcaaee",
   "metadata": {},
   "source": [
    "また、`predict_new_summary`メソッドを直接利用することも可能です。"
   ]
  },
  {
   "cell_type": "code",
   "execution_count": null,
   "id": "fd7d7d6b",
   "metadata": {},
   "outputs": [],
   "source": [
    "messages = memory.chat_memory.messages\n",
    "previous_summary = \"\"\n",
    "memory.predict_new_summary(messages, previous_summary)"
   ]
  },
  {
   "cell_type": "markdown",
   "id": "a6d2569f",
   "metadata": {},
   "source": [
    "## チェーンで使う\n",
    "プロンプトが表示されるように `verbose=True` を設定して、サンプルを見てみましょう。"
   ]
  },
  {
   "cell_type": "code",
   "execution_count": null,
   "id": "ebd68c10",
   "metadata": {},
   "outputs": [],
   "source": [
    "from langchain.chains import ConversationChain\n",
    "conversation_with_summary = ConversationChain(\n",
    "    llm=llm, \n",
    "    # テストのため、非常に低いmax_token_limitを設定しました。\n",
    "    memory=ConversationSummaryBufferMemory(llm=OpenAI(), max_token_limit=40),\n",
    "    verbose=True\n",
    ")\n",
    "conversation_with_summary.predict(input=\"やあ、どうしたんだい？\")"
   ]
  },
  {
   "cell_type": "code",
   "execution_count": null,
   "id": "86207a61",
   "metadata": {},
   "outputs": [],
   "source": [
    "conversation_with_summary.predict(input=\"ただ、ドキュメントを書く作業をしています！\")"
   ]
  },
  {
   "cell_type": "code",
   "execution_count": null,
   "id": "76a0ab39",
   "metadata": {},
   "outputs": [],
   "source": [
    "# We can see here that there is a summary of the conversation and then some previous interactions\n",
    "conversation_with_summary.predict(input=\"LangChain（ラングチェーン）について！聞いたことありますか？\")"
   ]
  },
  {
   "cell_type": "code",
   "execution_count": null,
   "id": "8c669db1",
   "metadata": {},
   "outputs": [],
   "source": [
    "# We can see here that the summary and the buffer are updated\n",
    "conversation_with_summary.predict(input=\"いや、そうではなく、多くの人がそれを混同しているのです。\")"
   ]
  },
  {
   "cell_type": "code",
   "execution_count": null,
   "id": "8c09a239",
   "metadata": {},
   "outputs": [],
   "source": []
  }
 ],
 "metadata": {
  "kernelspec": {
   "display_name": "Python 3 (ipykernel)",
   "language": "python",
   "name": "python3"
  },
  "language_info": {
   "codemirror_mode": {
    "name": "ipython",
    "version": 3
   },
   "file_extension": ".py",
   "mimetype": "text/x-python",
   "name": "python",
   "nbconvert_exporter": "python",
   "pygments_lexer": "ipython3",
   "version": "3.9.1"
  }
 },
 "nbformat": 4,
 "nbformat_minor": 5
}

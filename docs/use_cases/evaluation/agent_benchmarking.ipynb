{
 "cells": [
  {
   "cell_type": "markdown",
   "id": "984169ca",
   "metadata": {},
   "source": [
    "# エージェントのベンチマーキング: 検索 + 計算機\n",
    "\n",
    "ここでは、計算機と検索ツールにアクセスできるタスクでエージェントのパフォーマンスをベンチマークする方法について説明します。\n",
    "\n",
    "トレースを有効にして評価/ベンチマークを行うことを強くお勧めします。トレースとは何か、どのように設定するかについては[こちら](https://langchain.readthedocs.io/en/latest/tracing.html)をご覧ください。"
   ]
  },
  {
   "cell_type": "code",
   "execution_count": null,
   "id": "46bf9205",
   "metadata": {
    "tags": []
   },
   "outputs": [],
   "source": [
    "# トレーシングを使用しない場合は、コメントアウトしてください。\n",
    "import os\n",
    "os.environ[\"LANGCHAIN_HANDLER\"] = \"langchain\""
   ]
  },
  {
   "cell_type": "markdown",
   "id": "8a16b75d",
   "metadata": {},
   "source": [
    "## データの読み込み\n",
    "まずは、データを読み込みましょう。"
   ]
  },
  {
   "cell_type": "code",
   "execution_count": null,
   "id": "5b2d5e98",
   "metadata": {
    "tags": []
   },
   "outputs": [],
   "source": [
    "from langchain.evaluation.loading import load_dataset\n",
    "dataset = load_dataset(\"agent-search-calculator\")"
   ]
  },
  {
   "cell_type": "markdown",
   "id": "4ab6a716",
   "metadata": {},
   "source": [
    "## チェーンの設定\n",
    "次に、これらの質問に答えることができるエージェントをロードする必要があります。"
   ]
  },
  {
   "cell_type": "code",
   "execution_count": null,
   "id": "c18680b5",
   "metadata": {
    "tags": []
   },
   "outputs": [],
   "source": [
    "from langchain.llms import OpenAI\n",
    "from langchain.chains import LLMMathChain\n",
    "from langchain.agents import initialize_agent, Tool, load_tools\n",
    "from langchain.agents import AgentType\n",
    "\n",
    "tools = load_tools(['serpapi', 'llm-math'], llm=OpenAI(temperature=0))\n",
    "agent = initialize_agent(tools, OpenAI(temperature=0), agent=AgentType.ZERO_SHOT_REACT_DESCRIPTION, verbose=True)"
   ]
  },
  {
   "cell_type": "markdown",
   "id": "68504a8f",
   "metadata": {},
   "source": [
    "## 予測を行う\n",
    "\n",
    "まず、私たちは1つのデータポイントごとに予測を行うことができます。この粒度で行うことで、出力を詳細に探索することができます。また、複数のデータポイントに対して実行するよりもコストを抑えることができます。"
   ]
  },
  {
   "cell_type": "code",
   "execution_count": null,
   "id": "cbcafc92",
   "metadata": {
    "tags": []
   },
   "outputs": [],
   "source": [
    "print(dataset[0]['question'])\n",
    "agent.run(dataset[0]['question'])"
   ]
  },
  {
   "cell_type": "markdown",
   "id": "d0c16cd7",
   "metadata": {},
   "source": [
    "## たくさんの予測を作る\n",
    "これで予測を作成することができます。"
   ]
  },
  {
   "cell_type": "code",
   "execution_count": null,
   "id": "bbbbb20e",
   "metadata": {
    "tags": []
   },
   "outputs": [],
   "source": [
    "agent.run(dataset[4]['question'])"
   ]
  },
  {
   "cell_type": "code",
   "execution_count": null,
   "id": "24b4c66e",
   "metadata": {
    "tags": []
   },
   "outputs": [],
   "source": [
    "predictions = []\n",
    "predicted_dataset = []\n",
    "error_dataset = []\n",
    "for data in dataset:\n",
    "    new_data = {\"input\": data[\"question\"], \"answer\": data[\"answer\"]}\n",
    "    try:\n",
    "        predictions.append(agent(new_data))\n",
    "        predicted_dataset.append(new_data)\n",
    "    except Exception as e:\n",
    "        predictions.append({\"output\": str(e), **new_data})\n",
    "        error_dataset.append(new_data)"
   ]
  },
  {
   "cell_type": "markdown",
   "id": "49d969fb",
   "metadata": {},
   "source": [
    "## 性能評価\n",
    "予測結果を評価できるようになりました。最初に行うことは、目視で予測結果を確認することです。"
   ]
  },
  {
   "cell_type": "code",
   "execution_count": null,
   "id": "1d583f03",
   "metadata": {
    "tags": []
   },
   "outputs": [],
   "source": [
    "predictions[0]"
   ]
  },
  {
   "cell_type": "markdown",
   "id": "4783344b",
   "metadata": {},
   "source": [
    "次に、言語モデルを使用して、それらをプログラム的にスコアリングすることができます。"
   ]
  },
  {
   "cell_type": "code",
   "execution_count": null,
   "id": "d0a9341d",
   "metadata": {
    "tags": []
   },
   "outputs": [],
   "source": [
    "from langchain.evaluation.qa import QAEvalChain"
   ]
  },
  {
   "cell_type": "code",
   "execution_count": null,
   "id": "1612dec1",
   "metadata": {
    "tags": []
   },
   "outputs": [],
   "source": [
    "llm = OpenAI(temperature=0)\n",
    "eval_chain = QAEvalChain.from_llm(llm)\n",
    "graded_outputs = eval_chain.evaluate(dataset, predictions, question_key=\"question\", prediction_key=\"output\")"
   ]
  },
  {
   "cell_type": "markdown",
   "id": "79587806",
   "metadata": {},
   "source": [
    "`predictions` 辞書に評価済みの出力を追加し、そのグレードの数をカウントすることができます。"
   ]
  },
  {
   "cell_type": "code",
   "execution_count": null,
   "id": "2a689df5",
   "metadata": {
    "tags": []
   },
   "outputs": [],
   "source": [
    "for i, prediction in enumerate(predictions):\n",
    "    prediction['grade'] = graded_outputs[i]['text']"
   ]
  },
  {
   "cell_type": "code",
   "execution_count": null,
   "id": "27b61215",
   "metadata": {
    "tags": []
   },
   "outputs": [],
   "source": [
    "from collections import Counter\n",
    "Counter([pred['grade'] for pred in predictions])"
   ]
  },
  {
   "cell_type": "markdown",
   "id": "12fe30f4",
   "metadata": {},
   "source": [
    "間違った例をフィルタリングして、それらを見ることもできます。"
   ]
  },
  {
   "cell_type": "code",
   "execution_count": null,
   "id": "47c692a1",
   "metadata": {},
   "outputs": [],
   "source": [
    "incorrect = [pred for pred in predictions if pred['grade'] == \" INCORRECT\"]"
   ]
  },
  {
   "cell_type": "code",
   "execution_count": null,
   "id": "0ef976c1",
   "metadata": {},
   "outputs": [],
   "source": [
    "incorrect"
   ]
  },
  {
   "cell_type": "code",
   "execution_count": null,
   "id": "3eb948cf-f767-4c87-a12d-275b66eef407",
   "metadata": {},
   "outputs": [],
   "source": []
  }
 ],
 "metadata": {
  "kernelspec": {
   "display_name": "Python 3 (ipykernel)",
   "language": "python",
   "name": "python3"
  },
  "language_info": {
   "codemirror_mode": {
    "name": "ipython",
    "version": 3
   },
   "file_extension": ".py",
   "mimetype": "text/x-python",
   "name": "python",
   "nbconvert_exporter": "python",
   "pygments_lexer": "ipython3",
   "version": "3.9.1"
  }
 },
 "nbformat": 4,
 "nbformat_minor": 5
}
